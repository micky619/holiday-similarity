{
 "cells": [
  {
   "cell_type": "code",
   "execution_count": 1,
   "metadata": {},
   "outputs": [
    {
     "name": "stderr",
     "output_type": "stream",
     "text": [
      "/home/ubuntu/anaconda3/lib/python3.6/site-packages/h5py/__init__.py:36: FutureWarning: Conversion of the second argument of issubdtype from `float` to `np.floating` is deprecated. In future, it will be treated as `np.float64 == np.dtype(float).type`.\n",
      "  from ._conv import register_converters as _register_converters\n",
      "Using TensorFlow backend.\n",
      "/home/ubuntu/anaconda3/lib/python3.6/site-packages/matplotlib/__init__.py:1067: UserWarning: Duplicate key in file \"/home/ubuntu/.config/matplotlib/matplotlibrc\", line #2\n",
      "  (fname, cnt))\n",
      "/home/ubuntu/anaconda3/lib/python3.6/site-packages/matplotlib/__init__.py:1067: UserWarning: Duplicate key in file \"/home/ubuntu/.config/matplotlib/matplotlibrc\", line #3\n",
      "  (fname, cnt))\n"
     ]
    }
   ],
   "source": [
    "from __future__ import division, print_function\n",
    "from scipy.misc import imresize\n",
    "from keras.applications import vgg16, vgg19, inception_v3, resnet50, xception\n",
    "from keras.models import Model\n",
    "import matplotlib.pyplot as plt\n",
    "import numpy as np\n",
    "import os\n",
    "%matplotlib inline"
   ]
  },
  {
   "cell_type": "code",
   "execution_count": 2,
   "metadata": {},
   "outputs": [],
   "source": [
    "DATA_DIR = \"\"\n",
    "IMAGE_DIR = os.path.join(DATA_DIR, \"images\")"
   ]
  },
  {
   "cell_type": "code",
   "execution_count": 3,
   "metadata": {},
   "outputs": [],
   "source": [
    "def image_batch_generator(image_names, batch_size):\n",
    "    num_batches = len(image_names) // batch_size\n",
    "    for i in range(num_batches):\n",
    "        batch = image_names[i * batch_size : (i + 1) * batch_size]\n",
    "        yield batch\n",
    "    batch = image_names[(i+1) * batch_size:]\n",
    "    yield batch\n",
    "    \n",
    "def vectorize_images(image_dir, image_size, preprocessor, \n",
    "                     model, vector_file, batch_size=32):\n",
    "    image_names = os.listdir(image_dir)\n",
    "    num_vecs = 0\n",
    "    fvec = open(vector_file, \"wb\")\n",
    "    for image_batch in image_batch_generator(image_names, batch_size):\n",
    "        batched_images = []\n",
    "        for image_name in image_batch:\n",
    "            image = plt.imread(os.path.join(image_dir, image_name))\n",
    "            image = imresize(image, (image_size, image_size))\n",
    "            batched_images.append(image)\n",
    "        X = preprocessor(np.array(batched_images, dtype=\"float32\"))\n",
    "        vectors = model.predict(X)\n",
    "        for i in range(vectors.shape[0]):\n",
    "            if num_vecs % 100 == 0:\n",
    "                print(\"{:d} vectors generated\".format(num_vecs))\n",
    "            image_vector = \",\".join([\"{:.5e}\".format(v) for v in vectors[i].tolist()])\n",
    "#             fvec.write(\"{:s}\\t{:s}\\n\".format(image_batch[i], image_vector))\n",
    "            fvec.write(bytes(image_batch[i]+\"\\t\", encoding = \"utf8\"))\n",
    "            fvec.write(bytes(image_vector+\"\\n\" ,encoding = \"utf8\"))\n",
    "            num_vecs += 1\n",
    "    print(\"{:d} vectors generated\".format(num_vecs))\n",
    "    fvec.close()"
   ]
  },
  {
   "cell_type": "code",
   "execution_count": 4,
   "metadata": {},
   "outputs": [
    {
     "name": "stderr",
     "output_type": "stream",
     "text": [
      "/home/ubuntu/anaconda3/lib/python3.6/site-packages/ipykernel_launcher.py:7: UserWarning: Update your `Model` call to the Keras 2 API: `Model(inputs=Tensor(\"in..., outputs=Tensor(\"fc...)`\n",
      "  import sys\n",
      "/home/ubuntu/anaconda3/lib/python3.6/site-packages/ipykernel_launcher.py:18: DeprecationWarning: `imresize` is deprecated!\n",
      "`imresize` is deprecated in SciPy 1.0.0, and will be removed in 1.2.0.\n",
      "Use ``skimage.transform.resize`` instead.\n"
     ]
    },
    {
     "name": "stdout",
     "output_type": "stream",
     "text": [
      "0 vectors generated\n",
      "100 vectors generated\n",
      "200 vectors generated\n",
      "300 vectors generated\n",
      "400 vectors generated\n",
      "414 vectors generated\n"
     ]
    }
   ],
   "source": [
    "IMAGE_SIZE = 224\n",
    "VECTOR_FILE = os.path.join(DATA_DIR,\"weights\" , \"accton-vgg16-vectors.tsv\")\n",
    "\n",
    "vgg16_model = vgg16.VGG16(weights=\"imagenet\", include_top=True)\n",
    "# vgg16_model.summary()\n",
    "model = Model(input=vgg16_model.input,\n",
    "             output=vgg16_model.get_layer(\"fc2\").output)\n",
    "preprocessor = vgg16.preprocess_input\n",
    "vectorize_images(IMAGE_DIR, IMAGE_SIZE, preprocessor, model, VECTOR_FILE)"
   ]
  },
  {
   "cell_type": "code",
   "execution_count": 5,
   "metadata": {},
   "outputs": [
    {
     "name": "stderr",
     "output_type": "stream",
     "text": [
      "/home/ubuntu/anaconda3/lib/python3.6/site-packages/ipykernel_launcher.py:8: UserWarning: Update your `Model` call to the Keras 2 API: `Model(inputs=Tensor(\"in..., outputs=Tensor(\"fc...)`\n",
      "  \n",
      "/home/ubuntu/anaconda3/lib/python3.6/site-packages/ipykernel_launcher.py:18: DeprecationWarning: `imresize` is deprecated!\n",
      "`imresize` is deprecated in SciPy 1.0.0, and will be removed in 1.2.0.\n",
      "Use ``skimage.transform.resize`` instead.\n"
     ]
    },
    {
     "name": "stdout",
     "output_type": "stream",
     "text": [
      "0 vectors generated\n",
      "100 vectors generated\n",
      "200 vectors generated\n",
      "300 vectors generated\n",
      "400 vectors generated\n",
      "414 vectors generated\n"
     ]
    }
   ],
   "source": [
    "IMAGE_SIZE = 224\n",
    "VECTOR_FILE = os.path.join(DATA_DIR,\"weights\", \"accton-vgg19-vectors.tsv\")\n",
    "\n",
    "vgg19_model = vgg19.VGG19(weights=\"imagenet\", include_top=True)\n",
    "# vgg19_model.summary()\n",
    "#In [7]:\n",
    "model = Model(input=vgg19_model.input,\n",
    "             output=vgg19_model.get_layer(\"fc2\").output)\n",
    "preprocessor = vgg19.preprocess_input\n",
    "\n",
    "vectorize_images(IMAGE_DIR, IMAGE_SIZE, preprocessor, model, VECTOR_FILE)"
   ]
  },
  {
   "cell_type": "code",
   "execution_count": 6,
   "metadata": {},
   "outputs": [
    {
     "name": "stderr",
     "output_type": "stream",
     "text": [
      "/home/ubuntu/anaconda3/lib/python3.6/site-packages/ipykernel_launcher.py:8: UserWarning: Update your `Model` call to the Keras 2 API: `Model(inputs=Tensor(\"in..., outputs=Tensor(\"av...)`\n",
      "  \n",
      "/home/ubuntu/anaconda3/lib/python3.6/site-packages/ipykernel_launcher.py:18: DeprecationWarning: `imresize` is deprecated!\n",
      "`imresize` is deprecated in SciPy 1.0.0, and will be removed in 1.2.0.\n",
      "Use ``skimage.transform.resize`` instead.\n"
     ]
    },
    {
     "name": "stdout",
     "output_type": "stream",
     "text": [
      "0 vectors generated\n",
      "100 vectors generated\n",
      "200 vectors generated\n",
      "300 vectors generated\n",
      "400 vectors generated\n",
      "414 vectors generated\n"
     ]
    }
   ],
   "source": [
    "IMAGE_SIZE = 299\n",
    "VECTOR_FILE = os.path.join(DATA_DIR,\"weights\", \"accton-inception-vectors.tsv\")\n",
    "\n",
    "inception_model = inception_v3.InceptionV3(weights=\"imagenet\", include_top=True)\n",
    "# inception_model.summary()\n",
    "\n",
    "model = Model(input=inception_model.input,\n",
    "             output=inception_model.get_layer(\"avg_pool\").output)\n",
    "preprocessor = inception_v3.preprocess_input\n",
    "\n",
    "vectorize_images(IMAGE_DIR, IMAGE_SIZE, preprocessor, model, VECTOR_FILE)"
   ]
  },
  {
   "cell_type": "code",
   "execution_count": 7,
   "metadata": {},
   "outputs": [
    {
     "name": "stderr",
     "output_type": "stream",
     "text": [
      "/home/ubuntu/anaconda3/lib/python3.6/site-packages/ipykernel_launcher.py:9: UserWarning: Update your `Model` call to the Keras 2 API: `Model(inputs=Tensor(\"in..., outputs=Tensor(\"fl...)`\n",
      "  if __name__ == '__main__':\n",
      "/home/ubuntu/anaconda3/lib/python3.6/site-packages/ipykernel_launcher.py:18: DeprecationWarning: `imresize` is deprecated!\n",
      "`imresize` is deprecated in SciPy 1.0.0, and will be removed in 1.2.0.\n",
      "Use ``skimage.transform.resize`` instead.\n"
     ]
    },
    {
     "name": "stdout",
     "output_type": "stream",
     "text": [
      "0 vectors generated\n",
      "100 vectors generated\n",
      "200 vectors generated\n",
      "300 vectors generated\n",
      "400 vectors generated\n",
      "414 vectors generated\n"
     ]
    }
   ],
   "source": [
    "IMAGE_SIZE = 224\n",
    "VECTOR_FILE = os.path.join(DATA_DIR,\"weights\", \"accton-resnet-vectors.tsv\")\n",
    "\n",
    "resnet_model = resnet50.ResNet50(weights=\"imagenet\", include_top=True)\n",
    "# resnet_model.summary()\n",
    "\n",
    "\n",
    "model = Model(input=resnet_model.input,\n",
    "             output=resnet_model.get_layer(\"flatten_1\").output)\n",
    "preprocessor = resnet50.preprocess_input\n",
    "\n",
    "vectorize_images(IMAGE_DIR, IMAGE_SIZE, preprocessor, model, VECTOR_FILE)"
   ]
  },
  {
   "cell_type": "code",
   "execution_count": 8,
   "metadata": {},
   "outputs": [
    {
     "name": "stderr",
     "output_type": "stream",
     "text": [
      "/home/ubuntu/anaconda3/lib/python3.6/site-packages/ipykernel_launcher.py:9: UserWarning: Update your `Model` call to the Keras 2 API: `Model(inputs=Tensor(\"in..., outputs=Tensor(\"av...)`\n",
      "  if __name__ == '__main__':\n",
      "/home/ubuntu/anaconda3/lib/python3.6/site-packages/ipykernel_launcher.py:18: DeprecationWarning: `imresize` is deprecated!\n",
      "`imresize` is deprecated in SciPy 1.0.0, and will be removed in 1.2.0.\n",
      "Use ``skimage.transform.resize`` instead.\n"
     ]
    },
    {
     "name": "stdout",
     "output_type": "stream",
     "text": [
      "0 vectors generated\n",
      "100 vectors generated\n",
      "200 vectors generated\n",
      "300 vectors generated\n",
      "400 vectors generated\n",
      "414 vectors generated\n"
     ]
    }
   ],
   "source": [
    "IMAGE_SIZE = 299\n",
    "VECTOR_FILE = os.path.join(DATA_DIR,\"weights\", \"accton-xception-vectors.tsv\")\n",
    "\n",
    "xception_model = xception.Xception(weights=\"imagenet\", include_top=True)\n",
    "# xception_model.summary()\n",
    "\n",
    "model = Model(input=xception_model.input,\n",
    "             output=xception_model.get_layer(\"avg_pool\").output)\n",
    "preprocessor = xception.preprocess_input\n",
    "\n",
    "vectorize_images(IMAGE_DIR, IMAGE_SIZE, preprocessor, model, VECTOR_FILE)\n"
   ]
  },
  {
   "cell_type": "code",
   "execution_count": null,
   "metadata": {},
   "outputs": [],
   "source": []
  }
 ],
 "metadata": {
  "kernelspec": {
   "display_name": "Python 3",
   "language": "python",
   "name": "python3"
  },
  "language_info": {
   "codemirror_mode": {
    "name": "ipython",
    "version": 3
   },
   "file_extension": ".py",
   "mimetype": "text/x-python",
   "name": "python",
   "nbconvert_exporter": "python",
   "pygments_lexer": "ipython3",
   "version": "3.6.4"
  }
 },
 "nbformat": 4,
 "nbformat_minor": 2
}
