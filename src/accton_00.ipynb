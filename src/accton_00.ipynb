{
 "cells": [
  {
   "cell_type": "code",
   "execution_count": 1,
   "metadata": {},
   "outputs": [],
   "source": [
    "import os \n",
    "import shutil \n",
    "from shutil import copyfile\n",
    "from os import listdir\n",
    "from os.path import isfile, isdir, join"
   ]
  },
  {
   "cell_type": "code",
   "execution_count": 2,
   "metadata": {},
   "outputs": [
    {
     "data": {
      "text/plain": [
       "'/home/ubuntu/siamese'"
      ]
     },
     "execution_count": 2,
     "metadata": {},
     "output_type": "execute_result"
    }
   ],
   "source": [
    "os.getcwd()"
   ]
  },
  {
   "cell_type": "code",
   "execution_count": 3,
   "metadata": {},
   "outputs": [],
   "source": [
    "path = '/home/ubuntu/siamese/golden_finding/FU1MK4121000A' \n",
    "new_path = '/home/ubuntu/siamese/golden_finding/Re_FU1MK4121000A/' "
   ]
  },
  {
   "cell_type": "code",
   "execution_count": 4,
   "metadata": {},
   "outputs": [],
   "source": [
    "j = 0\n",
    "filename = []\n",
    "all_filename = []\n",
    "new_filename = []\n",
    "all_new_filename = []\n",
    "\n",
    "for root, dirs, files in os.walk(path): \n",
    "#     if len(dirs) != 0: \n",
    "        for i in range(len(files)): \n",
    "            if files[i][-3:] == 'jpg': \n",
    "                file_path = root+'/'+files[i] \n",
    "#                 print(files[i])\n",
    "                all_filename.append(files[i])\n",
    "                sourcename = file_path\n",
    "\n",
    "                j = j + 1\n",
    "            \n",
    "                new_filename = '_FU1MK4121000A_' + str(j).zfill(4) + '.jpg'\n",
    "#                 print(new_filename)\n",
    "                all_new_filename.append(new_filename)\n",
    "                targetname =new_path + new_filename\n",
    "#                 print(sourcename)\n",
    "#                 print(targetname)\n",
    "\n",
    "                copyfile(sourcename,targetname)"
   ]
  },
  {
   "cell_type": "code",
   "execution_count": 5,
   "metadata": {},
   "outputs": [
    {
     "name": "stderr",
     "output_type": "stream",
     "text": [
      "/usr/local/lib/python2.7/dist-packages/matplotlib/__init__.py:1067: UserWarning: Duplicate key in file \"/home/ubuntu/.config/matplotlib/matplotlibrc\", line #2\n",
      "  (fname, cnt))\n",
      "/usr/local/lib/python2.7/dist-packages/matplotlib/__init__.py:1067: UserWarning: Duplicate key in file \"/home/ubuntu/.config/matplotlib/matplotlibrc\", line #3\n",
      "  (fname, cnt))\n"
     ]
    },
    {
     "data": {
      "text/html": [
       "<div>\n",
       "<style scoped>\n",
       "    .dataframe tbody tr th:only-of-type {\n",
       "        vertical-align: middle;\n",
       "    }\n",
       "\n",
       "    .dataframe tbody tr th {\n",
       "        vertical-align: top;\n",
       "    }\n",
       "\n",
       "    .dataframe thead th {\n",
       "        text-align: right;\n",
       "    }\n",
       "</style>\n",
       "<table border=\"1\" class=\"dataframe\">\n",
       "  <thead>\n",
       "    <tr style=\"text-align: right;\">\n",
       "      <th></th>\n",
       "      <th>org_filename</th>\n",
       "      <th>new_filename</th>\n",
       "    </tr>\n",
       "  </thead>\n",
       "  <tbody>\n",
       "    <tr>\n",
       "      <th>0</th>\n",
       "      <td>FU1MK4121000A_71078a85-61d4-40ed-9527-ac840cd3...</td>\n",
       "      <td>_FU1MK4121000A_0001.jpg</td>\n",
       "    </tr>\n",
       "    <tr>\n",
       "      <th>1</th>\n",
       "      <td>FU1MK4121000A_1d736045-0fca-490d-8e4e-f3d73fc3...</td>\n",
       "      <td>_FU1MK4121000A_0002.jpg</td>\n",
       "    </tr>\n",
       "    <tr>\n",
       "      <th>2</th>\n",
       "      <td>FU1MK4121000A_8ce40071-59da-490e-91c1-1aa35996...</td>\n",
       "      <td>_FU1MK4121000A_0003.jpg</td>\n",
       "    </tr>\n",
       "    <tr>\n",
       "      <th>3</th>\n",
       "      <td>FU1MK4121000A_0b09a491-2707-4f38-bdc0-3bde5352...</td>\n",
       "      <td>_FU1MK4121000A_0004.jpg</td>\n",
       "    </tr>\n",
       "    <tr>\n",
       "      <th>4</th>\n",
       "      <td>FU1MK4121000A_85ee2a8a-fea9-429f-98b1-2917e9e0...</td>\n",
       "      <td>_FU1MK4121000A_0005.jpg</td>\n",
       "    </tr>\n",
       "  </tbody>\n",
       "</table>\n",
       "</div>"
      ],
      "text/plain": [
       "                                        org_filename             new_filename\n",
       "0  FU1MK4121000A_71078a85-61d4-40ed-9527-ac840cd3...  _FU1MK4121000A_0001.jpg\n",
       "1  FU1MK4121000A_1d736045-0fca-490d-8e4e-f3d73fc3...  _FU1MK4121000A_0002.jpg\n",
       "2  FU1MK4121000A_8ce40071-59da-490e-91c1-1aa35996...  _FU1MK4121000A_0003.jpg\n",
       "3  FU1MK4121000A_0b09a491-2707-4f38-bdc0-3bde5352...  _FU1MK4121000A_0004.jpg\n",
       "4  FU1MK4121000A_85ee2a8a-fea9-429f-98b1-2917e9e0...  _FU1MK4121000A_0005.jpg"
      ]
     },
     "execution_count": 5,
     "metadata": {},
     "output_type": "execute_result"
    }
   ],
   "source": [
    "import pandas as pd\n",
    "\n",
    "df = pd.DataFrame()\n",
    "df['org_filename'] = all_filename\n",
    "df['new_filename'] = all_new_filename\n",
    "df.to_csv('FU1MK4121000A.csv', encoding='utf-8', index=False)\n",
    "df.head()"
   ]
  },
  {
   "cell_type": "code",
   "execution_count": null,
   "metadata": {},
   "outputs": [],
   "source": []
  }
 ],
 "metadata": {
  "kernelspec": {
   "display_name": "Python 2",
   "language": "python",
   "name": "python2"
  },
  "language_info": {
   "codemirror_mode": {
    "name": "ipython",
    "version": 2
   },
   "file_extension": ".py",
   "mimetype": "text/x-python",
   "name": "python",
   "nbconvert_exporter": "python",
   "pygments_lexer": "ipython2",
   "version": "2.7.12"
  }
 },
 "nbformat": 4,
 "nbformat_minor": 2
}
