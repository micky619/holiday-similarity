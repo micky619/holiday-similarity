{
 "cells": [
  {
   "cell_type": "code",
   "execution_count": 1,
   "metadata": {},
   "outputs": [
    {
     "name": "stderr",
     "output_type": "stream",
     "text": [
      "/home/ubuntu/anaconda3/lib/python3.6/site-packages/matplotlib/__init__.py:1067: UserWarning: Duplicate key in file \"/home/ubuntu/.config/matplotlib/matplotlibrc\", line #2\n",
      "  (fname, cnt))\n",
      "/home/ubuntu/anaconda3/lib/python3.6/site-packages/matplotlib/__init__.py:1067: UserWarning: Duplicate key in file \"/home/ubuntu/.config/matplotlib/matplotlibrc\", line #3\n",
      "  (fname, cnt))\n"
     ]
    }
   ],
   "source": [
    "from __future__ import division, print_function\n",
    "from sklearn.ensemble import RandomForestClassifier\n",
    "from sklearn.externals import joblib\n",
    "from sklearn.model_selection import train_test_split, KFold\n",
    "from sklearn.naive_bayes import GaussianNB\n",
    "from sklearn.metrics import accuracy_score, confusion_matrix, classification_report\n",
    "from sklearn.svm import LinearSVC\n",
    "from xgboost import XGBClassifier\n",
    "import itertools\n",
    "import matplotlib.pyplot as plt\n",
    "import numpy as np\n",
    "import os\n",
    "%matplotlib inline"
   ]
  },
  {
   "cell_type": "code",
   "execution_count": 2,
   "metadata": {},
   "outputs": [],
   "source": [
    "#In [2]:\n",
    "DATA_DIR = \"\"\n",
    "IMAGE_DIR = os.path.join(DATA_DIR, \"images\")"
   ]
  },
  {
   "cell_type": "code",
   "execution_count": 3,
   "metadata": {},
   "outputs": [],
   "source": [
    "#In [3]:\n",
    "def get_holiday_triples(image_dir):\n",
    "    image_groups = {}\n",
    "    for image_name in os.listdir(image_dir):\n",
    "        base_name = image_name[0:-4]\n",
    "        group_name = base_name[0:4]\n",
    "        if group_name in image_groups:\n",
    "            image_groups[group_name].append(image_name)\n",
    "        else:\n",
    "            image_groups[group_name] = [image_name]\n",
    "    num_sims = 0\n",
    "    image_triples = []\n",
    "    group_list = sorted(list(image_groups.keys()))\n",
    "    for i, g in enumerate(group_list):\n",
    "        if num_sims % 100 == 0:\n",
    "            print(\"Generated {:d} pos + {:d} neg = {:d} total image triples\"\n",
    "                  .format(num_sims, num_sims, 2*num_sims))\n",
    "        images_in_group = image_groups[g]\n",
    "        sim_pairs_it = itertools.combinations(images_in_group, 2)\n",
    "        # for each similar pair, generate a corresponding different pair\n",
    "        for ref_image, sim_image in sim_pairs_it:\n",
    "            image_triples.append((ref_image, sim_image, 1))\n",
    "            num_sims += 1\n",
    "            while True:\n",
    "                j = np.random.randint(low=0, high=len(group_list), size=1)[0]\n",
    "                if j != i:\n",
    "                    break\n",
    "            dif_image_candidates = image_groups[group_list[j]]\n",
    "            k = np.random.randint(low=0, high=len(dif_image_candidates), size=1)[0]\n",
    "            dif_image = dif_image_candidates[k]\n",
    "            image_triples.append((ref_image, dif_image, 0))\n",
    "    print(\"Generated {:d} pos + {:d} neg = {:d} total image triples\"\n",
    "          .format(num_sims, num_sims, 2*num_sims))\n",
    "    return image_triples\n",
    "\n",
    "def load_vectors(vector_file):\n",
    "    vec_dict = {}\n",
    "    fvec = open(vector_file, \"r\")\n",
    "    for line in fvec:\n",
    "        image_name, image_vec = line.strip().split(\"\\t\")\n",
    "        vec = np.array([float(v) for v in image_vec.split(\",\")])\n",
    "        vec_dict[image_name] = vec\n",
    "    fvec.close()\n",
    "    return vec_dict\n",
    "\n",
    "def preprocess_data(vector_file, train_size=0.7):\n",
    "    xdata, ydata = [], []\n",
    "    vec_dict = load_vectors(vector_file)\n",
    "    for image_triple in image_triples:\n",
    "        X1 = vec_dict[image_triple[0]]\n",
    "        X2 = vec_dict[image_triple[1]]\n",
    "        xdata.append(np.multiply(X1, X2) / (np.linalg.norm(X1, 2) * np.linalg.norm(X2, 2)))\n",
    "        ydata.append(image_triple[2])\n",
    "    X, y = np.array(xdata), np.array(ydata)\n",
    "    Xtrain, Xtest, ytrain, ytest = train_test_split(X, y, train_size=train_size)\n",
    "    return Xtrain, Xtest, ytrain, ytest\n",
    "\n",
    "def cross_validate(X, y, clf, k=10):\n",
    "    best_score, best_clf = 0.0, None\n",
    "    kfold = KFold(k)\n",
    "    for kid, (train, test) in enumerate(kfold.split(X, y)):\n",
    "        Xtrain, Xtest, ytrain, ytest = X[train], X[test], y[train], y[test]\n",
    "        clf.fit(Xtrain, ytrain)\n",
    "        ytest_ = clf.predict(Xtest)\n",
    "        score = accuracy_score(ytest_, ytest)\n",
    "        print(\"fold {:d}, score: {:.3f}\".format(kid, score))\n",
    "        if score > best_score:\n",
    "            best_score = score\n",
    "            best_clf = clf\n",
    "    return best_clf, best_score\n",
    "\n",
    "def test_report(clf, Xtest, ytest):\n",
    "    ytest_ = clf.predict(Xtest)\n",
    "    print(\"\\nAccuracy Score: {:.3f}\".format(accuracy_score(ytest_, ytest)))\n",
    "    print(\"\\nConfusion Matrix\")\n",
    "    print(confusion_matrix(ytest_, ytest))\n",
    "    print(\"\\nClassification Report\")\n",
    "    print(classification_report(ytest_, ytest))\n",
    "    \n",
    "def get_model_file(data_dir, vec_name, clf_name):\n",
    "    return os.path.join(data_dir, \"weights\", \"A-{:s}-{:s}-dot.pkl\"\n",
    "                        .format(vec_name, clf_name))\n",
    "\n",
    "def save_model(model, model_file):\n",
    "    joblib.dump(model, model_file)"
   ]
  },
  {
   "cell_type": "code",
   "execution_count": 4,
   "metadata": {},
   "outputs": [
    {
     "name": "stdout",
     "output_type": "stream",
     "text": [
      "Generated 0 pos + 0 neg = 0 total image triples\n",
      "Generated 900 pos + 900 neg = 1800 total image triples\n",
      "Generated 1656 pos + 1656 neg = 3312 total image triples\n"
     ]
    }
   ],
   "source": [
    "#In [4]:\n",
    "image_triples = get_holiday_triples(IMAGE_DIR)"
   ]
  },
  {
   "cell_type": "code",
   "execution_count": 5,
   "metadata": {},
   "outputs": [],
   "source": [
    "#In [5]:\n",
    "NUM_VECTORIZERS = 5\n",
    "NUM_CLASSIFIERS = 4\n",
    "scores = np.zeros((NUM_VECTORIZERS, NUM_CLASSIFIERS))"
   ]
  },
  {
   "cell_type": "code",
   "execution_count": 6,
   "metadata": {},
   "outputs": [
    {
     "name": "stdout",
     "output_type": "stream",
     "text": [
      "weights/accton-vgg16-vectors.tsv\n"
     ]
    },
    {
     "name": "stderr",
     "output_type": "stream",
     "text": [
      "/home/ubuntu/anaconda3/lib/python3.6/site-packages/sklearn/model_selection/_split.py:2026: FutureWarning: From version 0.21, test_size will always complement train_size unless both are specified.\n",
      "  FutureWarning)\n"
     ]
    },
    {
     "name": "stdout",
     "output_type": "stream",
     "text": [
      "(2318, 4096) (994, 4096) (2318,) (994,)\n",
      "fold 0, score: 0.961\n",
      "fold 1, score: 0.953\n",
      "fold 2, score: 0.914\n",
      "fold 3, score: 0.957\n",
      "fold 4, score: 0.940\n",
      "fold 5, score: 0.897\n",
      "fold 6, score: 0.918\n",
      "fold 7, score: 0.905\n",
      "fold 8, score: 0.909\n",
      "fold 9, score: 0.935\n",
      "\n",
      "Accuracy Score: 0.907\n",
      "\n",
      "Confusion Matrix\n",
      "[[423   9]\n",
      " [ 83 479]]\n",
      "\n",
      "Classification Report\n",
      "             precision    recall  f1-score   support\n",
      "\n",
      "          0       0.84      0.98      0.90       432\n",
      "          1       0.98      0.85      0.91       562\n",
      "\n",
      "avg / total       0.92      0.91      0.91       994\n",
      "\n",
      "fold 0, score: 0.953\n",
      "fold 1, score: 0.931\n",
      "fold 2, score: 0.931\n",
      "fold 3, score: 0.948\n",
      "fold 4, score: 0.944\n",
      "fold 5, score: 0.931\n",
      "fold 6, score: 0.966\n",
      "fold 7, score: 0.931\n",
      "fold 8, score: 0.948\n",
      "fold 9, score: 0.978\n",
      "\n",
      "Accuracy Score: 0.946\n",
      "\n",
      "Confusion Matrix\n",
      "[[481  29]\n",
      " [ 25 459]]\n",
      "\n",
      "Classification Report\n",
      "             precision    recall  f1-score   support\n",
      "\n",
      "          0       0.95      0.94      0.95       510\n",
      "          1       0.94      0.95      0.94       484\n",
      "\n",
      "avg / total       0.95      0.95      0.95       994\n",
      "\n"
     ]
    },
    {
     "name": "stderr",
     "output_type": "stream",
     "text": [
      "/home/ubuntu/anaconda3/lib/python3.6/site-packages/sklearn/preprocessing/label.py:151: DeprecationWarning: The truth value of an empty array is ambiguous. Returning False, but in future this will result in an error. Use `array.size > 0` to check that an array is not empty.\n",
      "  if diff:\n"
     ]
    },
    {
     "name": "stdout",
     "output_type": "stream",
     "text": [
      "fold 0, score: 0.991\n"
     ]
    },
    {
     "name": "stderr",
     "output_type": "stream",
     "text": [
      "/home/ubuntu/anaconda3/lib/python3.6/site-packages/sklearn/preprocessing/label.py:151: DeprecationWarning: The truth value of an empty array is ambiguous. Returning False, but in future this will result in an error. Use `array.size > 0` to check that an array is not empty.\n",
      "  if diff:\n"
     ]
    },
    {
     "name": "stdout",
     "output_type": "stream",
     "text": [
      "fold 1, score: 0.991\n"
     ]
    },
    {
     "name": "stderr",
     "output_type": "stream",
     "text": [
      "/home/ubuntu/anaconda3/lib/python3.6/site-packages/sklearn/preprocessing/label.py:151: DeprecationWarning: The truth value of an empty array is ambiguous. Returning False, but in future this will result in an error. Use `array.size > 0` to check that an array is not empty.\n",
      "  if diff:\n"
     ]
    },
    {
     "name": "stdout",
     "output_type": "stream",
     "text": [
      "fold 2, score: 0.987\n"
     ]
    },
    {
     "name": "stderr",
     "output_type": "stream",
     "text": [
      "/home/ubuntu/anaconda3/lib/python3.6/site-packages/sklearn/preprocessing/label.py:151: DeprecationWarning: The truth value of an empty array is ambiguous. Returning False, but in future this will result in an error. Use `array.size > 0` to check that an array is not empty.\n",
      "  if diff:\n"
     ]
    },
    {
     "name": "stdout",
     "output_type": "stream",
     "text": [
      "fold 3, score: 0.991\n"
     ]
    },
    {
     "name": "stderr",
     "output_type": "stream",
     "text": [
      "/home/ubuntu/anaconda3/lib/python3.6/site-packages/sklearn/preprocessing/label.py:151: DeprecationWarning: The truth value of an empty array is ambiguous. Returning False, but in future this will result in an error. Use `array.size > 0` to check that an array is not empty.\n",
      "  if diff:\n"
     ]
    },
    {
     "name": "stdout",
     "output_type": "stream",
     "text": [
      "fold 4, score: 1.000\n"
     ]
    },
    {
     "name": "stderr",
     "output_type": "stream",
     "text": [
      "/home/ubuntu/anaconda3/lib/python3.6/site-packages/sklearn/preprocessing/label.py:151: DeprecationWarning: The truth value of an empty array is ambiguous. Returning False, but in future this will result in an error. Use `array.size > 0` to check that an array is not empty.\n",
      "  if diff:\n"
     ]
    },
    {
     "name": "stdout",
     "output_type": "stream",
     "text": [
      "fold 5, score: 0.996\n"
     ]
    },
    {
     "name": "stderr",
     "output_type": "stream",
     "text": [
      "/home/ubuntu/anaconda3/lib/python3.6/site-packages/sklearn/preprocessing/label.py:151: DeprecationWarning: The truth value of an empty array is ambiguous. Returning False, but in future this will result in an error. Use `array.size > 0` to check that an array is not empty.\n",
      "  if diff:\n"
     ]
    },
    {
     "name": "stdout",
     "output_type": "stream",
     "text": [
      "fold 6, score: 0.996\n"
     ]
    },
    {
     "name": "stderr",
     "output_type": "stream",
     "text": [
      "/home/ubuntu/anaconda3/lib/python3.6/site-packages/sklearn/preprocessing/label.py:151: DeprecationWarning: The truth value of an empty array is ambiguous. Returning False, but in future this will result in an error. Use `array.size > 0` to check that an array is not empty.\n",
      "  if diff:\n"
     ]
    },
    {
     "name": "stdout",
     "output_type": "stream",
     "text": [
      "fold 7, score: 1.000\n"
     ]
    },
    {
     "name": "stderr",
     "output_type": "stream",
     "text": [
      "/home/ubuntu/anaconda3/lib/python3.6/site-packages/sklearn/preprocessing/label.py:151: DeprecationWarning: The truth value of an empty array is ambiguous. Returning False, but in future this will result in an error. Use `array.size > 0` to check that an array is not empty.\n",
      "  if diff:\n"
     ]
    },
    {
     "name": "stdout",
     "output_type": "stream",
     "text": [
      "fold 8, score: 0.996\n"
     ]
    },
    {
     "name": "stderr",
     "output_type": "stream",
     "text": [
      "/home/ubuntu/anaconda3/lib/python3.6/site-packages/sklearn/preprocessing/label.py:151: DeprecationWarning: The truth value of an empty array is ambiguous. Returning False, but in future this will result in an error. Use `array.size > 0` to check that an array is not empty.\n",
      "  if diff:\n",
      "/home/ubuntu/anaconda3/lib/python3.6/site-packages/sklearn/preprocessing/label.py:151: DeprecationWarning: The truth value of an empty array is ambiguous. Returning False, but in future this will result in an error. Use `array.size > 0` to check that an array is not empty.\n",
      "  if diff:\n"
     ]
    },
    {
     "name": "stdout",
     "output_type": "stream",
     "text": [
      "fold 9, score: 1.000\n",
      "\n",
      "Accuracy Score: 0.992\n",
      "\n",
      "Confusion Matrix\n",
      "[[498   0]\n",
      " [  8 488]]\n",
      "\n",
      "Classification Report\n",
      "             precision    recall  f1-score   support\n",
      "\n",
      "          0       0.98      1.00      0.99       498\n",
      "          1       1.00      0.98      0.99       496\n",
      "\n",
      "avg / total       0.99      0.99      0.99       994\n",
      "\n",
      "fold 0, score: 0.991\n",
      "fold 1, score: 0.978\n",
      "fold 2, score: 0.983\n",
      "fold 3, score: 0.987\n",
      "fold 4, score: 0.987\n",
      "fold 5, score: 0.978\n",
      "fold 6, score: 0.996\n",
      "fold 7, score: 0.991\n",
      "fold 8, score: 0.974\n",
      "fold 9, score: 0.991\n",
      "\n",
      "Accuracy Score: 0.979\n",
      "\n",
      "Confusion Matrix\n",
      "[[497  12]\n",
      " [  9 476]]\n",
      "\n",
      "Classification Report\n",
      "             precision    recall  f1-score   support\n",
      "\n",
      "          0       0.98      0.98      0.98       509\n",
      "          1       0.98      0.98      0.98       485\n",
      "\n",
      "avg / total       0.98      0.98      0.98       994\n",
      "\n"
     ]
    },
    {
     "data": {
      "text/plain": [
       "' # images ## new_train_folder_test_v1\\nConfusion Matrix\\n[[482   4]\\n [ 11 497]]\\n'"
      ]
     },
     "execution_count": 6,
     "metadata": {},
     "output_type": "execute_result"
    }
   ],
   "source": [
    "#In [6]:\n",
    "VECTOR_FILE = os.path.join(DATA_DIR,\"weights\" , \"accton-vgg16-vectors.tsv\")\n",
    "print(VECTOR_FILE)\n",
    "Xtrain, Xtest, ytrain, ytest = preprocess_data(VECTOR_FILE)\n",
    "print(Xtrain.shape, Xtest.shape, ytrain.shape, ytest.shape)\n",
    "\n",
    "#In [7]:\n",
    "clf = GaussianNB()\n",
    "best_clf, best_score = cross_validate(Xtrain, ytrain, clf)\n",
    "scores[0, 0] = best_score\n",
    "test_report(best_clf, Xtest, ytest)\n",
    "save_model(best_clf, get_model_file(DATA_DIR, \"vgg16\", \"nb\")) # Accuracy Score: 0.931\n",
    "'''\n",
    "Confusion Matrix\n",
    "[[438   8]\n",
    " [ 61 487]]\n",
    "'''\n",
    "#In [8]:\n",
    "clf = LinearSVC()\n",
    "best_clf, best_score = cross_validate(Xtrain, ytrain, clf)\n",
    "scores[0, 1] = best_score\n",
    "test_report(best_clf, Xtest, ytest)\n",
    "save_model(best_clf, get_model_file(DATA_DIR, \"vgg16\", \"svm\")) # Accuracy Score: 0.957\n",
    "'''\n",
    "Confusion Matrix\n",
    "[[478  22]\n",
    " [ 21 473]]\n",
    "'''\n",
    "#In [9]:\n",
    "clf = XGBClassifier()\n",
    "best_clf, best_score = cross_validate(Xtrain, ytrain, clf)\n",
    "scores[0, 2] = best_score\n",
    "test_report(best_clf, Xtest, ytest)\n",
    "save_model(best_clf, get_model_file(DATA_DIR, \"vgg16\", \"xgb\")) # Accuracy Score: 0.992\n",
    "'''\n",
    "Confusion Matrix\n",
    "[[485   0]\n",
    " [  8 501]]\n",
    "'''\n",
    "#In [10]:\n",
    "clf = RandomForestClassifier()\n",
    "best_clf, best_score = cross_validate(Xtrain, ytrain, clf)\n",
    "scores[0, 3] = best_score\n",
    "test_report(best_clf, Xtest, ytest)\n",
    "save_model(best_clf, get_model_file(DATA_DIR, \"vgg16\", \"rf\")) # Accuracy Score: 0.985\n",
    "'''\n",
    "Confusion Matrix\n",
    "[[482   4]\n",
    " [ 11 497]]\n",
    "'''"
   ]
  },
  {
   "cell_type": "code",
   "execution_count": 7,
   "metadata": {},
   "outputs": [
    {
     "name": "stderr",
     "output_type": "stream",
     "text": [
      "/home/ubuntu/anaconda3/lib/python3.6/site-packages/sklearn/model_selection/_split.py:2026: FutureWarning: From version 0.21, test_size will always complement train_size unless both are specified.\n",
      "  FutureWarning)\n"
     ]
    },
    {
     "name": "stdout",
     "output_type": "stream",
     "text": [
      "(2318, 4096) (994, 4096) (2318,) (994,)\n",
      "fold 0, score: 0.905\n",
      "fold 1, score: 0.935\n",
      "fold 2, score: 0.927\n",
      "fold 3, score: 0.927\n",
      "fold 4, score: 0.914\n",
      "fold 5, score: 0.944\n",
      "fold 6, score: 0.905\n",
      "fold 7, score: 0.922\n",
      "fold 8, score: 0.939\n",
      "fold 9, score: 0.913\n",
      "\n",
      "Accuracy Score: 0.905\n",
      "\n",
      "Confusion Matrix\n",
      "[[428  15]\n",
      " [ 79 472]]\n",
      "\n",
      "Classification Report\n",
      "             precision    recall  f1-score   support\n",
      "\n",
      "          0       0.84      0.97      0.90       443\n",
      "          1       0.97      0.86      0.91       551\n",
      "\n",
      "avg / total       0.91      0.91      0.91       994\n",
      "\n",
      "fold 0, score: 0.935\n",
      "fold 1, score: 0.957\n",
      "fold 2, score: 0.922\n",
      "fold 3, score: 0.922\n",
      "fold 4, score: 0.914\n",
      "fold 5, score: 0.935\n",
      "fold 6, score: 0.948\n",
      "fold 7, score: 0.931\n",
      "fold 8, score: 0.935\n",
      "fold 9, score: 0.948\n",
      "\n",
      "Accuracy Score: 0.949\n",
      "\n",
      "Confusion Matrix\n",
      "[[477  21]\n",
      " [ 30 466]]\n",
      "\n",
      "Classification Report\n",
      "             precision    recall  f1-score   support\n",
      "\n",
      "          0       0.94      0.96      0.95       498\n",
      "          1       0.96      0.94      0.95       496\n",
      "\n",
      "avg / total       0.95      0.95      0.95       994\n",
      "\n"
     ]
    },
    {
     "name": "stderr",
     "output_type": "stream",
     "text": [
      "/home/ubuntu/anaconda3/lib/python3.6/site-packages/sklearn/preprocessing/label.py:151: DeprecationWarning: The truth value of an empty array is ambiguous. Returning False, but in future this will result in an error. Use `array.size > 0` to check that an array is not empty.\n",
      "  if diff:\n"
     ]
    },
    {
     "name": "stdout",
     "output_type": "stream",
     "text": [
      "fold 0, score: 0.991\n"
     ]
    },
    {
     "name": "stderr",
     "output_type": "stream",
     "text": [
      "/home/ubuntu/anaconda3/lib/python3.6/site-packages/sklearn/preprocessing/label.py:151: DeprecationWarning: The truth value of an empty array is ambiguous. Returning False, but in future this will result in an error. Use `array.size > 0` to check that an array is not empty.\n",
      "  if diff:\n"
     ]
    },
    {
     "name": "stdout",
     "output_type": "stream",
     "text": [
      "fold 1, score: 0.996\n"
     ]
    },
    {
     "name": "stderr",
     "output_type": "stream",
     "text": [
      "/home/ubuntu/anaconda3/lib/python3.6/site-packages/sklearn/preprocessing/label.py:151: DeprecationWarning: The truth value of an empty array is ambiguous. Returning False, but in future this will result in an error. Use `array.size > 0` to check that an array is not empty.\n",
      "  if diff:\n"
     ]
    },
    {
     "name": "stdout",
     "output_type": "stream",
     "text": [
      "fold 2, score: 1.000\n"
     ]
    },
    {
     "name": "stderr",
     "output_type": "stream",
     "text": [
      "/home/ubuntu/anaconda3/lib/python3.6/site-packages/sklearn/preprocessing/label.py:151: DeprecationWarning: The truth value of an empty array is ambiguous. Returning False, but in future this will result in an error. Use `array.size > 0` to check that an array is not empty.\n",
      "  if diff:\n"
     ]
    },
    {
     "name": "stdout",
     "output_type": "stream",
     "text": [
      "fold 3, score: 0.996\n"
     ]
    },
    {
     "name": "stderr",
     "output_type": "stream",
     "text": [
      "/home/ubuntu/anaconda3/lib/python3.6/site-packages/sklearn/preprocessing/label.py:151: DeprecationWarning: The truth value of an empty array is ambiguous. Returning False, but in future this will result in an error. Use `array.size > 0` to check that an array is not empty.\n",
      "  if diff:\n"
     ]
    },
    {
     "name": "stdout",
     "output_type": "stream",
     "text": [
      "fold 4, score: 0.991\n"
     ]
    },
    {
     "name": "stderr",
     "output_type": "stream",
     "text": [
      "/home/ubuntu/anaconda3/lib/python3.6/site-packages/sklearn/preprocessing/label.py:151: DeprecationWarning: The truth value of an empty array is ambiguous. Returning False, but in future this will result in an error. Use `array.size > 0` to check that an array is not empty.\n",
      "  if diff:\n"
     ]
    },
    {
     "name": "stdout",
     "output_type": "stream",
     "text": [
      "fold 5, score: 0.991\n"
     ]
    },
    {
     "name": "stderr",
     "output_type": "stream",
     "text": [
      "/home/ubuntu/anaconda3/lib/python3.6/site-packages/sklearn/preprocessing/label.py:151: DeprecationWarning: The truth value of an empty array is ambiguous. Returning False, but in future this will result in an error. Use `array.size > 0` to check that an array is not empty.\n",
      "  if diff:\n"
     ]
    },
    {
     "name": "stdout",
     "output_type": "stream",
     "text": [
      "fold 6, score: 0.996\n"
     ]
    },
    {
     "name": "stderr",
     "output_type": "stream",
     "text": [
      "/home/ubuntu/anaconda3/lib/python3.6/site-packages/sklearn/preprocessing/label.py:151: DeprecationWarning: The truth value of an empty array is ambiguous. Returning False, but in future this will result in an error. Use `array.size > 0` to check that an array is not empty.\n",
      "  if diff:\n"
     ]
    },
    {
     "name": "stdout",
     "output_type": "stream",
     "text": [
      "fold 7, score: 0.991\n"
     ]
    },
    {
     "name": "stderr",
     "output_type": "stream",
     "text": [
      "/home/ubuntu/anaconda3/lib/python3.6/site-packages/sklearn/preprocessing/label.py:151: DeprecationWarning: The truth value of an empty array is ambiguous. Returning False, but in future this will result in an error. Use `array.size > 0` to check that an array is not empty.\n",
      "  if diff:\n"
     ]
    },
    {
     "name": "stdout",
     "output_type": "stream",
     "text": [
      "fold 8, score: 0.996\n"
     ]
    },
    {
     "name": "stderr",
     "output_type": "stream",
     "text": [
      "/home/ubuntu/anaconda3/lib/python3.6/site-packages/sklearn/preprocessing/label.py:151: DeprecationWarning: The truth value of an empty array is ambiguous. Returning False, but in future this will result in an error. Use `array.size > 0` to check that an array is not empty.\n",
      "  if diff:\n",
      "/home/ubuntu/anaconda3/lib/python3.6/site-packages/sklearn/preprocessing/label.py:151: DeprecationWarning: The truth value of an empty array is ambiguous. Returning False, but in future this will result in an error. Use `array.size > 0` to check that an array is not empty.\n",
      "  if diff:\n"
     ]
    },
    {
     "name": "stdout",
     "output_type": "stream",
     "text": [
      "fold 9, score: 0.991\n",
      "\n",
      "Accuracy Score: 0.996\n",
      "\n",
      "Confusion Matrix\n",
      "[[503   0]\n",
      " [  4 487]]\n",
      "\n",
      "Classification Report\n",
      "             precision    recall  f1-score   support\n",
      "\n",
      "          0       0.99      1.00      1.00       503\n",
      "          1       1.00      0.99      1.00       491\n",
      "\n",
      "avg / total       1.00      1.00      1.00       994\n",
      "\n",
      "fold 0, score: 0.983\n",
      "fold 1, score: 0.978\n",
      "fold 2, score: 0.991\n",
      "fold 3, score: 0.991\n",
      "fold 4, score: 0.983\n",
      "fold 5, score: 0.970\n",
      "fold 6, score: 0.991\n",
      "fold 7, score: 0.991\n",
      "fold 8, score: 0.983\n",
      "fold 9, score: 0.991\n",
      "\n",
      "Accuracy Score: 0.988\n",
      "\n",
      "Confusion Matrix\n",
      "[[502   7]\n",
      " [  5 480]]\n",
      "\n",
      "Classification Report\n",
      "             precision    recall  f1-score   support\n",
      "\n",
      "          0       0.99      0.99      0.99       509\n",
      "          1       0.99      0.99      0.99       485\n",
      "\n",
      "avg / total       0.99      0.99      0.99       994\n",
      "\n"
     ]
    },
    {
     "data": {
      "text/plain": [
       "' # images ## new_train_folder_test_v1\\n\\n'"
      ]
     },
     "execution_count": 7,
     "metadata": {},
     "output_type": "execute_result"
    }
   ],
   "source": [
    "#In [11]:\n",
    "VECTOR_FILE = os.path.join(DATA_DIR,\"weights\" , \"accton-vgg19-vectors.tsv\")\n",
    "Xtrain, Xtest, ytrain, ytest = preprocess_data(VECTOR_FILE)\n",
    "print(Xtrain.shape, Xtest.shape, ytrain.shape, ytest.shape)\n",
    "#In [12]:\n",
    "clf = GaussianNB()\n",
    "best_clf, best_score = cross_validate(Xtrain, ytrain, clf)\n",
    "scores[1, 0] = best_score\n",
    "test_report(best_clf, Xtest, ytest)\n",
    "save_model(best_clf, get_model_file(DATA_DIR, \"vgg19\", \"nb\")) # Accuracy Score: 0.915\n",
    "'''\n",
    "Confusion Matrix\n",
    "[[450  12]\n",
    " [ 72 460]]\n",
    "'''\n",
    "#In [13]:\n",
    "clf = LinearSVC()\n",
    "best_clf, best_score = cross_validate(Xtrain, ytrain, clf)\n",
    "scores[1, 1] = best_score\n",
    "test_report(best_clf, Xtest, ytest)\n",
    "save_model(best_clf, get_model_file(DATA_DIR, \"vgg19\", \"svm\")) # Accuracy Score: 0.949\n",
    "'''\n",
    "Confusion Matrix\n",
    "[[477  21]\n",
    " [ 30 466]]\n",
    "'''\n",
    "#In [14]:\n",
    "clf = XGBClassifier()\n",
    "best_clf, best_score = cross_validate(Xtrain, ytrain, clf)\n",
    "scores[1, 2] = best_score\n",
    "test_report(best_clf, Xtest, ytest)\n",
    "save_model(best_clf, get_model_file(DATA_DIR, \"vgg19\", \"xgb\")) # Accuracy Score: 0.996\n",
    "'''\n",
    "Confusion Matrix\n",
    "[[503   0]\n",
    " [  4 487]]\n",
    "'''\n",
    "#In [15]:\n",
    "clf = RandomForestClassifier()\n",
    "best_clf, best_score = cross_validate(Xtrain, ytrain, clf)\n",
    "scores[1, 3] = best_score\n",
    "test_report(best_clf, Xtest, ytest)\n",
    "save_model(best_clf, get_model_file(DATA_DIR, \"vgg19\", \"rf\")) # Accuracy Score: 0.993\n",
    "'''\n",
    "\n",
    "'''"
   ]
  },
  {
   "cell_type": "code",
   "execution_count": 8,
   "metadata": {
    "scrolled": true
   },
   "outputs": [
    {
     "name": "stderr",
     "output_type": "stream",
     "text": [
      "/home/ubuntu/anaconda3/lib/python3.6/site-packages/sklearn/model_selection/_split.py:2026: FutureWarning: From version 0.21, test_size will always complement train_size unless both are specified.\n",
      "  FutureWarning)\n"
     ]
    },
    {
     "name": "stdout",
     "output_type": "stream",
     "text": [
      "(2318, 2048) (994, 2048) (2318,) (994,)\n",
      "fold 0, score: 0.944\n",
      "fold 1, score: 0.978\n",
      "fold 2, score: 0.970\n",
      "fold 3, score: 0.987\n",
      "fold 4, score: 0.961\n",
      "fold 5, score: 0.953\n",
      "fold 6, score: 0.978\n",
      "fold 7, score: 0.966\n",
      "fold 8, score: 0.961\n",
      "fold 9, score: 0.983\n",
      "\n",
      "Accuracy Score: 0.953\n",
      "\n",
      "Confusion Matrix\n",
      "[[488  32]\n",
      " [ 15 459]]\n",
      "\n",
      "Classification Report\n",
      "             precision    recall  f1-score   support\n",
      "\n",
      "          0       0.97      0.94      0.95       520\n",
      "          1       0.93      0.97      0.95       474\n",
      "\n",
      "avg / total       0.95      0.95      0.95       994\n",
      "\n",
      "fold 0, score: 0.909\n",
      "fold 1, score: 0.961\n",
      "fold 2, score: 0.961\n",
      "fold 3, score: 0.966\n",
      "fold 4, score: 0.944\n",
      "fold 5, score: 0.944\n",
      "fold 6, score: 0.935\n",
      "fold 7, score: 0.935\n",
      "fold 8, score: 0.965\n",
      "fold 9, score: 0.939\n",
      "\n",
      "Accuracy Score: 0.945\n",
      "\n",
      "Confusion Matrix\n",
      "[[463  15]\n",
      " [ 40 476]]\n",
      "\n",
      "Classification Report\n",
      "             precision    recall  f1-score   support\n",
      "\n",
      "          0       0.92      0.97      0.94       478\n",
      "          1       0.97      0.92      0.95       516\n",
      "\n",
      "avg / total       0.95      0.94      0.94       994\n",
      "\n"
     ]
    },
    {
     "name": "stderr",
     "output_type": "stream",
     "text": [
      "/home/ubuntu/anaconda3/lib/python3.6/site-packages/sklearn/preprocessing/label.py:151: DeprecationWarning: The truth value of an empty array is ambiguous. Returning False, but in future this will result in an error. Use `array.size > 0` to check that an array is not empty.\n",
      "  if diff:\n"
     ]
    },
    {
     "name": "stdout",
     "output_type": "stream",
     "text": [
      "fold 0, score: 0.987\n"
     ]
    },
    {
     "name": "stderr",
     "output_type": "stream",
     "text": [
      "/home/ubuntu/anaconda3/lib/python3.6/site-packages/sklearn/preprocessing/label.py:151: DeprecationWarning: The truth value of an empty array is ambiguous. Returning False, but in future this will result in an error. Use `array.size > 0` to check that an array is not empty.\n",
      "  if diff:\n"
     ]
    },
    {
     "name": "stdout",
     "output_type": "stream",
     "text": [
      "fold 1, score: 0.987\n"
     ]
    },
    {
     "name": "stderr",
     "output_type": "stream",
     "text": [
      "/home/ubuntu/anaconda3/lib/python3.6/site-packages/sklearn/preprocessing/label.py:151: DeprecationWarning: The truth value of an empty array is ambiguous. Returning False, but in future this will result in an error. Use `array.size > 0` to check that an array is not empty.\n",
      "  if diff:\n"
     ]
    },
    {
     "name": "stdout",
     "output_type": "stream",
     "text": [
      "fold 2, score: 0.987\n"
     ]
    },
    {
     "name": "stderr",
     "output_type": "stream",
     "text": [
      "/home/ubuntu/anaconda3/lib/python3.6/site-packages/sklearn/preprocessing/label.py:151: DeprecationWarning: The truth value of an empty array is ambiguous. Returning False, but in future this will result in an error. Use `array.size > 0` to check that an array is not empty.\n",
      "  if diff:\n"
     ]
    },
    {
     "name": "stdout",
     "output_type": "stream",
     "text": [
      "fold 3, score: 0.996\n"
     ]
    },
    {
     "name": "stderr",
     "output_type": "stream",
     "text": [
      "/home/ubuntu/anaconda3/lib/python3.6/site-packages/sklearn/preprocessing/label.py:151: DeprecationWarning: The truth value of an empty array is ambiguous. Returning False, but in future this will result in an error. Use `array.size > 0` to check that an array is not empty.\n",
      "  if diff:\n"
     ]
    },
    {
     "name": "stdout",
     "output_type": "stream",
     "text": [
      "fold 4, score: 0.991\n"
     ]
    },
    {
     "name": "stderr",
     "output_type": "stream",
     "text": [
      "/home/ubuntu/anaconda3/lib/python3.6/site-packages/sklearn/preprocessing/label.py:151: DeprecationWarning: The truth value of an empty array is ambiguous. Returning False, but in future this will result in an error. Use `array.size > 0` to check that an array is not empty.\n",
      "  if diff:\n"
     ]
    },
    {
     "name": "stdout",
     "output_type": "stream",
     "text": [
      "fold 5, score: 0.996\n"
     ]
    },
    {
     "name": "stderr",
     "output_type": "stream",
     "text": [
      "/home/ubuntu/anaconda3/lib/python3.6/site-packages/sklearn/preprocessing/label.py:151: DeprecationWarning: The truth value of an empty array is ambiguous. Returning False, but in future this will result in an error. Use `array.size > 0` to check that an array is not empty.\n",
      "  if diff:\n"
     ]
    },
    {
     "name": "stdout",
     "output_type": "stream",
     "text": [
      "fold 6, score: 0.983\n"
     ]
    },
    {
     "name": "stderr",
     "output_type": "stream",
     "text": [
      "/home/ubuntu/anaconda3/lib/python3.6/site-packages/sklearn/preprocessing/label.py:151: DeprecationWarning: The truth value of an empty array is ambiguous. Returning False, but in future this will result in an error. Use `array.size > 0` to check that an array is not empty.\n",
      "  if diff:\n"
     ]
    },
    {
     "name": "stdout",
     "output_type": "stream",
     "text": [
      "fold 7, score: 0.996\n"
     ]
    },
    {
     "name": "stderr",
     "output_type": "stream",
     "text": [
      "/home/ubuntu/anaconda3/lib/python3.6/site-packages/sklearn/preprocessing/label.py:151: DeprecationWarning: The truth value of an empty array is ambiguous. Returning False, but in future this will result in an error. Use `array.size > 0` to check that an array is not empty.\n",
      "  if diff:\n"
     ]
    },
    {
     "name": "stdout",
     "output_type": "stream",
     "text": [
      "fold 8, score: 0.996\n"
     ]
    },
    {
     "name": "stderr",
     "output_type": "stream",
     "text": [
      "/home/ubuntu/anaconda3/lib/python3.6/site-packages/sklearn/preprocessing/label.py:151: DeprecationWarning: The truth value of an empty array is ambiguous. Returning False, but in future this will result in an error. Use `array.size > 0` to check that an array is not empty.\n",
      "  if diff:\n",
      "/home/ubuntu/anaconda3/lib/python3.6/site-packages/sklearn/preprocessing/label.py:151: DeprecationWarning: The truth value of an empty array is ambiguous. Returning False, but in future this will result in an error. Use `array.size > 0` to check that an array is not empty.\n",
      "  if diff:\n"
     ]
    },
    {
     "name": "stdout",
     "output_type": "stream",
     "text": [
      "fold 9, score: 0.991\n",
      "\n",
      "Accuracy Score: 0.988\n",
      "\n",
      "Confusion Matrix\n",
      "[[493   2]\n",
      " [ 10 489]]\n",
      "\n",
      "Classification Report\n",
      "             precision    recall  f1-score   support\n",
      "\n",
      "          0       0.98      1.00      0.99       495\n",
      "          1       1.00      0.98      0.99       499\n",
      "\n",
      "avg / total       0.99      0.99      0.99       994\n",
      "\n",
      "fold 0, score: 0.957\n",
      "fold 1, score: 0.983\n",
      "fold 2, score: 0.970\n",
      "fold 3, score: 0.974\n",
      "fold 4, score: 0.978\n",
      "fold 5, score: 0.966\n",
      "fold 6, score: 0.978\n",
      "fold 7, score: 0.978\n",
      "fold 8, score: 0.970\n",
      "fold 9, score: 0.970\n",
      "\n",
      "Accuracy Score: 0.973\n",
      "\n",
      "Confusion Matrix\n",
      "[[492  16]\n",
      " [ 11 475]]\n",
      "\n",
      "Classification Report\n",
      "             precision    recall  f1-score   support\n",
      "\n",
      "          0       0.98      0.97      0.97       508\n",
      "          1       0.97      0.98      0.97       486\n",
      "\n",
      "avg / total       0.97      0.97      0.97       994\n",
      "\n"
     ]
    },
    {
     "data": {
      "text/plain": [
       "' # images ## new_train_folder_test_v1\\nConfusion Matrix\\n[[468  24]\\n [ 12 490]]\\n'"
      ]
     },
     "execution_count": 8,
     "metadata": {},
     "output_type": "execute_result"
    }
   ],
   "source": [
    "#In [16]:\n",
    "VECTOR_FILE = os.path.join(DATA_DIR, \"weights\", \"accton-inception-vectors.tsv\")\n",
    "Xtrain, Xtest, ytrain, ytest = preprocess_data(VECTOR_FILE)\n",
    "print(Xtrain.shape, Xtest.shape, ytrain.shape, ytest.shape)\n",
    "#In [17]:\n",
    "clf = GaussianNB()\n",
    "best_clf, best_score = cross_validate(Xtrain, ytrain, clf)\n",
    "scores[2, 0] = best_score\n",
    "test_report(best_clf, Xtest, ytest)\n",
    "save_model(best_clf, get_model_file(DATA_DIR, \"inceptionv3\", \"nb\")) # Accuracy Score: 0.961\n",
    "'''\n",
    "\n",
    "'''\n",
    "#In [18]:\n",
    "clf = LinearSVC()\n",
    "best_clf, best_score = cross_validate(Xtrain, ytrain, clf)\n",
    "scores[2, 1] = best_score\n",
    "test_report(best_clf, Xtest, ytest)\n",
    "save_model(best_clf, get_model_file(DATA_DIR, \"inceptionv3\", \"svm\")) # Accuracy Score: 0.948\n",
    "'''\n",
    "\n",
    "'''\n",
    "#In [19]:\n",
    "clf = XGBClassifier()\n",
    "best_clf, best_score = cross_validate(Xtrain, ytrain, clf)\n",
    "scores[2, 2] = best_score\n",
    "test_report(best_clf, Xtest, ytest)\n",
    "save_model(best_clf, get_model_file(DATA_DIR, \"inceptionv3\", \"xgb\")) # Accuracy Score: 0.992\n",
    "'''\n",
    "Confusion Matrix\n",
    "[[473   1]\n",
    " [  7 513]]\n",
    "'''\n",
    "#In [20]:\n",
    "clf = RandomForestClassifier()\n",
    "best_clf, best_score = cross_validate(Xtrain, ytrain, clf)\n",
    "scores[2, 3] = best_score\n",
    "test_report(best_clf, Xtest, ytest)\n",
    "save_model(best_clf, get_model_file(DATA_DIR, \"inceptionv3\", \"rf\")) # Accuracy Score: 0.973\n",
    "'''\n",
    "Confusion Matrix\n",
    "[[492  16]\n",
    " [ 11 475]]\n",
    "'''"
   ]
  },
  {
   "cell_type": "code",
   "execution_count": 9,
   "metadata": {},
   "outputs": [
    {
     "name": "stderr",
     "output_type": "stream",
     "text": [
      "/home/ubuntu/anaconda3/lib/python3.6/site-packages/sklearn/model_selection/_split.py:2026: FutureWarning: From version 0.21, test_size will always complement train_size unless both are specified.\n",
      "  FutureWarning)\n"
     ]
    },
    {
     "name": "stdout",
     "output_type": "stream",
     "text": [
      "(2318, 2048) (994, 2048) (2318,) (994,)\n",
      "fold 0, score: 0.922\n",
      "fold 1, score: 0.948\n",
      "fold 2, score: 0.914\n",
      "fold 3, score: 0.944\n",
      "fold 4, score: 0.953\n",
      "fold 5, score: 0.918\n",
      "fold 6, score: 0.948\n",
      "fold 7, score: 0.948\n",
      "fold 8, score: 0.944\n",
      "fold 9, score: 0.926\n",
      "\n",
      "Accuracy Score: 0.914\n",
      "\n",
      "Confusion Matrix\n",
      "[[466  44]\n",
      " [ 41 443]]\n",
      "\n",
      "Classification Report\n",
      "             precision    recall  f1-score   support\n",
      "\n",
      "          0       0.92      0.91      0.92       510\n",
      "          1       0.91      0.92      0.91       484\n",
      "\n",
      "avg / total       0.91      0.91      0.91       994\n",
      "\n",
      "fold 0, score: 0.914\n",
      "fold 1, score: 0.931\n",
      "fold 2, score: 0.953\n",
      "fold 3, score: 0.957\n",
      "fold 4, score: 0.944\n",
      "fold 5, score: 0.961\n",
      "fold 6, score: 0.966\n",
      "fold 7, score: 0.940\n",
      "fold 8, score: 0.922\n",
      "fold 9, score: 0.952\n",
      "\n",
      "Accuracy Score: 0.938\n",
      "\n",
      "Confusion Matrix\n",
      "[[459  14]\n",
      " [ 48 473]]\n",
      "\n",
      "Classification Report\n",
      "             precision    recall  f1-score   support\n",
      "\n",
      "          0       0.91      0.97      0.94       473\n",
      "          1       0.97      0.91      0.94       521\n",
      "\n",
      "avg / total       0.94      0.94      0.94       994\n",
      "\n"
     ]
    },
    {
     "name": "stderr",
     "output_type": "stream",
     "text": [
      "/home/ubuntu/anaconda3/lib/python3.6/site-packages/sklearn/preprocessing/label.py:151: DeprecationWarning: The truth value of an empty array is ambiguous. Returning False, but in future this will result in an error. Use `array.size > 0` to check that an array is not empty.\n",
      "  if diff:\n"
     ]
    },
    {
     "name": "stdout",
     "output_type": "stream",
     "text": [
      "fold 0, score: 0.996\n"
     ]
    },
    {
     "name": "stderr",
     "output_type": "stream",
     "text": [
      "/home/ubuntu/anaconda3/lib/python3.6/site-packages/sklearn/preprocessing/label.py:151: DeprecationWarning: The truth value of an empty array is ambiguous. Returning False, but in future this will result in an error. Use `array.size > 0` to check that an array is not empty.\n",
      "  if diff:\n"
     ]
    },
    {
     "name": "stdout",
     "output_type": "stream",
     "text": [
      "fold 1, score: 0.996\n"
     ]
    },
    {
     "name": "stderr",
     "output_type": "stream",
     "text": [
      "/home/ubuntu/anaconda3/lib/python3.6/site-packages/sklearn/preprocessing/label.py:151: DeprecationWarning: The truth value of an empty array is ambiguous. Returning False, but in future this will result in an error. Use `array.size > 0` to check that an array is not empty.\n",
      "  if diff:\n"
     ]
    },
    {
     "name": "stdout",
     "output_type": "stream",
     "text": [
      "fold 2, score: 0.987\n"
     ]
    },
    {
     "name": "stderr",
     "output_type": "stream",
     "text": [
      "/home/ubuntu/anaconda3/lib/python3.6/site-packages/sklearn/preprocessing/label.py:151: DeprecationWarning: The truth value of an empty array is ambiguous. Returning False, but in future this will result in an error. Use `array.size > 0` to check that an array is not empty.\n",
      "  if diff:\n"
     ]
    },
    {
     "name": "stdout",
     "output_type": "stream",
     "text": [
      "fold 3, score: 0.966\n"
     ]
    },
    {
     "name": "stderr",
     "output_type": "stream",
     "text": [
      "/home/ubuntu/anaconda3/lib/python3.6/site-packages/sklearn/preprocessing/label.py:151: DeprecationWarning: The truth value of an empty array is ambiguous. Returning False, but in future this will result in an error. Use `array.size > 0` to check that an array is not empty.\n",
      "  if diff:\n"
     ]
    },
    {
     "name": "stdout",
     "output_type": "stream",
     "text": [
      "fold 4, score: 0.991\n"
     ]
    },
    {
     "name": "stderr",
     "output_type": "stream",
     "text": [
      "/home/ubuntu/anaconda3/lib/python3.6/site-packages/sklearn/preprocessing/label.py:151: DeprecationWarning: The truth value of an empty array is ambiguous. Returning False, but in future this will result in an error. Use `array.size > 0` to check that an array is not empty.\n",
      "  if diff:\n"
     ]
    },
    {
     "name": "stdout",
     "output_type": "stream",
     "text": [
      "fold 5, score: 0.991\n"
     ]
    },
    {
     "name": "stderr",
     "output_type": "stream",
     "text": [
      "/home/ubuntu/anaconda3/lib/python3.6/site-packages/sklearn/preprocessing/label.py:151: DeprecationWarning: The truth value of an empty array is ambiguous. Returning False, but in future this will result in an error. Use `array.size > 0` to check that an array is not empty.\n",
      "  if diff:\n"
     ]
    },
    {
     "name": "stdout",
     "output_type": "stream",
     "text": [
      "fold 6, score: 0.996\n"
     ]
    },
    {
     "name": "stderr",
     "output_type": "stream",
     "text": [
      "/home/ubuntu/anaconda3/lib/python3.6/site-packages/sklearn/preprocessing/label.py:151: DeprecationWarning: The truth value of an empty array is ambiguous. Returning False, but in future this will result in an error. Use `array.size > 0` to check that an array is not empty.\n",
      "  if diff:\n"
     ]
    },
    {
     "name": "stdout",
     "output_type": "stream",
     "text": [
      "fold 7, score: 0.987\n"
     ]
    },
    {
     "name": "stderr",
     "output_type": "stream",
     "text": [
      "/home/ubuntu/anaconda3/lib/python3.6/site-packages/sklearn/preprocessing/label.py:151: DeprecationWarning: The truth value of an empty array is ambiguous. Returning False, but in future this will result in an error. Use `array.size > 0` to check that an array is not empty.\n",
      "  if diff:\n"
     ]
    },
    {
     "name": "stdout",
     "output_type": "stream",
     "text": [
      "fold 8, score: 0.983\n"
     ]
    },
    {
     "name": "stderr",
     "output_type": "stream",
     "text": [
      "/home/ubuntu/anaconda3/lib/python3.6/site-packages/sklearn/preprocessing/label.py:151: DeprecationWarning: The truth value of an empty array is ambiguous. Returning False, but in future this will result in an error. Use `array.size > 0` to check that an array is not empty.\n",
      "  if diff:\n",
      "/home/ubuntu/anaconda3/lib/python3.6/site-packages/sklearn/preprocessing/label.py:151: DeprecationWarning: The truth value of an empty array is ambiguous. Returning False, but in future this will result in an error. Use `array.size > 0` to check that an array is not empty.\n",
      "  if diff:\n"
     ]
    },
    {
     "name": "stdout",
     "output_type": "stream",
     "text": [
      "fold 9, score: 0.987\n",
      "\n",
      "Accuracy Score: 0.989\n",
      "\n",
      "Confusion Matrix\n",
      "[[496   0]\n",
      " [ 11 487]]\n",
      "\n",
      "Classification Report\n",
      "             precision    recall  f1-score   support\n",
      "\n",
      "          0       0.98      1.00      0.99       496\n",
      "          1       1.00      0.98      0.99       498\n",
      "\n",
      "avg / total       0.99      0.99      0.99       994\n",
      "\n",
      "fold 0, score: 0.974\n",
      "fold 1, score: 0.970\n",
      "fold 2, score: 0.978\n",
      "fold 3, score: 0.983\n",
      "fold 4, score: 0.983\n",
      "fold 5, score: 0.991\n",
      "fold 6, score: 0.974\n",
      "fold 7, score: 0.991\n",
      "fold 8, score: 0.970\n",
      "fold 9, score: 0.978\n",
      "\n",
      "Accuracy Score: 0.978\n",
      "\n",
      "Confusion Matrix\n",
      "[[498  13]\n",
      " [  9 474]]\n",
      "\n",
      "Classification Report\n",
      "             precision    recall  f1-score   support\n",
      "\n",
      "          0       0.98      0.97      0.98       511\n",
      "          1       0.97      0.98      0.98       483\n",
      "\n",
      "avg / total       0.98      0.98      0.98       994\n",
      "\n"
     ]
    },
    {
     "data": {
      "text/plain": [
       "' # images ## new_train_folder_test_v1\\nConfusion Matrix\\n[[488   9]\\n [  9 488]]\\n'"
      ]
     },
     "execution_count": 9,
     "metadata": {},
     "output_type": "execute_result"
    }
   ],
   "source": [
    "#In [21]:\n",
    "VECTOR_FILE = os.path.join(DATA_DIR,\"weights\" , \"accton-resnet-vectors.tsv\")\n",
    "Xtrain, Xtest, ytrain, ytest = preprocess_data(VECTOR_FILE)\n",
    "print(Xtrain.shape, Xtest.shape, ytrain.shape, ytest.shape)\n",
    "#In [22]:\n",
    "clf = GaussianNB()\n",
    "best_clf, best_score = cross_validate(Xtrain, ytrain, clf)\n",
    "scores[3, 0] = best_score\n",
    "test_report(best_clf, Xtest, ytest)\n",
    "save_model(best_clf, get_model_file(DATA_DIR, \"resnet50\", \"nb\")) # Accuracy Score: 0.937\n",
    "'''\n",
    "Confusion Matrix\n",
    "[[463  29]\n",
    " [ 34 468]]\n",
    "'''\n",
    "#In [23]:\n",
    "clf = LinearSVC()\n",
    "best_clf, best_score = cross_validate(Xtrain, ytrain, clf)\n",
    "scores[3, 1] = best_score\n",
    "test_report(best_clf, Xtest, ytest)\n",
    "save_model(best_clf, get_model_file(DATA_DIR, \"resnet50\", \"svm\")) # Accuracy Score: 0.938\n",
    "'''\n",
    "Confusion Matrix\n",
    "[[459  14]\n",
    " [ 48 473]]\n",
    "'''\n",
    "#In [24]:\n",
    "clf = XGBClassifier()\n",
    "best_clf, best_score = cross_validate(Xtrain, ytrain, clf)\n",
    "scores[3, 2] = best_score\n",
    "test_report(best_clf, Xtest, ytest)\n",
    "save_model(best_clf, get_model_file(DATA_DIR, \"resnet50\", \"xgb\")) # Accuracy Score: 0.993\n",
    "'''\n",
    "Confusion Matrix\n",
    "[[490   0]\n",
    " [  7 497]]\n",
    "'''\n",
    "#In [25]:\n",
    "clf = RandomForestClassifier()\n",
    "best_clf, best_score = cross_validate(Xtrain, ytrain, clf)\n",
    "scores[3, 3] = best_score\n",
    "test_report(best_clf, Xtest, ytest)\n",
    "save_model(best_clf, get_model_file(DATA_DIR, \"resnet50\", \"rf\")) # Accuracy Score: 0.982\n",
    "'''\n",
    "Confusion Matrix\n",
    "[[488   9]\n",
    " [  9 488]]\n",
    "'''"
   ]
  },
  {
   "cell_type": "code",
   "execution_count": 10,
   "metadata": {},
   "outputs": [
    {
     "name": "stderr",
     "output_type": "stream",
     "text": [
      "/home/ubuntu/anaconda3/lib/python3.6/site-packages/sklearn/model_selection/_split.py:2026: FutureWarning: From version 0.21, test_size will always complement train_size unless both are specified.\n",
      "  FutureWarning)\n"
     ]
    },
    {
     "name": "stdout",
     "output_type": "stream",
     "text": [
      "(2318, 2048) (994, 2048) (2318,) (994,)\n",
      "fold 0, score: 0.935\n",
      "fold 1, score: 0.940\n",
      "fold 2, score: 0.978\n",
      "fold 3, score: 0.953\n",
      "fold 4, score: 0.944\n",
      "fold 5, score: 0.957\n",
      "fold 6, score: 0.948\n",
      "fold 7, score: 0.974\n",
      "fold 8, score: 0.952\n",
      "fold 9, score: 0.931\n",
      "\n",
      "Accuracy Score: 0.937\n",
      "\n",
      "Confusion Matrix\n",
      "[[485  38]\n",
      " [ 25 446]]\n",
      "\n",
      "Classification Report\n",
      "             precision    recall  f1-score   support\n",
      "\n",
      "          0       0.95      0.93      0.94       523\n",
      "          1       0.92      0.95      0.93       471\n",
      "\n",
      "avg / total       0.94      0.94      0.94       994\n",
      "\n",
      "fold 0, score: 0.966\n",
      "fold 1, score: 0.961\n",
      "fold 2, score: 0.996\n",
      "fold 3, score: 0.970\n",
      "fold 4, score: 0.970\n",
      "fold 5, score: 0.974\n",
      "fold 6, score: 0.978\n",
      "fold 7, score: 0.948\n",
      "fold 8, score: 0.965\n",
      "fold 9, score: 0.970\n",
      "\n",
      "Accuracy Score: 0.968\n",
      "\n",
      "Confusion Matrix\n",
      "[[490  12]\n",
      " [ 20 472]]\n",
      "\n",
      "Classification Report\n",
      "             precision    recall  f1-score   support\n",
      "\n",
      "          0       0.96      0.98      0.97       502\n",
      "          1       0.98      0.96      0.97       492\n",
      "\n",
      "avg / total       0.97      0.97      0.97       994\n",
      "\n"
     ]
    },
    {
     "name": "stderr",
     "output_type": "stream",
     "text": [
      "/home/ubuntu/anaconda3/lib/python3.6/site-packages/sklearn/preprocessing/label.py:151: DeprecationWarning: The truth value of an empty array is ambiguous. Returning False, but in future this will result in an error. Use `array.size > 0` to check that an array is not empty.\n",
      "  if diff:\n"
     ]
    },
    {
     "name": "stdout",
     "output_type": "stream",
     "text": [
      "fold 0, score: 0.987\n"
     ]
    },
    {
     "name": "stderr",
     "output_type": "stream",
     "text": [
      "/home/ubuntu/anaconda3/lib/python3.6/site-packages/sklearn/preprocessing/label.py:151: DeprecationWarning: The truth value of an empty array is ambiguous. Returning False, but in future this will result in an error. Use `array.size > 0` to check that an array is not empty.\n",
      "  if diff:\n"
     ]
    },
    {
     "name": "stdout",
     "output_type": "stream",
     "text": [
      "fold 1, score: 0.996\n"
     ]
    },
    {
     "name": "stderr",
     "output_type": "stream",
     "text": [
      "/home/ubuntu/anaconda3/lib/python3.6/site-packages/sklearn/preprocessing/label.py:151: DeprecationWarning: The truth value of an empty array is ambiguous. Returning False, but in future this will result in an error. Use `array.size > 0` to check that an array is not empty.\n",
      "  if diff:\n"
     ]
    },
    {
     "name": "stdout",
     "output_type": "stream",
     "text": [
      "fold 2, score: 0.996\n"
     ]
    },
    {
     "name": "stderr",
     "output_type": "stream",
     "text": [
      "/home/ubuntu/anaconda3/lib/python3.6/site-packages/sklearn/preprocessing/label.py:151: DeprecationWarning: The truth value of an empty array is ambiguous. Returning False, but in future this will result in an error. Use `array.size > 0` to check that an array is not empty.\n",
      "  if diff:\n"
     ]
    },
    {
     "name": "stdout",
     "output_type": "stream",
     "text": [
      "fold 3, score: 0.983\n"
     ]
    },
    {
     "name": "stderr",
     "output_type": "stream",
     "text": [
      "/home/ubuntu/anaconda3/lib/python3.6/site-packages/sklearn/preprocessing/label.py:151: DeprecationWarning: The truth value of an empty array is ambiguous. Returning False, but in future this will result in an error. Use `array.size > 0` to check that an array is not empty.\n",
      "  if diff:\n"
     ]
    },
    {
     "name": "stdout",
     "output_type": "stream",
     "text": [
      "fold 4, score: 0.991\n"
     ]
    },
    {
     "name": "stderr",
     "output_type": "stream",
     "text": [
      "/home/ubuntu/anaconda3/lib/python3.6/site-packages/sklearn/preprocessing/label.py:151: DeprecationWarning: The truth value of an empty array is ambiguous. Returning False, but in future this will result in an error. Use `array.size > 0` to check that an array is not empty.\n",
      "  if diff:\n"
     ]
    },
    {
     "name": "stdout",
     "output_type": "stream",
     "text": [
      "fold 5, score: 0.996\n"
     ]
    },
    {
     "name": "stderr",
     "output_type": "stream",
     "text": [
      "/home/ubuntu/anaconda3/lib/python3.6/site-packages/sklearn/preprocessing/label.py:151: DeprecationWarning: The truth value of an empty array is ambiguous. Returning False, but in future this will result in an error. Use `array.size > 0` to check that an array is not empty.\n",
      "  if diff:\n"
     ]
    },
    {
     "name": "stdout",
     "output_type": "stream",
     "text": [
      "fold 6, score: 0.996\n"
     ]
    },
    {
     "name": "stderr",
     "output_type": "stream",
     "text": [
      "/home/ubuntu/anaconda3/lib/python3.6/site-packages/sklearn/preprocessing/label.py:151: DeprecationWarning: The truth value of an empty array is ambiguous. Returning False, but in future this will result in an error. Use `array.size > 0` to check that an array is not empty.\n",
      "  if diff:\n"
     ]
    },
    {
     "name": "stdout",
     "output_type": "stream",
     "text": [
      "fold 7, score: 0.991\n"
     ]
    },
    {
     "name": "stderr",
     "output_type": "stream",
     "text": [
      "/home/ubuntu/anaconda3/lib/python3.6/site-packages/sklearn/preprocessing/label.py:151: DeprecationWarning: The truth value of an empty array is ambiguous. Returning False, but in future this will result in an error. Use `array.size > 0` to check that an array is not empty.\n",
      "  if diff:\n"
     ]
    },
    {
     "name": "stdout",
     "output_type": "stream",
     "text": [
      "fold 8, score: 0.991\n"
     ]
    },
    {
     "name": "stderr",
     "output_type": "stream",
     "text": [
      "/home/ubuntu/anaconda3/lib/python3.6/site-packages/sklearn/preprocessing/label.py:151: DeprecationWarning: The truth value of an empty array is ambiguous. Returning False, but in future this will result in an error. Use `array.size > 0` to check that an array is not empty.\n",
      "  if diff:\n",
      "/home/ubuntu/anaconda3/lib/python3.6/site-packages/sklearn/preprocessing/label.py:151: DeprecationWarning: The truth value of an empty array is ambiguous. Returning False, but in future this will result in an error. Use `array.size > 0` to check that an array is not empty.\n",
      "  if diff:\n"
     ]
    },
    {
     "name": "stdout",
     "output_type": "stream",
     "text": [
      "fold 9, score: 0.983\n",
      "\n",
      "Accuracy Score: 0.997\n",
      "\n",
      "Confusion Matrix\n",
      "[[508   1]\n",
      " [  2 483]]\n",
      "\n",
      "Classification Report\n",
      "             precision    recall  f1-score   support\n",
      "\n",
      "          0       1.00      1.00      1.00       509\n",
      "          1       1.00      1.00      1.00       485\n",
      "\n",
      "avg / total       1.00      1.00      1.00       994\n",
      "\n",
      "fold 0, score: 0.974\n",
      "fold 1, score: 0.978\n",
      "fold 2, score: 0.970\n",
      "fold 3, score: 0.987\n",
      "fold 4, score: 0.961\n",
      "fold 5, score: 0.974\n",
      "fold 6, score: 0.983\n",
      "fold 7, score: 0.987\n",
      "fold 8, score: 0.983\n",
      "fold 9, score: 0.978\n",
      "\n",
      "Accuracy Score: 0.980\n",
      "\n",
      "Confusion Matrix\n",
      "[[495   5]\n",
      " [ 15 479]]\n",
      "\n",
      "Classification Report\n",
      "             precision    recall  f1-score   support\n",
      "\n",
      "          0       0.97      0.99      0.98       500\n",
      "          1       0.99      0.97      0.98       494\n",
      "\n",
      "avg / total       0.98      0.98      0.98       994\n",
      "\n"
     ]
    },
    {
     "data": {
      "text/plain": [
       "' # images ## new_train_folder_test_v1\\nConfusion Matrix\\n[[464   8]\\n [ 12 510]]\\n'"
      ]
     },
     "execution_count": 10,
     "metadata": {},
     "output_type": "execute_result"
    }
   ],
   "source": [
    "#In [26]:\n",
    "VECTOR_FILE = os.path.join(DATA_DIR,\"weights\" , \"accton-xception-vectors.tsv\")\n",
    "Xtrain, Xtest, ytrain, ytest = preprocess_data(VECTOR_FILE)\n",
    "print(Xtrain.shape, Xtest.shape, ytrain.shape, ytest.shape)\n",
    "#In [27]:\n",
    "clf = GaussianNB()\n",
    "best_clf, best_score = cross_validate(Xtrain, ytrain, clf)\n",
    "scores[4, 0] = best_score\n",
    "test_report(best_clf, Xtest, ytest)\n",
    "save_model(best_clf, get_model_file(DATA_DIR, \"xception\", \"nb\")) # Accuracy Score: 0.949\n",
    "'''\n",
    "Confusion Matrix\n",
    "[[456  31]\n",
    " [ 20 487]]\n",
    "'''\n",
    "#In [28]:\n",
    "clf = LinearSVC()\n",
    "best_clf, best_score = cross_validate(Xtrain, ytrain, clf)\n",
    "scores[4, 1] = best_score\n",
    "test_report(best_clf, Xtest, ytest)\n",
    "save_model(best_clf, get_model_file(DATA_DIR, \"xception\", \"svm\")) # Accuracy Score: 0.968\n",
    "'''\n",
    "Confusion Matrix\n",
    "[[490  12]\n",
    " [ 20 472]]\n",
    "'''\n",
    "#In [29]:\n",
    "clf = XGBClassifier()\n",
    "best_clf, best_score = cross_validate(Xtrain, ytrain, clf)\n",
    "scores[4, 2] = best_score\n",
    "test_report(best_clf, Xtest, ytest)\n",
    "save_model(best_clf, get_model_file(DATA_DIR, \"xception\", \"xgb\")) # Accuracy Score: 0.997\n",
    "'''\n",
    "Confusion Matrix\n",
    "[[508   1]\n",
    " [  2 483]]\n",
    "'''\n",
    "#In [30]:\n",
    "clf = RandomForestClassifier()\n",
    "best_clf, best_score = cross_validate(Xtrain, ytrain, clf)\n",
    "scores[4, 3] = best_score\n",
    "test_report(best_clf, Xtest, ytest)\n",
    "save_model(best_clf, get_model_file(DATA_DIR, \"xception\", \"rf\")) # Accuracy Score: 0.980\n",
    "'''\n",
    "Confusion Matrix\n",
    "[[495   5]\n",
    " [ 15 479]]\n",
    "'''"
   ]
  },
  {
   "cell_type": "code",
   "execution_count": 12,
   "metadata": {},
   "outputs": [
    {
     "data": {
      "text/plain": [
       "Text(0.5,1,'element-wise dot product of vectors')"
      ]
     },
     "execution_count": 12,
     "metadata": {},
     "output_type": "execute_result"
    },
    {
     "data": {
      "image/png": "[encoded data removed]",
      "text/plain": [
       "<Figure size 432x288 with 1 Axes>"
      ]
     },
     "metadata": {},
     "output_type": "display_data"
    }
   ],
   "source": [
    "#In [31]:\n",
    "scores\n",
    "#In [32]:\n",
    "width=0.15\n",
    "plt.bar(np.arange(NUM_CLASSIFIERS), scores[0], width, color=\"r\", label=\"VGG-16\")\n",
    "plt.bar(np.arange(NUM_CLASSIFIERS)+width, scores[1], width, color=\"b\", label=\"VGG-19\")\n",
    "plt.bar(np.arange(NUM_CLASSIFIERS)+2*width, scores[2], width, color=\"g\", label=\"Inception-V3\")\n",
    "plt.bar(np.arange(NUM_CLASSIFIERS)+3*width, scores[3], width, color=\"y\", label=\"ResNet-50\")\n",
    "plt.bar(np.arange(NUM_CLASSIFIERS)+4*width, scores[4], width, color=\"cyan\", label=\"XCeption\")\n",
    "plt.legend(loc=4)\n",
    "plt.ylabel(\"accuracy\")\n",
    "plt.xticks(np.arange(NUM_CLASSIFIERS)+2*width, [\"NaiveBayes\", \"SvM\", \"XGBoost\", \"RandomForest\"],\n",
    "          rotation=30)\n",
    "plt.title(\"element-wise dot product of vectors\")"
   ]
  },
  {
   "cell_type": "code",
   "execution_count": null,
   "metadata": {},
   "outputs": [],
   "source": []
  }
 ],
 "metadata": {
  "kernelspec": {
   "display_name": "Python 3",
   "language": "python",
   "name": "python3"
  },
  "language_info": {
   "codemirror_mode": {
    "name": "ipython",
    "version": 3
   },
   "file_extension": ".py",
   "mimetype": "text/x-python",
   "name": "python",
   "nbconvert_exporter": "python",
   "pygments_lexer": "ipython3",
   "version": "3.6.4"
  }
 },
 "nbformat": 4,
 "nbformat_minor": 2
}
