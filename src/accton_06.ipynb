{
 "cells": [
  {
   "cell_type": "code",
   "execution_count": 1,
   "metadata": {},
   "outputs": [
    {
     "name": "stderr",
     "output_type": "stream",
     "text": [
      "/home/ubuntu/anaconda3/lib/python3.6/site-packages/matplotlib/__init__.py:1067: UserWarning: Duplicate key in file \"/home/ubuntu/.config/matplotlib/matplotlibrc\", line #2\n",
      "  (fname, cnt))\n",
      "/home/ubuntu/anaconda3/lib/python3.6/site-packages/matplotlib/__init__.py:1067: UserWarning: Duplicate key in file \"/home/ubuntu/.config/matplotlib/matplotlibrc\", line #3\n",
      "  (fname, cnt))\n"
     ]
    }
   ],
   "source": [
    "from __future__ import division, print_function\n",
    "from sklearn.ensemble import RandomForestClassifier\n",
    "from sklearn.externals import joblib\n",
    "from sklearn.model_selection import train_test_split, KFold\n",
    "from sklearn.naive_bayes import GaussianNB\n",
    "from sklearn.metrics import accuracy_score, confusion_matrix, classification_report\n",
    "from sklearn.svm import LinearSVC\n",
    "from xgboost import XGBClassifier\n",
    "import itertools\n",
    "import matplotlib.pyplot as plt\n",
    "import numpy as np\n",
    "import os\n",
    "%matplotlib inline"
   ]
  },
  {
   "cell_type": "code",
   "execution_count": 2,
   "metadata": {},
   "outputs": [],
   "source": [
    "#In [2]:\n",
    "DATA_DIR = \"\"\n",
    "IMAGE_DIR = os.path.join(DATA_DIR, \"holiday-photos/jpg\")\n",
    "WEIGHTS_DIR = os.path.join(DATA_DIR, \"weights\")"
   ]
  },
  {
   "cell_type": "code",
   "execution_count": 5,
   "metadata": {},
   "outputs": [],
   "source": [
    "#In [3]:\n",
    "def get_holiday_triples(image_dir):\n",
    "    image_groups = {}\n",
    "    for image_name in os.listdir(image_dir):\n",
    "        base_name = image_name[0:-4]\n",
    "        group_name = base_name[0:4]\n",
    "        if group_name in image_groups:\n",
    "            image_groups[group_name].append(image_name)\n",
    "        else:\n",
    "            image_groups[group_name] = [image_name]\n",
    "    num_sims = 0\n",
    "    image_triples = []\n",
    "    group_list = sorted(list(image_groups.keys()))\n",
    "    for i, g in enumerate(group_list):\n",
    "        if num_sims % 100 == 0:\n",
    "            print(\"Generated {:d} pos + {:d} neg = {:d} total image triples\"\n",
    "                  .format(num_sims, num_sims, 2*num_sims))\n",
    "        images_in_group = image_groups[g]\n",
    "        sim_pairs_it = itertools.combinations(images_in_group, 2)\n",
    "        # for each similar pair, generate a corresponding different pair\n",
    "        for ref_image, sim_image in sim_pairs_it:\n",
    "            image_triples.append((ref_image, sim_image, 1))\n",
    "            num_sims += 1\n",
    "            while True:\n",
    "                j = np.random.randint(low=0, high=len(group_list), size=1)[0]\n",
    "                if j != i:\n",
    "                    break\n",
    "            dif_image_candidates = image_groups[group_list[j]]\n",
    "            k = np.random.randint(low=0, high=len(dif_image_candidates), size=1)[0]\n",
    "            dif_image = dif_image_candidates[k]\n",
    "            image_triples.append((ref_image, dif_image, 0))\n",
    "    print(\"Generated {:d} pos + {:d} neg = {:d} total image triples\"\n",
    "          .format(num_sims, num_sims, 2*num_sims))\n",
    "    return image_triples\n",
    "\n",
    "def load_vectors(vector_file):\n",
    "    vec_dict = {}\n",
    "    fvec = open(vector_file, \"r\")\n",
    "    for line in fvec:\n",
    "        image_name, image_vec = line.strip().split(\"\\t\")\n",
    "        vec = np.array([float(v) for v in image_vec.split(\",\")])\n",
    "        vec_dict[image_name] = vec\n",
    "    fvec.close()\n",
    "    return vec_dict\n",
    "\n",
    "def preprocess_data(vector_file, train_size=0.7):\n",
    "    xdata, ydata = [], []\n",
    "    vec_dict = load_vectors(vector_file)\n",
    "    for image_triple in image_triples:\n",
    "        X1 = vec_dict[image_triple[0]]\n",
    "        X2 = vec_dict[image_triple[1]]\n",
    "#         xdata.append(np.multiply(X1, X2) / (np.linalg.norm(X1, 2) * np.linalg.norm(X2, 2)))\n",
    "        xdata.append(np.power(np.subtract(X1, X2), 2))\n",
    "        ydata.append(image_triple[2])\n",
    "    X, y = np.array(xdata), np.array(ydata)\n",
    "    Xtrain, Xtest, ytrain, ytest = train_test_split(X, y, train_size=train_size)\n",
    "    return Xtrain, Xtest, ytrain, ytest\n",
    "\n",
    "def cross_validate(X, y, clf, k=10):\n",
    "    best_score, best_clf = 0.0, None\n",
    "    kfold = KFold(k)\n",
    "    for kid, (train, test) in enumerate(kfold.split(X, y)):\n",
    "        Xtrain, Xtest, ytrain, ytest = X[train], X[test], y[train], y[test]\n",
    "        clf.fit(Xtrain, ytrain)\n",
    "        ytest_ = clf.predict(Xtest)\n",
    "        score = accuracy_score(ytest_, ytest)\n",
    "        print(\"fold {:d}, score: {:.3f}\".format(kid, score))\n",
    "        if score > best_score:\n",
    "            best_score = score\n",
    "            best_clf = clf\n",
    "    return best_clf, best_score\n",
    "\n",
    "def test_report(clf, Xtest, ytest):\n",
    "    ytest_ = clf.predict(Xtest)\n",
    "    print(\"\\nAccuracy Score: {:.3f}\".format(accuracy_score(ytest_, ytest)))\n",
    "    print(\"\\nConfusion Matrix\")\n",
    "    print(confusion_matrix(ytest_, ytest))\n",
    "    print(\"\\nClassification Report\")\n",
    "    print(classification_report(ytest_, ytest))\n",
    "    \n",
    "def get_model_file(data_dir, vec_name, clf_name):\n",
    "    return os.path.join(data_dir, \"models\", \"H-{:s}-{:s}-l2.pkl\"\n",
    "                        .format(vec_name, clf_name))\n",
    "\n",
    "def save_model(model, model_file):\n",
    "    joblib.dump(model, model_file)"
   ]
  },
  {
   "cell_type": "code",
   "execution_count": 4,
   "metadata": {},
   "outputs": [
    {
     "name": "stdout",
     "output_type": "stream",
     "text": [
      "Generated 0 pos + 0 neg = 0 total image triples\n",
      "Generated 300 pos + 300 neg = 600 total image triples\n",
      "Generated 1100 pos + 1100 neg = 2200 total image triples\n",
      "Generated 1800 pos + 1800 neg = 3600 total image triples\n",
      "Generated 2072 pos + 2072 neg = 4144 total image triples\n"
     ]
    }
   ],
   "source": [
    "# In [4]:\n",
    "image_triples = get_holiday_triples(IMAGE_DIR)\n",
    "#In [5]:\n",
    "NUM_VECTORIZERS = 5\n",
    "NUM_CLASSIFIERS = 4\n",
    "scores = np.zeros((NUM_VECTORIZERS, NUM_CLASSIFIERS))"
   ]
  },
  {
   "cell_type": "code",
   "execution_count": null,
   "metadata": {},
   "outputs": [
    {
     "name": "stderr",
     "output_type": "stream",
     "text": [
      "/home/ubuntu/anaconda3/lib/python3.6/site-packages/sklearn/model_selection/_split.py:2026: FutureWarning: From version 0.21, test_size will always complement train_size unless both are specified.\n",
      "  FutureWarning)\n"
     ]
    },
    {
     "name": "stdout",
     "output_type": "stream",
     "text": [
      "(2900, 4096) (1244, 4096) (2900,) (1244,)\n",
      "fold 0, score: 0.834\n",
      "fold 1, score: 0.793\n",
      "fold 2, score: 0.800\n",
      "fold 3, score: 0.800\n",
      "fold 4, score: 0.807\n",
      "fold 5, score: 0.845\n",
      "fold 6, score: 0.803\n",
      "fold 7, score: 0.800\n",
      "fold 8, score: 0.807\n",
      "fold 9, score: 0.803\n",
      "\n",
      "Accuracy Score: 0.818\n",
      "\n",
      "Confusion Matrix\n",
      "[[512  91]\n",
      " [135 506]]\n",
      "\n",
      "Classification Report\n",
      "             precision    recall  f1-score   support\n",
      "\n",
      "          0       0.79      0.85      0.82       603\n",
      "          1       0.85      0.79      0.82       641\n",
      "\n",
      "avg / total       0.82      0.82      0.82      1244\n",
      "\n",
      "fold 0, score: 0.910\n",
      "fold 1, score: 0.910\n",
      "fold 2, score: 0.876\n",
      "fold 3, score: 0.879\n",
      "fold 4, score: 0.900\n",
      "fold 5, score: 0.845\n",
      "fold 6, score: 0.876\n",
      "fold 7, score: 0.907\n",
      "fold 8, score: 0.910\n",
      "fold 9, score: 0.903\n",
      "\n",
      "Accuracy Score: 0.881\n",
      "\n",
      "Confusion Matrix\n",
      "[[545  46]\n",
      " [102 551]]\n",
      "\n",
      "Classification Report\n",
      "             precision    recall  f1-score   support\n",
      "\n",
      "          0       0.84      0.92      0.88       591\n",
      "          1       0.92      0.84      0.88       653\n",
      "\n",
      "avg / total       0.88      0.88      0.88      1244\n",
      "\n"
     ]
    },
    {
     "name": "stderr",
     "output_type": "stream",
     "text": [
      "/home/ubuntu/anaconda3/lib/python3.6/site-packages/sklearn/preprocessing/label.py:151: DeprecationWarning: The truth value of an empty array is ambiguous. Returning False, but in future this will result in an error. Use `array.size > 0` to check that an array is not empty.\n",
      "  if diff:\n"
     ]
    },
    {
     "name": "stdout",
     "output_type": "stream",
     "text": [
      "fold 0, score: 0.897\n"
     ]
    },
    {
     "name": "stderr",
     "output_type": "stream",
     "text": [
      "/home/ubuntu/anaconda3/lib/python3.6/site-packages/sklearn/preprocessing/label.py:151: DeprecationWarning: The truth value of an empty array is ambiguous. Returning False, but in future this will result in an error. Use `array.size > 0` to check that an array is not empty.\n",
      "  if diff:\n"
     ]
    },
    {
     "name": "stdout",
     "output_type": "stream",
     "text": [
      "fold 1, score: 0.897\n"
     ]
    },
    {
     "name": "stderr",
     "output_type": "stream",
     "text": [
      "/home/ubuntu/anaconda3/lib/python3.6/site-packages/sklearn/preprocessing/label.py:151: DeprecationWarning: The truth value of an empty array is ambiguous. Returning False, but in future this will result in an error. Use `array.size > 0` to check that an array is not empty.\n",
      "  if diff:\n"
     ]
    },
    {
     "name": "stdout",
     "output_type": "stream",
     "text": [
      "fold 2, score: 0.917\n"
     ]
    },
    {
     "name": "stderr",
     "output_type": "stream",
     "text": [
      "/home/ubuntu/anaconda3/lib/python3.6/site-packages/sklearn/preprocessing/label.py:151: DeprecationWarning: The truth value of an empty array is ambiguous. Returning False, but in future this will result in an error. Use `array.size > 0` to check that an array is not empty.\n",
      "  if diff:\n"
     ]
    },
    {
     "name": "stdout",
     "output_type": "stream",
     "text": [
      "fold 3, score: 0.934\n"
     ]
    },
    {
     "name": "stderr",
     "output_type": "stream",
     "text": [
      "/home/ubuntu/anaconda3/lib/python3.6/site-packages/sklearn/preprocessing/label.py:151: DeprecationWarning: The truth value of an empty array is ambiguous. Returning False, but in future this will result in an error. Use `array.size > 0` to check that an array is not empty.\n",
      "  if diff:\n"
     ]
    },
    {
     "name": "stdout",
     "output_type": "stream",
     "text": [
      "fold 4, score: 0.917\n"
     ]
    },
    {
     "name": "stderr",
     "output_type": "stream",
     "text": [
      "/home/ubuntu/anaconda3/lib/python3.6/site-packages/sklearn/preprocessing/label.py:151: DeprecationWarning: The truth value of an empty array is ambiguous. Returning False, but in future this will result in an error. Use `array.size > 0` to check that an array is not empty.\n",
      "  if diff:\n"
     ]
    },
    {
     "name": "stdout",
     "output_type": "stream",
     "text": [
      "fold 5, score: 0.917\n"
     ]
    },
    {
     "name": "stderr",
     "output_type": "stream",
     "text": [
      "/home/ubuntu/anaconda3/lib/python3.6/site-packages/sklearn/preprocessing/label.py:151: DeprecationWarning: The truth value of an empty array is ambiguous. Returning False, but in future this will result in an error. Use `array.size > 0` to check that an array is not empty.\n",
      "  if diff:\n"
     ]
    },
    {
     "name": "stdout",
     "output_type": "stream",
     "text": [
      "fold 6, score: 0.948\n"
     ]
    },
    {
     "name": "stderr",
     "output_type": "stream",
     "text": [
      "/home/ubuntu/anaconda3/lib/python3.6/site-packages/sklearn/preprocessing/label.py:151: DeprecationWarning: The truth value of an empty array is ambiguous. Returning False, but in future this will result in an error. Use `array.size > 0` to check that an array is not empty.\n",
      "  if diff:\n"
     ]
    },
    {
     "name": "stdout",
     "output_type": "stream",
     "text": [
      "fold 7, score: 0.928\n"
     ]
    },
    {
     "name": "stderr",
     "output_type": "stream",
     "text": [
      "/home/ubuntu/anaconda3/lib/python3.6/site-packages/sklearn/preprocessing/label.py:151: DeprecationWarning: The truth value of an empty array is ambiguous. Returning False, but in future this will result in an error. Use `array.size > 0` to check that an array is not empty.\n",
      "  if diff:\n"
     ]
    },
    {
     "name": "stdout",
     "output_type": "stream",
     "text": [
      "fold 8, score: 0.924\n"
     ]
    },
    {
     "name": "stderr",
     "output_type": "stream",
     "text": [
      "/home/ubuntu/anaconda3/lib/python3.6/site-packages/sklearn/preprocessing/label.py:151: DeprecationWarning: The truth value of an empty array is ambiguous. Returning False, but in future this will result in an error. Use `array.size > 0` to check that an array is not empty.\n",
      "  if diff:\n",
      "/home/ubuntu/anaconda3/lib/python3.6/site-packages/sklearn/preprocessing/label.py:151: DeprecationWarning: The truth value of an empty array is ambiguous. Returning False, but in future this will result in an error. Use `array.size > 0` to check that an array is not empty.\n",
      "  if diff:\n"
     ]
    },
    {
     "name": "stdout",
     "output_type": "stream",
     "text": [
      "fold 9, score: 0.938\n",
      "\n",
      "Accuracy Score: 0.924\n",
      "\n",
      "Confusion Matrix\n",
      "[[596  44]\n",
      " [ 51 553]]\n",
      "\n",
      "Classification Report\n",
      "             precision    recall  f1-score   support\n",
      "\n",
      "          0       0.92      0.93      0.93       640\n",
      "          1       0.93      0.92      0.92       604\n",
      "\n",
      "avg / total       0.92      0.92      0.92      1244\n",
      "\n",
      "fold 0, score: 0.876\n",
      "fold 1, score: 0.859\n",
      "fold 2, score: 0.890\n",
      "fold 3, score: 0.831\n",
      "fold 4, score: 0.890\n",
      "fold 5, score: 0.872\n",
      "fold 6, score: 0.897\n",
      "fold 7, score: 0.841\n",
      "fold 8, score: 0.852\n",
      "fold 9, score: 0.852\n",
      "\n",
      "Accuracy Score: 0.867\n",
      "\n",
      "Confusion Matrix\n",
      "[[602 120]\n",
      " [ 45 477]]\n",
      "\n",
      "Classification Report\n",
      "             precision    recall  f1-score   support\n",
      "\n",
      "          0       0.93      0.83      0.88       722\n",
      "          1       0.80      0.91      0.85       522\n",
      "\n",
      "avg / total       0.88      0.87      0.87      1244\n",
      "\n"
     ]
    },
    {
     "name": "stderr",
     "output_type": "stream",
     "text": [
      "/home/ubuntu/anaconda3/lib/python3.6/site-packages/sklearn/model_selection/_split.py:2026: FutureWarning: From version 0.21, test_size will always complement train_size unless both are specified.\n",
      "  FutureWarning)\n"
     ]
    },
    {
     "name": "stdout",
     "output_type": "stream",
     "text": [
      "(2900, 4096) (1244, 4096) (2900,) (1244,)\n",
      "fold 0, score: 0.790\n",
      "fold 1, score: 0.797\n",
      "fold 2, score: 0.779\n",
      "fold 3, score: 0.772\n",
      "fold 4, score: 0.803\n",
      "fold 5, score: 0.776\n",
      "fold 6, score: 0.841\n",
      "fold 7, score: 0.831\n",
      "fold 8, score: 0.786\n",
      "fold 9, score: 0.810\n",
      "\n",
      "Accuracy Score: 0.809\n",
      "\n",
      "Confusion Matrix\n",
      "[[490 109]\n",
      " [128 517]]\n",
      "\n",
      "Classification Report\n",
      "             precision    recall  f1-score   support\n",
      "\n",
      "          0       0.79      0.82      0.81       599\n",
      "          1       0.83      0.80      0.81       645\n",
      "\n",
      "avg / total       0.81      0.81      0.81      1244\n",
      "\n",
      "fold 0, score: 0.876\n",
      "fold 1, score: 0.886\n",
      "fold 2, score: 0.852\n",
      "fold 3, score: 0.890\n",
      "fold 4, score: 0.886\n",
      "fold 5, score: 0.876\n",
      "fold 6, score: 0.872\n",
      "fold 7, score: 0.869\n",
      "fold 8, score: 0.876\n",
      "fold 9, score: 0.900\n",
      "\n",
      "Accuracy Score: 0.891\n",
      "\n",
      "Confusion Matrix\n",
      "[[521  38]\n",
      " [ 97 588]]\n",
      "\n",
      "Classification Report\n",
      "             precision    recall  f1-score   support\n",
      "\n",
      "          0       0.84      0.93      0.89       559\n",
      "          1       0.94      0.86      0.90       685\n",
      "\n",
      "avg / total       0.90      0.89      0.89      1244\n",
      "\n"
     ]
    },
    {
     "name": "stderr",
     "output_type": "stream",
     "text": [
      "/home/ubuntu/anaconda3/lib/python3.6/site-packages/sklearn/preprocessing/label.py:151: DeprecationWarning: The truth value of an empty array is ambiguous. Returning False, but in future this will result in an error. Use `array.size > 0` to check that an array is not empty.\n",
      "  if diff:\n"
     ]
    },
    {
     "name": "stdout",
     "output_type": "stream",
     "text": [
      "fold 0, score: 0.893\n"
     ]
    },
    {
     "name": "stderr",
     "output_type": "stream",
     "text": [
      "/home/ubuntu/anaconda3/lib/python3.6/site-packages/sklearn/preprocessing/label.py:151: DeprecationWarning: The truth value of an empty array is ambiguous. Returning False, but in future this will result in an error. Use `array.size > 0` to check that an array is not empty.\n",
      "  if diff:\n"
     ]
    },
    {
     "name": "stdout",
     "output_type": "stream",
     "text": [
      "fold 1, score: 0.928\n"
     ]
    },
    {
     "name": "stderr",
     "output_type": "stream",
     "text": [
      "/home/ubuntu/anaconda3/lib/python3.6/site-packages/sklearn/preprocessing/label.py:151: DeprecationWarning: The truth value of an empty array is ambiguous. Returning False, but in future this will result in an error. Use `array.size > 0` to check that an array is not empty.\n",
      "  if diff:\n"
     ]
    },
    {
     "name": "stdout",
     "output_type": "stream",
     "text": [
      "fold 2, score: 0.893\n"
     ]
    },
    {
     "name": "stderr",
     "output_type": "stream",
     "text": [
      "/home/ubuntu/anaconda3/lib/python3.6/site-packages/sklearn/preprocessing/label.py:151: DeprecationWarning: The truth value of an empty array is ambiguous. Returning False, but in future this will result in an error. Use `array.size > 0` to check that an array is not empty.\n",
      "  if diff:\n"
     ]
    },
    {
     "name": "stdout",
     "output_type": "stream",
     "text": [
      "fold 3, score: 0.945\n"
     ]
    },
    {
     "name": "stderr",
     "output_type": "stream",
     "text": [
      "/home/ubuntu/anaconda3/lib/python3.6/site-packages/sklearn/preprocessing/label.py:151: DeprecationWarning: The truth value of an empty array is ambiguous. Returning False, but in future this will result in an error. Use `array.size > 0` to check that an array is not empty.\n",
      "  if diff:\n"
     ]
    },
    {
     "name": "stdout",
     "output_type": "stream",
     "text": [
      "fold 4, score: 0.941\n"
     ]
    },
    {
     "name": "stderr",
     "output_type": "stream",
     "text": [
      "/home/ubuntu/anaconda3/lib/python3.6/site-packages/sklearn/preprocessing/label.py:151: DeprecationWarning: The truth value of an empty array is ambiguous. Returning False, but in future this will result in an error. Use `array.size > 0` to check that an array is not empty.\n",
      "  if diff:\n"
     ]
    },
    {
     "name": "stdout",
     "output_type": "stream",
     "text": [
      "fold 5, score: 0.941\n"
     ]
    },
    {
     "name": "stderr",
     "output_type": "stream",
     "text": [
      "/home/ubuntu/anaconda3/lib/python3.6/site-packages/sklearn/preprocessing/label.py:151: DeprecationWarning: The truth value of an empty array is ambiguous. Returning False, but in future this will result in an error. Use `array.size > 0` to check that an array is not empty.\n",
      "  if diff:\n"
     ]
    },
    {
     "name": "stdout",
     "output_type": "stream",
     "text": [
      "fold 6, score: 0.910\n"
     ]
    },
    {
     "name": "stderr",
     "output_type": "stream",
     "text": [
      "/home/ubuntu/anaconda3/lib/python3.6/site-packages/sklearn/preprocessing/label.py:151: DeprecationWarning: The truth value of an empty array is ambiguous. Returning False, but in future this will result in an error. Use `array.size > 0` to check that an array is not empty.\n",
      "  if diff:\n"
     ]
    },
    {
     "name": "stdout",
     "output_type": "stream",
     "text": [
      "fold 7, score: 0.941\n"
     ]
    },
    {
     "name": "stderr",
     "output_type": "stream",
     "text": [
      "/home/ubuntu/anaconda3/lib/python3.6/site-packages/sklearn/preprocessing/label.py:151: DeprecationWarning: The truth value of an empty array is ambiguous. Returning False, but in future this will result in an error. Use `array.size > 0` to check that an array is not empty.\n",
      "  if diff:\n"
     ]
    },
    {
     "name": "stdout",
     "output_type": "stream",
     "text": [
      "fold 8, score: 0.928\n"
     ]
    },
    {
     "name": "stderr",
     "output_type": "stream",
     "text": [
      "/home/ubuntu/anaconda3/lib/python3.6/site-packages/sklearn/preprocessing/label.py:151: DeprecationWarning: The truth value of an empty array is ambiguous. Returning False, but in future this will result in an error. Use `array.size > 0` to check that an array is not empty.\n",
      "  if diff:\n",
      "/home/ubuntu/anaconda3/lib/python3.6/site-packages/sklearn/preprocessing/label.py:151: DeprecationWarning: The truth value of an empty array is ambiguous. Returning False, but in future this will result in an error. Use `array.size > 0` to check that an array is not empty.\n",
      "  if diff:\n"
     ]
    },
    {
     "name": "stdout",
     "output_type": "stream",
     "text": [
      "fold 9, score: 0.917\n",
      "\n",
      "Accuracy Score: 0.913\n",
      "\n",
      "Confusion Matrix\n",
      "[[557  47]\n",
      " [ 61 579]]\n",
      "\n",
      "Classification Report\n",
      "             precision    recall  f1-score   support\n",
      "\n",
      "          0       0.90      0.92      0.91       604\n",
      "          1       0.92      0.90      0.91       640\n",
      "\n",
      "avg / total       0.91      0.91      0.91      1244\n",
      "\n",
      "fold 0, score: 0.831\n",
      "fold 1, score: 0.862\n",
      "fold 2, score: 0.852\n",
      "fold 3, score: 0.869\n",
      "fold 4, score: 0.845\n",
      "fold 5, score: 0.876\n",
      "fold 6, score: 0.872\n",
      "fold 7, score: 0.866\n",
      "fold 8, score: 0.855\n",
      "fold 9, score: 0.886\n",
      "\n",
      "Accuracy Score: 0.847\n",
      "\n",
      "Confusion Matrix\n",
      "[[558 130]\n",
      " [ 60 496]]\n",
      "\n",
      "Classification Report\n",
      "             precision    recall  f1-score   support\n",
      "\n",
      "          0       0.90      0.81      0.85       688\n",
      "          1       0.79      0.89      0.84       556\n",
      "\n",
      "avg / total       0.85      0.85      0.85      1244\n",
      "\n"
     ]
    },
    {
     "name": "stderr",
     "output_type": "stream",
     "text": [
      "/home/ubuntu/anaconda3/lib/python3.6/site-packages/sklearn/model_selection/_split.py:2026: FutureWarning: From version 0.21, test_size will always complement train_size unless both are specified.\n",
      "  FutureWarning)\n"
     ]
    },
    {
     "name": "stdout",
     "output_type": "stream",
     "text": [
      "(2900, 2048) (1244, 2048) (2900,) (1244,)\n",
      "fold 0, score: 0.866\n",
      "fold 1, score: 0.838\n",
      "fold 2, score: 0.855\n",
      "fold 3, score: 0.883\n",
      "fold 4, score: 0.883\n",
      "fold 5, score: 0.852\n",
      "fold 6, score: 0.855\n",
      "fold 7, score: 0.859\n",
      "fold 8, score: 0.848\n",
      "fold 9, score: 0.886\n",
      "\n",
      "Accuracy Score: 0.865\n",
      "\n",
      "Confusion Matrix\n",
      "[[558 118]\n",
      " [ 50 518]]\n",
      "\n",
      "Classification Report\n",
      "             precision    recall  f1-score   support\n",
      "\n",
      "          0       0.92      0.83      0.87       676\n",
      "          1       0.81      0.91      0.86       568\n",
      "\n",
      "avg / total       0.87      0.86      0.87      1244\n",
      "\n",
      "fold 0, score: 0.917\n",
      "fold 1, score: 0.883\n",
      "fold 2, score: 0.907\n",
      "fold 3, score: 0.917\n",
      "fold 4, score: 0.917\n",
      "fold 5, score: 0.914\n",
      "fold 6, score: 0.914\n",
      "fold 7, score: 0.924\n",
      "fold 8, score: 0.886\n",
      "fold 9, score: 0.890\n",
      "\n",
      "Accuracy Score: 0.912\n",
      "\n",
      "Confusion Matrix\n",
      "[[529  31]\n",
      " [ 79 605]]\n",
      "\n",
      "Classification Report\n",
      "             precision    recall  f1-score   support\n",
      "\n",
      "          0       0.87      0.94      0.91       560\n",
      "          1       0.95      0.88      0.92       684\n",
      "\n",
      "avg / total       0.91      0.91      0.91      1244\n",
      "\n"
     ]
    },
    {
     "name": "stderr",
     "output_type": "stream",
     "text": [
      "/home/ubuntu/anaconda3/lib/python3.6/site-packages/sklearn/preprocessing/label.py:151: DeprecationWarning: The truth value of an empty array is ambiguous. Returning False, but in future this will result in an error. Use `array.size > 0` to check that an array is not empty.\n",
      "  if diff:\n"
     ]
    },
    {
     "name": "stdout",
     "output_type": "stream",
     "text": [
      "fold 0, score: 0.931\n"
     ]
    },
    {
     "name": "stderr",
     "output_type": "stream",
     "text": [
      "/home/ubuntu/anaconda3/lib/python3.6/site-packages/sklearn/preprocessing/label.py:151: DeprecationWarning: The truth value of an empty array is ambiguous. Returning False, but in future this will result in an error. Use `array.size > 0` to check that an array is not empty.\n",
      "  if diff:\n"
     ]
    },
    {
     "name": "stdout",
     "output_type": "stream",
     "text": [
      "fold 1, score: 0.917\n"
     ]
    },
    {
     "name": "stderr",
     "output_type": "stream",
     "text": [
      "/home/ubuntu/anaconda3/lib/python3.6/site-packages/sklearn/preprocessing/label.py:151: DeprecationWarning: The truth value of an empty array is ambiguous. Returning False, but in future this will result in an error. Use `array.size > 0` to check that an array is not empty.\n",
      "  if diff:\n"
     ]
    },
    {
     "name": "stdout",
     "output_type": "stream",
     "text": [
      "fold 2, score: 0.897\n"
     ]
    },
    {
     "name": "stderr",
     "output_type": "stream",
     "text": [
      "/home/ubuntu/anaconda3/lib/python3.6/site-packages/sklearn/preprocessing/label.py:151: DeprecationWarning: The truth value of an empty array is ambiguous. Returning False, but in future this will result in an error. Use `array.size > 0` to check that an array is not empty.\n",
      "  if diff:\n"
     ]
    },
    {
     "name": "stdout",
     "output_type": "stream",
     "text": [
      "fold 3, score: 0.921\n"
     ]
    },
    {
     "name": "stderr",
     "output_type": "stream",
     "text": [
      "/home/ubuntu/anaconda3/lib/python3.6/site-packages/sklearn/preprocessing/label.py:151: DeprecationWarning: The truth value of an empty array is ambiguous. Returning False, but in future this will result in an error. Use `array.size > 0` to check that an array is not empty.\n",
      "  if diff:\n"
     ]
    },
    {
     "name": "stdout",
     "output_type": "stream",
     "text": [
      "fold 4, score: 0.931\n"
     ]
    },
    {
     "name": "stderr",
     "output_type": "stream",
     "text": [
      "/home/ubuntu/anaconda3/lib/python3.6/site-packages/sklearn/preprocessing/label.py:151: DeprecationWarning: The truth value of an empty array is ambiguous. Returning False, but in future this will result in an error. Use `array.size > 0` to check that an array is not empty.\n",
      "  if diff:\n"
     ]
    },
    {
     "name": "stdout",
     "output_type": "stream",
     "text": [
      "fold 5, score: 0.897\n"
     ]
    },
    {
     "name": "stderr",
     "output_type": "stream",
     "text": [
      "/home/ubuntu/anaconda3/lib/python3.6/site-packages/sklearn/preprocessing/label.py:151: DeprecationWarning: The truth value of an empty array is ambiguous. Returning False, but in future this will result in an error. Use `array.size > 0` to check that an array is not empty.\n",
      "  if diff:\n"
     ]
    },
    {
     "name": "stdout",
     "output_type": "stream",
     "text": [
      "fold 6, score: 0.903\n"
     ]
    },
    {
     "name": "stderr",
     "output_type": "stream",
     "text": [
      "/home/ubuntu/anaconda3/lib/python3.6/site-packages/sklearn/preprocessing/label.py:151: DeprecationWarning: The truth value of an empty array is ambiguous. Returning False, but in future this will result in an error. Use `array.size > 0` to check that an array is not empty.\n",
      "  if diff:\n"
     ]
    },
    {
     "name": "stdout",
     "output_type": "stream",
     "text": [
      "fold 7, score: 0.945\n"
     ]
    },
    {
     "name": "stderr",
     "output_type": "stream",
     "text": [
      "/home/ubuntu/anaconda3/lib/python3.6/site-packages/sklearn/preprocessing/label.py:151: DeprecationWarning: The truth value of an empty array is ambiguous. Returning False, but in future this will result in an error. Use `array.size > 0` to check that an array is not empty.\n",
      "  if diff:\n"
     ]
    },
    {
     "name": "stdout",
     "output_type": "stream",
     "text": [
      "fold 8, score: 0.903\n"
     ]
    },
    {
     "name": "stderr",
     "output_type": "stream",
     "text": [
      "/home/ubuntu/anaconda3/lib/python3.6/site-packages/sklearn/preprocessing/label.py:151: DeprecationWarning: The truth value of an empty array is ambiguous. Returning False, but in future this will result in an error. Use `array.size > 0` to check that an array is not empty.\n",
      "  if diff:\n",
      "/home/ubuntu/anaconda3/lib/python3.6/site-packages/sklearn/preprocessing/label.py:151: DeprecationWarning: The truth value of an empty array is ambiguous. Returning False, but in future this will result in an error. Use `array.size > 0` to check that an array is not empty.\n",
      "  if diff:\n"
     ]
    },
    {
     "name": "stdout",
     "output_type": "stream",
     "text": [
      "fold 9, score: 0.921\n",
      "\n",
      "Accuracy Score: 0.916\n",
      "\n",
      "Confusion Matrix\n",
      "[[572  69]\n",
      " [ 36 567]]\n",
      "\n",
      "Classification Report\n",
      "             precision    recall  f1-score   support\n",
      "\n",
      "          0       0.94      0.89      0.92       641\n",
      "          1       0.89      0.94      0.92       603\n",
      "\n",
      "avg / total       0.92      0.92      0.92      1244\n",
      "\n",
      "fold 0, score: 0.852\n",
      "fold 1, score: 0.848\n",
      "fold 2, score: 0.797\n",
      "fold 3, score: 0.810\n",
      "fold 4, score: 0.834\n",
      "fold 5, score: 0.807\n",
      "fold 6, score: 0.831\n",
      "fold 7, score: 0.838\n",
      "fold 8, score: 0.807\n",
      "fold 9, score: 0.876\n",
      "\n",
      "Accuracy Score: 0.811\n",
      "\n",
      "Confusion Matrix\n",
      "[[559 186]\n",
      " [ 49 450]]\n",
      "\n",
      "Classification Report\n",
      "             precision    recall  f1-score   support\n",
      "\n",
      "          0       0.92      0.75      0.83       745\n",
      "          1       0.71      0.90      0.79       499\n",
      "\n",
      "avg / total       0.83      0.81      0.81      1244\n",
      "\n"
     ]
    },
    {
     "name": "stderr",
     "output_type": "stream",
     "text": [
      "/home/ubuntu/anaconda3/lib/python3.6/site-packages/sklearn/model_selection/_split.py:2026: FutureWarning: From version 0.21, test_size will always complement train_size unless both are specified.\n",
      "  FutureWarning)\n"
     ]
    },
    {
     "name": "stdout",
     "output_type": "stream",
     "text": [
      "(2900, 2048) (1244, 2048) (2900,) (1244,)\n",
      "fold 0, score: 0.838\n",
      "fold 1, score: 0.855\n",
      "fold 2, score: 0.866\n",
      "fold 3, score: 0.862\n",
      "fold 4, score: 0.862\n",
      "fold 5, score: 0.852\n",
      "fold 6, score: 0.845\n",
      "fold 7, score: 0.821\n",
      "fold 8, score: 0.869\n",
      "fold 9, score: 0.866\n",
      "\n",
      "Accuracy Score: 0.862\n",
      "\n",
      "Confusion Matrix\n",
      "[[553  97]\n",
      " [ 75 519]]\n",
      "\n",
      "Classification Report\n",
      "             precision    recall  f1-score   support\n",
      "\n",
      "          0       0.88      0.85      0.87       650\n",
      "          1       0.84      0.87      0.86       594\n",
      "\n",
      "avg / total       0.86      0.86      0.86      1244\n",
      "\n",
      "fold 0, score: 0.890\n",
      "fold 1, score: 0.883\n",
      "fold 2, score: 0.893\n",
      "fold 3, score: 0.907\n",
      "fold 4, score: 0.872\n",
      "fold 5, score: 0.897\n",
      "fold 6, score: 0.910\n",
      "fold 7, score: 0.872\n",
      "fold 8, score: 0.886\n",
      "fold 9, score: 0.876\n",
      "\n",
      "Accuracy Score: 0.875\n",
      "\n",
      "Confusion Matrix\n",
      "[[514  41]\n",
      " [114 575]]\n",
      "\n",
      "Classification Report\n",
      "             precision    recall  f1-score   support\n",
      "\n",
      "          0       0.82      0.93      0.87       555\n",
      "          1       0.93      0.83      0.88       689\n",
      "\n",
      "avg / total       0.88      0.88      0.88      1244\n",
      "\n"
     ]
    },
    {
     "name": "stderr",
     "output_type": "stream",
     "text": [
      "/home/ubuntu/anaconda3/lib/python3.6/site-packages/sklearn/preprocessing/label.py:151: DeprecationWarning: The truth value of an empty array is ambiguous. Returning False, but in future this will result in an error. Use `array.size > 0` to check that an array is not empty.\n",
      "  if diff:\n"
     ]
    },
    {
     "name": "stdout",
     "output_type": "stream",
     "text": [
      "fold 0, score: 0.921\n"
     ]
    },
    {
     "name": "stderr",
     "output_type": "stream",
     "text": [
      "/home/ubuntu/anaconda3/lib/python3.6/site-packages/sklearn/preprocessing/label.py:151: DeprecationWarning: The truth value of an empty array is ambiguous. Returning False, but in future this will result in an error. Use `array.size > 0` to check that an array is not empty.\n",
      "  if diff:\n"
     ]
    },
    {
     "name": "stdout",
     "output_type": "stream",
     "text": [
      "fold 1, score: 0.948\n"
     ]
    },
    {
     "name": "stderr",
     "output_type": "stream",
     "text": [
      "/home/ubuntu/anaconda3/lib/python3.6/site-packages/sklearn/preprocessing/label.py:151: DeprecationWarning: The truth value of an empty array is ambiguous. Returning False, but in future this will result in an error. Use `array.size > 0` to check that an array is not empty.\n",
      "  if diff:\n"
     ]
    },
    {
     "name": "stdout",
     "output_type": "stream",
     "text": [
      "fold 2, score: 0.931\n"
     ]
    },
    {
     "name": "stderr",
     "output_type": "stream",
     "text": [
      "/home/ubuntu/anaconda3/lib/python3.6/site-packages/sklearn/preprocessing/label.py:151: DeprecationWarning: The truth value of an empty array is ambiguous. Returning False, but in future this will result in an error. Use `array.size > 0` to check that an array is not empty.\n",
      "  if diff:\n"
     ]
    },
    {
     "name": "stdout",
     "output_type": "stream",
     "text": [
      "fold 3, score: 0.945\n"
     ]
    },
    {
     "name": "stderr",
     "output_type": "stream",
     "text": [
      "/home/ubuntu/anaconda3/lib/python3.6/site-packages/sklearn/preprocessing/label.py:151: DeprecationWarning: The truth value of an empty array is ambiguous. Returning False, but in future this will result in an error. Use `array.size > 0` to check that an array is not empty.\n",
      "  if diff:\n"
     ]
    },
    {
     "name": "stdout",
     "output_type": "stream",
     "text": [
      "fold 4, score: 0.931\n"
     ]
    },
    {
     "name": "stderr",
     "output_type": "stream",
     "text": [
      "/home/ubuntu/anaconda3/lib/python3.6/site-packages/sklearn/preprocessing/label.py:151: DeprecationWarning: The truth value of an empty array is ambiguous. Returning False, but in future this will result in an error. Use `array.size > 0` to check that an array is not empty.\n",
      "  if diff:\n"
     ]
    },
    {
     "name": "stdout",
     "output_type": "stream",
     "text": [
      "fold 5, score: 0.948\n"
     ]
    },
    {
     "name": "stderr",
     "output_type": "stream",
     "text": [
      "/home/ubuntu/anaconda3/lib/python3.6/site-packages/sklearn/preprocessing/label.py:151: DeprecationWarning: The truth value of an empty array is ambiguous. Returning False, but in future this will result in an error. Use `array.size > 0` to check that an array is not empty.\n",
      "  if diff:\n"
     ]
    },
    {
     "name": "stdout",
     "output_type": "stream",
     "text": [
      "fold 6, score: 0.941\n"
     ]
    },
    {
     "name": "stderr",
     "output_type": "stream",
     "text": [
      "/home/ubuntu/anaconda3/lib/python3.6/site-packages/sklearn/preprocessing/label.py:151: DeprecationWarning: The truth value of an empty array is ambiguous. Returning False, but in future this will result in an error. Use `array.size > 0` to check that an array is not empty.\n",
      "  if diff:\n"
     ]
    },
    {
     "name": "stdout",
     "output_type": "stream",
     "text": [
      "fold 7, score: 0.934\n"
     ]
    },
    {
     "name": "stderr",
     "output_type": "stream",
     "text": [
      "/home/ubuntu/anaconda3/lib/python3.6/site-packages/sklearn/preprocessing/label.py:151: DeprecationWarning: The truth value of an empty array is ambiguous. Returning False, but in future this will result in an error. Use `array.size > 0` to check that an array is not empty.\n",
      "  if diff:\n"
     ]
    },
    {
     "name": "stdout",
     "output_type": "stream",
     "text": [
      "fold 8, score: 0.938\n"
     ]
    },
    {
     "name": "stderr",
     "output_type": "stream",
     "text": [
      "/home/ubuntu/anaconda3/lib/python3.6/site-packages/sklearn/preprocessing/label.py:151: DeprecationWarning: The truth value of an empty array is ambiguous. Returning False, but in future this will result in an error. Use `array.size > 0` to check that an array is not empty.\n",
      "  if diff:\n",
      "/home/ubuntu/anaconda3/lib/python3.6/site-packages/sklearn/preprocessing/label.py:151: DeprecationWarning: The truth value of an empty array is ambiguous. Returning False, but in future this will result in an error. Use `array.size > 0` to check that an array is not empty.\n",
      "  if diff:\n"
     ]
    },
    {
     "name": "stdout",
     "output_type": "stream",
     "text": [
      "fold 9, score: 0.962\n",
      "\n",
      "Accuracy Score: 0.949\n",
      "\n",
      "Confusion Matrix\n",
      "[[598  33]\n",
      " [ 30 583]]\n",
      "\n",
      "Classification Report\n",
      "             precision    recall  f1-score   support\n",
      "\n",
      "          0       0.95      0.95      0.95       631\n",
      "          1       0.95      0.95      0.95       613\n",
      "\n",
      "avg / total       0.95      0.95      0.95      1244\n",
      "\n",
      "fold 0, score: 0.883\n",
      "fold 1, score: 0.869\n",
      "fold 2, score: 0.876\n",
      "fold 3, score: 0.848\n",
      "fold 4, score: 0.838\n",
      "fold 5, score: 0.838\n",
      "fold 6, score: 0.841\n",
      "fold 7, score: 0.814\n",
      "fold 8, score: 0.845\n",
      "fold 9, score: 0.866\n",
      "\n",
      "Accuracy Score: 0.863\n",
      "\n",
      "Confusion Matrix\n",
      "[[571 114]\n",
      " [ 57 502]]\n",
      "\n",
      "Classification Report\n",
      "             precision    recall  f1-score   support\n",
      "\n",
      "          0       0.91      0.83      0.87       685\n",
      "          1       0.81      0.90      0.85       559\n",
      "\n",
      "avg / total       0.87      0.86      0.86      1244\n",
      "\n"
     ]
    },
    {
     "name": "stderr",
     "output_type": "stream",
     "text": [
      "/home/ubuntu/anaconda3/lib/python3.6/site-packages/sklearn/model_selection/_split.py:2026: FutureWarning: From version 0.21, test_size will always complement train_size unless both are specified.\n",
      "  FutureWarning)\n"
     ]
    },
    {
     "name": "stdout",
     "output_type": "stream",
     "text": [
      "(2900, 2048) (1244, 2048) (2900,) (1244,)\n",
      "fold 0, score: 0.872\n",
      "fold 1, score: 0.869\n",
      "fold 2, score: 0.841\n",
      "fold 3, score: 0.859\n",
      "fold 4, score: 0.834\n",
      "fold 5, score: 0.886\n",
      "fold 6, score: 0.845\n",
      "fold 7, score: 0.848\n",
      "fold 8, score: 0.834\n",
      "fold 9, score: 0.848\n",
      "\n",
      "Accuracy Score: 0.861\n",
      "\n",
      "Confusion Matrix\n",
      "[[569 118]\n",
      " [ 55 502]]\n",
      "\n",
      "Classification Report\n",
      "             precision    recall  f1-score   support\n",
      "\n",
      "          0       0.91      0.83      0.87       687\n",
      "          1       0.81      0.90      0.85       557\n",
      "\n",
      "avg / total       0.87      0.86      0.86      1244\n",
      "\n",
      "fold 0, score: 0.941\n",
      "fold 1, score: 0.948\n",
      "fold 2, score: 0.928\n",
      "fold 3, score: 0.928\n",
      "fold 4, score: 0.955\n",
      "fold 5, score: 0.945\n",
      "fold 6, score: 0.924\n",
      "fold 7, score: 0.903\n",
      "fold 8, score: 0.934\n",
      "fold 9, score: 0.928\n",
      "\n",
      "Accuracy Score: 0.921\n",
      "\n",
      "Confusion Matrix\n",
      "[[563  37]\n",
      " [ 61 583]]\n",
      "\n",
      "Classification Report\n",
      "             precision    recall  f1-score   support\n",
      "\n",
      "          0       0.90      0.94      0.92       600\n",
      "          1       0.94      0.91      0.92       644\n",
      "\n",
      "avg / total       0.92      0.92      0.92      1244\n",
      "\n"
     ]
    },
    {
     "name": "stderr",
     "output_type": "stream",
     "text": [
      "/home/ubuntu/anaconda3/lib/python3.6/site-packages/sklearn/preprocessing/label.py:151: DeprecationWarning: The truth value of an empty array is ambiguous. Returning False, but in future this will result in an error. Use `array.size > 0` to check that an array is not empty.\n",
      "  if diff:\n"
     ]
    },
    {
     "name": "stdout",
     "output_type": "stream",
     "text": [
      "fold 0, score: 0.941\n"
     ]
    },
    {
     "name": "stderr",
     "output_type": "stream",
     "text": [
      "/home/ubuntu/anaconda3/lib/python3.6/site-packages/sklearn/preprocessing/label.py:151: DeprecationWarning: The truth value of an empty array is ambiguous. Returning False, but in future this will result in an error. Use `array.size > 0` to check that an array is not empty.\n",
      "  if diff:\n"
     ]
    },
    {
     "name": "stdout",
     "output_type": "stream",
     "text": [
      "fold 1, score: 0.921\n"
     ]
    },
    {
     "name": "stderr",
     "output_type": "stream",
     "text": [
      "/home/ubuntu/anaconda3/lib/python3.6/site-packages/sklearn/preprocessing/label.py:151: DeprecationWarning: The truth value of an empty array is ambiguous. Returning False, but in future this will result in an error. Use `array.size > 0` to check that an array is not empty.\n",
      "  if diff:\n"
     ]
    },
    {
     "name": "stdout",
     "output_type": "stream",
     "text": [
      "fold 2, score: 0.910\n"
     ]
    },
    {
     "name": "stderr",
     "output_type": "stream",
     "text": [
      "/home/ubuntu/anaconda3/lib/python3.6/site-packages/sklearn/preprocessing/label.py:151: DeprecationWarning: The truth value of an empty array is ambiguous. Returning False, but in future this will result in an error. Use `array.size > 0` to check that an array is not empty.\n",
      "  if diff:\n"
     ]
    },
    {
     "name": "stdout",
     "output_type": "stream",
     "text": [
      "fold 3, score: 0.890\n"
     ]
    },
    {
     "name": "stderr",
     "output_type": "stream",
     "text": [
      "/home/ubuntu/anaconda3/lib/python3.6/site-packages/sklearn/preprocessing/label.py:151: DeprecationWarning: The truth value of an empty array is ambiguous. Returning False, but in future this will result in an error. Use `array.size > 0` to check that an array is not empty.\n",
      "  if diff:\n"
     ]
    },
    {
     "name": "stdout",
     "output_type": "stream",
     "text": [
      "fold 4, score: 0.934\n"
     ]
    },
    {
     "name": "stderr",
     "output_type": "stream",
     "text": [
      "/home/ubuntu/anaconda3/lib/python3.6/site-packages/sklearn/preprocessing/label.py:151: DeprecationWarning: The truth value of an empty array is ambiguous. Returning False, but in future this will result in an error. Use `array.size > 0` to check that an array is not empty.\n",
      "  if diff:\n"
     ]
    },
    {
     "name": "stdout",
     "output_type": "stream",
     "text": [
      "fold 5, score: 0.938\n"
     ]
    },
    {
     "name": "stderr",
     "output_type": "stream",
     "text": [
      "/home/ubuntu/anaconda3/lib/python3.6/site-packages/sklearn/preprocessing/label.py:151: DeprecationWarning: The truth value of an empty array is ambiguous. Returning False, but in future this will result in an error. Use `array.size > 0` to check that an array is not empty.\n",
      "  if diff:\n"
     ]
    },
    {
     "name": "stdout",
     "output_type": "stream",
     "text": [
      "fold 6, score: 0.931\n"
     ]
    },
    {
     "name": "stderr",
     "output_type": "stream",
     "text": [
      "/home/ubuntu/anaconda3/lib/python3.6/site-packages/sklearn/preprocessing/label.py:151: DeprecationWarning: The truth value of an empty array is ambiguous. Returning False, but in future this will result in an error. Use `array.size > 0` to check that an array is not empty.\n",
      "  if diff:\n"
     ]
    },
    {
     "name": "stdout",
     "output_type": "stream",
     "text": [
      "fold 7, score: 0.917\n"
     ]
    },
    {
     "name": "stderr",
     "output_type": "stream",
     "text": [
      "/home/ubuntu/anaconda3/lib/python3.6/site-packages/sklearn/preprocessing/label.py:151: DeprecationWarning: The truth value of an empty array is ambiguous. Returning False, but in future this will result in an error. Use `array.size > 0` to check that an array is not empty.\n",
      "  if diff:\n"
     ]
    },
    {
     "name": "stdout",
     "output_type": "stream",
     "text": [
      "fold 8, score: 0.914\n"
     ]
    },
    {
     "name": "stderr",
     "output_type": "stream",
     "text": [
      "/home/ubuntu/anaconda3/lib/python3.6/site-packages/sklearn/preprocessing/label.py:151: DeprecationWarning: The truth value of an empty array is ambiguous. Returning False, but in future this will result in an error. Use `array.size > 0` to check that an array is not empty.\n",
      "  if diff:\n",
      "/home/ubuntu/anaconda3/lib/python3.6/site-packages/sklearn/preprocessing/label.py:151: DeprecationWarning: The truth value of an empty array is ambiguous. Returning False, but in future this will result in an error. Use `array.size > 0` to check that an array is not empty.\n",
      "  if diff:\n"
     ]
    },
    {
     "name": "stdout",
     "output_type": "stream",
     "text": [
      "fold 9, score: 0.921\n",
      "\n",
      "Accuracy Score: 0.924\n",
      "\n",
      "Confusion Matrix\n",
      "[[583  53]\n",
      " [ 41 567]]\n",
      "\n",
      "Classification Report\n",
      "             precision    recall  f1-score   support\n",
      "\n",
      "          0       0.93      0.92      0.93       636\n",
      "          1       0.91      0.93      0.92       608\n",
      "\n",
      "avg / total       0.92      0.92      0.92      1244\n",
      "\n",
      "fold 0, score: 0.848\n"
     ]
    }
   ],
   "source": [
    "#In [6]:\n",
    "VECTOR_FILE = os.path.join(DATA_DIR, \"vgg16-vectors.tsv\")\n",
    "Xtrain, Xtest, ytrain, ytest = preprocess_data(VECTOR_FILE)\n",
    "print(Xtrain.shape, Xtest.shape, ytrain.shape, ytest.shape)\n",
    "#(2900, 4096) (1244, 4096) (2900,) (1244,)\n",
    "#Naive Bayes\n",
    "#In [7]:\n",
    "clf = GaussianNB()\n",
    "best_clf, best_score = cross_validate(Xtrain, ytrain, clf)\n",
    "scores[0, 0] = best_score\n",
    "test_report(best_clf, Xtest, ytest)\n",
    "save_model(best_clf, get_model_file(DATA_DIR, \"vgg16\", \"nb\"))\n",
    "\n",
    "\n",
    "# SVM\n",
    "# In [8]:\n",
    "clf = LinearSVC()\n",
    "best_clf, best_score = cross_validate(Xtrain, ytrain, clf)\n",
    "scores[0, 1] = best_score\n",
    "test_report(best_clf, Xtest, ytest)\n",
    "save_model(best_clf, get_model_file(DATA_DIR, \"vgg16\", \"svm\"))\n",
    "\n",
    "\n",
    "# XGBoost\n",
    "# In [9]:\n",
    "clf = XGBClassifier()\n",
    "best_clf, best_score = cross_validate(Xtrain, ytrain, clf)\n",
    "scores[0, 2] = best_score\n",
    "test_report(best_clf, Xtest, ytest)\n",
    "save_model(best_clf, get_model_file(DATA_DIR, \"vgg16\", \"xgb\"))\n",
    "\n",
    "# Random Forest\n",
    "# In [10]:\n",
    "clf = RandomForestClassifier()\n",
    "best_clf, best_score = cross_validate(Xtrain, ytrain, clf)\n",
    "scores[0, 3] = best_score\n",
    "test_report(best_clf, Xtest, ytest)\n",
    "save_model(best_clf, get_model_file(DATA_DIR, \"vgg16\", \"rf\"))"
   ]
  },
  {
   "cell_type": "code",
   "execution_count": null,
   "metadata": {},
   "outputs": [],
   "source": [
    "# VGG-19\n",
    "# In [11]:\n",
    "VECTOR_FILE = os.path.join(DATA_DIR, \"vgg19-vectors.tsv\")\n",
    "Xtrain, Xtest, ytrain, ytest = preprocess_data(VECTOR_FILE)\n",
    "print(Xtrain.shape, Xtest.shape, ytrain.shape, ytest.shape)\n",
    "# (2900, 4096) (1244, 4096) (2900,) (1244,)\n",
    "# Naive Bayes\n",
    "# In [12]:\n",
    "clf = GaussianNB()\n",
    "best_clf, best_score = cross_validate(Xtrain, ytrain, clf)\n",
    "scores[1, 0] = best_score\n",
    "test_report(best_clf, Xtest, ytest)\n",
    "save_model(best_clf, get_model_file(DATA_DIR, \"vgg19\", \"nb\"))\n",
    "\n",
    "\n",
    "# SVM\n",
    "# In [13]:\n",
    "clf = LinearSVC()\n",
    "best_clf, best_score = cross_validate(Xtrain, ytrain, clf)\n",
    "scores[1, 1] = best_score\n",
    "test_report(best_clf, Xtest, ytest)\n",
    "save_model(best_clf, get_model_file(DATA_DIR, \"vgg19\", \"svm\"))\n",
    "\n",
    "# XGBoost\n",
    "# In [14]:\n",
    "clf = XGBClassifier()\n",
    "best_clf, best_score = cross_validate(Xtrain, ytrain, clf)\n",
    "scores[1, 2] = best_score\n",
    "test_report(best_clf, Xtest, ytest)\n",
    "save_model(best_clf, get_model_file(DATA_DIR, \"vgg19\", \"xgb\"))\n",
    "\n",
    "\n",
    "# Random Forest\n",
    "# In [15]:\n",
    "clf = RandomForestClassifier()\n",
    "best_clf, best_score = cross_validate(Xtrain, ytrain, clf)\n",
    "scores[1, 3] = best_score\n",
    "test_report(best_clf, Xtest, ytest)\n",
    "save_model(best_clf, get_model_file(DATA_DIR, \"vgg19\", \"rf\"))"
   ]
  },
  {
   "cell_type": "code",
   "execution_count": 6,
   "metadata": {},
   "outputs": [
    {
     "name": "stderr",
     "output_type": "stream",
     "text": [
      "/home/ubuntu/anaconda3/lib/python3.6/site-packages/sklearn/model_selection/_split.py:2026: FutureWarning: From version 0.21, test_size will always complement train_size unless both are specified.\n",
      "  FutureWarning)\n"
     ]
    },
    {
     "name": "stdout",
     "output_type": "stream",
     "text": [
      "(2900, 2048) (1244, 2048) (2900,) (1244,)\n",
      "fold 0, score: 0.821\n",
      "fold 1, score: 0.879\n",
      "fold 2, score: 0.821\n",
      "fold 3, score: 0.852\n",
      "fold 4, score: 0.828\n",
      "fold 5, score: 0.866\n",
      "fold 6, score: 0.879\n",
      "fold 7, score: 0.838\n",
      "fold 8, score: 0.852\n",
      "fold 9, score: 0.876\n",
      "\n",
      "Accuracy Score: 0.873\n",
      "\n",
      "Confusion Matrix\n",
      "[[575 104]\n",
      " [ 54 511]]\n",
      "\n",
      "Classification Report\n",
      "             precision    recall  f1-score   support\n",
      "\n",
      "          0       0.91      0.85      0.88       679\n",
      "          1       0.83      0.90      0.87       565\n",
      "\n",
      "avg / total       0.88      0.87      0.87      1244\n",
      "\n",
      "fold 0, score: 0.893\n",
      "fold 1, score: 0.924\n",
      "fold 2, score: 0.903\n",
      "fold 3, score: 0.903\n",
      "fold 4, score: 0.900\n",
      "fold 5, score: 0.914\n",
      "fold 6, score: 0.921\n",
      "fold 7, score: 0.890\n",
      "fold 8, score: 0.886\n",
      "fold 9, score: 0.897\n",
      "\n",
      "Accuracy Score: 0.912\n",
      "\n",
      "Confusion Matrix\n",
      "[[560  40]\n",
      " [ 69 575]]\n",
      "\n",
      "Classification Report\n",
      "             precision    recall  f1-score   support\n",
      "\n",
      "          0       0.89      0.93      0.91       600\n",
      "          1       0.93      0.89      0.91       644\n",
      "\n",
      "avg / total       0.91      0.91      0.91      1244\n",
      "\n"
     ]
    },
    {
     "name": "stderr",
     "output_type": "stream",
     "text": [
      "/home/ubuntu/anaconda3/lib/python3.6/site-packages/sklearn/preprocessing/label.py:151: DeprecationWarning: The truth value of an empty array is ambiguous. Returning False, but in future this will result in an error. Use `array.size > 0` to check that an array is not empty.\n",
      "  if diff:\n"
     ]
    },
    {
     "name": "stdout",
     "output_type": "stream",
     "text": [
      "fold 0, score: 0.907\n"
     ]
    },
    {
     "name": "stderr",
     "output_type": "stream",
     "text": [
      "/home/ubuntu/anaconda3/lib/python3.6/site-packages/sklearn/preprocessing/label.py:151: DeprecationWarning: The truth value of an empty array is ambiguous. Returning False, but in future this will result in an error. Use `array.size > 0` to check that an array is not empty.\n",
      "  if diff:\n"
     ]
    },
    {
     "name": "stdout",
     "output_type": "stream",
     "text": [
      "fold 1, score: 0.934\n"
     ]
    },
    {
     "name": "stderr",
     "output_type": "stream",
     "text": [
      "/home/ubuntu/anaconda3/lib/python3.6/site-packages/sklearn/preprocessing/label.py:151: DeprecationWarning: The truth value of an empty array is ambiguous. Returning False, but in future this will result in an error. Use `array.size > 0` to check that an array is not empty.\n",
      "  if diff:\n"
     ]
    },
    {
     "name": "stdout",
     "output_type": "stream",
     "text": [
      "fold 2, score: 0.907\n"
     ]
    },
    {
     "name": "stderr",
     "output_type": "stream",
     "text": [
      "/home/ubuntu/anaconda3/lib/python3.6/site-packages/sklearn/preprocessing/label.py:151: DeprecationWarning: The truth value of an empty array is ambiguous. Returning False, but in future this will result in an error. Use `array.size > 0` to check that an array is not empty.\n",
      "  if diff:\n"
     ]
    },
    {
     "name": "stdout",
     "output_type": "stream",
     "text": [
      "fold 3, score: 0.938\n"
     ]
    },
    {
     "name": "stderr",
     "output_type": "stream",
     "text": [
      "/home/ubuntu/anaconda3/lib/python3.6/site-packages/sklearn/preprocessing/label.py:151: DeprecationWarning: The truth value of an empty array is ambiguous. Returning False, but in future this will result in an error. Use `array.size > 0` to check that an array is not empty.\n",
      "  if diff:\n"
     ]
    },
    {
     "name": "stdout",
     "output_type": "stream",
     "text": [
      "fold 4, score: 0.928\n"
     ]
    },
    {
     "name": "stderr",
     "output_type": "stream",
     "text": [
      "/home/ubuntu/anaconda3/lib/python3.6/site-packages/sklearn/preprocessing/label.py:151: DeprecationWarning: The truth value of an empty array is ambiguous. Returning False, but in future this will result in an error. Use `array.size > 0` to check that an array is not empty.\n",
      "  if diff:\n"
     ]
    },
    {
     "name": "stdout",
     "output_type": "stream",
     "text": [
      "fold 5, score: 0.931\n"
     ]
    },
    {
     "name": "stderr",
     "output_type": "stream",
     "text": [
      "/home/ubuntu/anaconda3/lib/python3.6/site-packages/sklearn/preprocessing/label.py:151: DeprecationWarning: The truth value of an empty array is ambiguous. Returning False, but in future this will result in an error. Use `array.size > 0` to check that an array is not empty.\n",
      "  if diff:\n"
     ]
    },
    {
     "name": "stdout",
     "output_type": "stream",
     "text": [
      "fold 6, score: 0.959\n"
     ]
    },
    {
     "name": "stderr",
     "output_type": "stream",
     "text": [
      "/home/ubuntu/anaconda3/lib/python3.6/site-packages/sklearn/preprocessing/label.py:151: DeprecationWarning: The truth value of an empty array is ambiguous. Returning False, but in future this will result in an error. Use `array.size > 0` to check that an array is not empty.\n",
      "  if diff:\n"
     ]
    },
    {
     "name": "stdout",
     "output_type": "stream",
     "text": [
      "fold 7, score: 0.893\n"
     ]
    },
    {
     "name": "stderr",
     "output_type": "stream",
     "text": [
      "/home/ubuntu/anaconda3/lib/python3.6/site-packages/sklearn/preprocessing/label.py:151: DeprecationWarning: The truth value of an empty array is ambiguous. Returning False, but in future this will result in an error. Use `array.size > 0` to check that an array is not empty.\n",
      "  if diff:\n"
     ]
    },
    {
     "name": "stdout",
     "output_type": "stream",
     "text": [
      "fold 8, score: 0.907\n"
     ]
    },
    {
     "name": "stderr",
     "output_type": "stream",
     "text": [
      "/home/ubuntu/anaconda3/lib/python3.6/site-packages/sklearn/preprocessing/label.py:151: DeprecationWarning: The truth value of an empty array is ambiguous. Returning False, but in future this will result in an error. Use `array.size > 0` to check that an array is not empty.\n",
      "  if diff:\n",
      "/home/ubuntu/anaconda3/lib/python3.6/site-packages/sklearn/preprocessing/label.py:151: DeprecationWarning: The truth value of an empty array is ambiguous. Returning False, but in future this will result in an error. Use `array.size > 0` to check that an array is not empty.\n",
      "  if diff:\n"
     ]
    },
    {
     "name": "stdout",
     "output_type": "stream",
     "text": [
      "fold 9, score: 0.872\n",
      "\n",
      "Accuracy Score: 0.916\n",
      "\n",
      "Confusion Matrix\n",
      "[[588  63]\n",
      " [ 41 552]]\n",
      "\n",
      "Classification Report\n",
      "             precision    recall  f1-score   support\n",
      "\n",
      "          0       0.93      0.90      0.92       651\n",
      "          1       0.90      0.93      0.91       593\n",
      "\n",
      "avg / total       0.92      0.92      0.92      1244\n",
      "\n",
      "fold 0, score: 0.831\n",
      "fold 1, score: 0.831\n",
      "fold 2, score: 0.821\n",
      "fold 3, score: 0.848\n",
      "fold 4, score: 0.855\n",
      "fold 5, score: 0.879\n",
      "fold 6, score: 0.862\n",
      "fold 7, score: 0.838\n",
      "fold 8, score: 0.817\n",
      "fold 9, score: 0.817\n",
      "\n",
      "Accuracy Score: 0.834\n",
      "\n",
      "Confusion Matrix\n",
      "[[582 160]\n",
      " [ 47 455]]\n",
      "\n",
      "Classification Report\n",
      "             precision    recall  f1-score   support\n",
      "\n",
      "          0       0.93      0.78      0.85       742\n",
      "          1       0.74      0.91      0.81       502\n",
      "\n",
      "avg / total       0.85      0.83      0.84      1244\n",
      "\n"
     ]
    }
   ],
   "source": [
    "# Inception V3\n",
    "# In [16]:\n",
    "VECTOR_FILE = os.path.join(DATA_DIR, \"inception-vectors.tsv\")\n",
    "Xtrain, Xtest, ytrain, ytest = preprocess_data(VECTOR_FILE)\n",
    "print(Xtrain.shape, Xtest.shape, ytrain.shape, ytest.shape)\n",
    "# (2900, 2048) (1244, 2048) (2900,) (1244,)\n",
    "# Naive Bayes\n",
    "# In [17]:\n",
    "clf = GaussianNB()\n",
    "best_clf, best_score = cross_validate(Xtrain, ytrain, clf)\n",
    "scores[2, 0] = best_score\n",
    "test_report(best_clf, Xtest, ytest)\n",
    "save_model(best_clf, get_model_file(DATA_DIR, \"inceptionv3\", \"nb\"))\n",
    "\n",
    "\n",
    "# SVM\n",
    "# In [18]:\n",
    "clf = LinearSVC()\n",
    "best_clf, best_score = cross_validate(Xtrain, ytrain, clf)\n",
    "scores[2, 1] = best_score\n",
    "test_report(best_clf, Xtest, ytest)\n",
    "save_model(best_clf, get_model_file(DATA_DIR, \"inceptionv3\", \"svm\"))\n",
    "\n",
    "\n",
    "# XGBoost\n",
    "# In [19]:\n",
    "clf = XGBClassifier()\n",
    "best_clf, best_score = cross_validate(Xtrain, ytrain, clf)\n",
    "scores[2, 2] = best_score\n",
    "test_report(best_clf, Xtest, ytest)\n",
    "save_model(best_clf, get_model_file(DATA_DIR, \"inceptionv3\", \"xgb\"))\n",
    "\n",
    "# Random Forest\n",
    "# In [20]:\n",
    "clf = RandomForestClassifier()\n",
    "best_clf, best_score = cross_validate(Xtrain, ytrain, clf)\n",
    "scores[2, 3] = best_score\n",
    "test_report(best_clf, Xtest, ytest)\n",
    "save_model(best_clf, get_model_file(DATA_DIR, \"inceptionv3\", \"rf\"))"
   ]
  },
  {
   "cell_type": "code",
   "execution_count": null,
   "metadata": {},
   "outputs": [],
   "source": [
    "# ResNet 50\n",
    "# In [21]:\n",
    "VECTOR_FILE = os.path.join(DATA_DIR, \"resnet-vectors.tsv\")\n",
    "Xtrain, Xtest, ytrain, ytest = preprocess_data(VECTOR_FILE)\n",
    "print(Xtrain.shape, Xtest.shape, ytrain.shape, ytest.shape)\n",
    "# (2900, 2048) (1244, 2048) (2900,) (1244,)\n",
    "# Naive Bayes\n",
    "# In [22]:\n",
    "clf = GaussianNB()\n",
    "best_clf, best_score = cross_validate(Xtrain, ytrain, clf)\n",
    "scores[3, 0] = best_score\n",
    "test_report(best_clf, Xtest, ytest)\n",
    "save_model(best_clf, get_model_file(DATA_DIR, \"resnet50\", \"nb\"))\n",
    "\n",
    "\n",
    "# SVM\n",
    "# In [23]:\n",
    "clf = LinearSVC()\n",
    "best_clf, best_score = cross_validate(Xtrain, ytrain, clf)\n",
    "scores[3, 1] = best_score\n",
    "test_report(best_clf, Xtest, ytest)\n",
    "save_model(best_clf, get_model_file(DATA_DIR, \"resnet50\", \"svm\"))\n",
    "\n",
    "\n",
    "# XGBoost\n",
    "# In [24]:\n",
    "clf = XGBClassifier()\n",
    "best_clf, best_score = cross_validate(Xtrain, ytrain, clf)\n",
    "scores[3, 2] = best_score\n",
    "test_report(best_clf, Xtest, ytest)\n",
    "save_model(best_clf, get_model_file(DATA_DIR, \"resnet50\", \"xgb\"))\n",
    "\n",
    "\n",
    "# Random Forest\n",
    "# In [25]:\n",
    "clf = RandomForestClassifier()\n",
    "best_clf, best_score = cross_validate(Xtrain, ytrain, clf)\n",
    "scores[3, 3] = best_score\n",
    "test_report(best_clf, Xtest, ytest)\n",
    "save_model(best_clf, get_model_file(DATA_DIR, \"resnet50\", \"rf\"))"
   ]
  },
  {
   "cell_type": "code",
   "execution_count": null,
   "metadata": {},
   "outputs": [],
   "source": [
    "# Xception\n",
    "# In [26]:\n",
    "VECTOR_FILE = os.path.join(DATA_DIR, \"xception-vectors.tsv\")\n",
    "Xtrain, Xtest, ytrain, ytest = preprocess_data(VECTOR_FILE)\n",
    "print(Xtrain.shape, Xtest.shape, ytrain.shape, ytest.shape)\n",
    "# (2900, 2048) (1244, 2048) (2900,) (1244,)\n",
    "# Naive Bayes\n",
    "# In [27]:\n",
    "clf = GaussianNB()\n",
    "best_clf, best_score = cross_validate(Xtrain, ytrain, clf)\n",
    "scores[4, 0] = best_score\n",
    "test_report(best_clf, Xtest, ytest)\n",
    "save_model(best_clf, get_model_file(DATA_DIR, \"xception\", \"nb\"))\n",
    "\n",
    "\n",
    "# SVM\n",
    "# In [28]:\n",
    "clf = LinearSVC()\n",
    "best_clf, best_score = cross_validate(Xtrain, ytrain, clf)\n",
    "scores[4, 1] = best_score\n",
    "test_report(best_clf, Xtest, ytest)\n",
    "save_model(best_clf, get_model_file(DATA_DIR, \"xception\", \"svm\"))\n",
    "\n",
    "\n",
    "# XGBoost\n",
    "# In [29]:\n",
    "clf = XGBClassifier()\n",
    "best_clf, best_score = cross_validate(Xtrain, ytrain, clf)\n",
    "scores[4, 2] = best_score\n",
    "test_report(best_clf, Xtest, ytest)\n",
    "save_model(best_clf, get_model_file(DATA_DIR, \"xception\", \"xgb\"))\n",
    "\n",
    "\n",
    "# Random Forest\n",
    "# In [30]:\n",
    "clf = RandomForestClassifier()\n",
    "best_clf, best_score = cross_validate(Xtrain, ytrain, clf)\n",
    "scores[4, 3] = best_score\n",
    "test_report(best_clf, Xtest, ytest)\n",
    "save_model(best_clf, get_model_file(DATA_DIR, \"xception\", \"rf\"))"
   ]
  },
  {
   "cell_type": "code",
   "execution_count": null,
   "metadata": {},
   "outputs": [],
   "source": [
    "# In [31]:\n",
    "scores\n",
    "# Out[31]:\n",
    "\n",
    "# In [32]:\n",
    "width=0.15\n",
    "plt.bar(np.arange(NUM_CLASSIFIERS), scores[0], width, color=\"r\", label=\"VGG-16\")\n",
    "plt.bar(np.arange(NUM_CLASSIFIERS)+width, scores[1], width, color=\"b\", label=\"VGG-19\")\n",
    "plt.bar(np.arange(NUM_CLASSIFIERS)+2*width, scores[2], width, color=\"g\", label=\"Inception-V3\")\n",
    "plt.bar(np.arange(NUM_CLASSIFIERS)+3*width, scores[3], width, color=\"y\", label=\"ResNet-50\")\n",
    "plt.bar(np.arange(NUM_CLASSIFIERS)+4*width, scores[4], width, color=\"cyan\", label=\"XCeption\")\n",
    "plt.legend(loc=4)\n",
    "plt.ylabel(\"accuracy\")\n",
    "plt.xticks(np.arange(NUM_CLASSIFIERS)+2*width, [\"NaiveBayes\", \"SvM\", \"XGBoost\", \"RandomForest\"],\n",
    "          rotation=30)\n",
    "plt.title(\"squared difference of vectors\")"
   ]
  }
 ],
 "metadata": {
  "kernelspec": {
   "display_name": "Python 3",
   "language": "python",
   "name": "python3"
  },
  "language_info": {
   "codemirror_mode": {
    "name": "ipython",
    "version": 3
   },
   "file_extension": ".py",
   "mimetype": "text/x-python",
   "name": "python",
   "nbconvert_exporter": "python",
   "pygments_lexer": "ipython3",
   "version": "3.6.4"
  }
 },
 "nbformat": 4,
 "nbformat_minor": 2
}
