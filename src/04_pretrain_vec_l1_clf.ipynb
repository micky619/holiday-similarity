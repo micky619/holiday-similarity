{
 "cells": [
  {
   "cell_type": "code",
   "execution_count": 1,
   "metadata": {},
   "outputs": [
    {
     "name": "stderr",
     "output_type": "stream",
     "text": [
      "/home/ubuntu/anaconda3/lib/python3.6/site-packages/matplotlib/__init__.py:1067: UserWarning: Duplicate key in file \"/home/ubuntu/.config/matplotlib/matplotlibrc\", line #2\n",
      "  (fname, cnt))\n",
      "/home/ubuntu/anaconda3/lib/python3.6/site-packages/matplotlib/__init__.py:1067: UserWarning: Duplicate key in file \"/home/ubuntu/.config/matplotlib/matplotlibrc\", line #3\n",
      "  (fname, cnt))\n"
     ]
    }
   ],
   "source": [
    "from __future__ import division, print_function\n",
    "from sklearn.ensemble import RandomForestClassifier\n",
    "from sklearn.externals import joblib\n",
    "from sklearn.model_selection import train_test_split, KFold\n",
    "from sklearn.naive_bayes import GaussianNB\n",
    "from sklearn.metrics import accuracy_score, confusion_matrix, classification_report\n",
    "from sklearn.svm import LinearSVC\n",
    "from xgboost import XGBClassifier\n",
    "import itertools\n",
    "import matplotlib.pyplot as plt\n",
    "import numpy as np\n",
    "import os\n",
    "%matplotlib inline"
   ]
  },
  {
   "cell_type": "code",
   "execution_count": 2,
   "metadata": {},
   "outputs": [],
   "source": [
    "#In [2]:\n",
    "DATA_DIR = \"\"\n",
    "IMAGE_DIR = os.path.join(DATA_DIR, \"holiday-photos/jpg\")\n",
    "WEIGHTS_DIR = os.path.join(DATA_DIR, \"weights\")"
   ]
  },
  {
   "cell_type": "code",
   "execution_count": 9,
   "metadata": {},
   "outputs": [],
   "source": [
    "#In [3]:\n",
    "def get_holiday_triples(image_dir):\n",
    "    image_groups = {}\n",
    "    for image_name in os.listdir(image_dir):\n",
    "        base_name = image_name[0:-4]\n",
    "        group_name = base_name[0:4]\n",
    "        if group_name in image_groups:\n",
    "            image_groups[group_name].append(image_name)\n",
    "        else:\n",
    "            image_groups[group_name] = [image_name]\n",
    "    num_sims = 0\n",
    "    image_triples = []\n",
    "    group_list = sorted(list(image_groups.keys()))\n",
    "    for i, g in enumerate(group_list):\n",
    "        if num_sims % 100 == 0:\n",
    "            print(\"Generated {:d} pos + {:d} neg = {:d} total image triples\"\n",
    "                  .format(num_sims, num_sims, 2*num_sims))\n",
    "        images_in_group = image_groups[g]\n",
    "        sim_pairs_it = itertools.combinations(images_in_group, 2)\n",
    "        # for each similar pair, generate a corresponding different pair\n",
    "        for ref_image, sim_image in sim_pairs_it:\n",
    "            image_triples.append((ref_image, sim_image, 1))\n",
    "            num_sims += 1\n",
    "            while True:\n",
    "                j = np.random.randint(low=0, high=len(group_list), size=1)[0]\n",
    "                if j != i:\n",
    "                    break\n",
    "            dif_image_candidates = image_groups[group_list[j]]\n",
    "            k = np.random.randint(low=0, high=len(dif_image_candidates), size=1)[0]\n",
    "            dif_image = dif_image_candidates[k]\n",
    "            image_triples.append((ref_image, dif_image, 0))\n",
    "    print(\"Generated {:d} pos + {:d} neg = {:d} total image triples\"\n",
    "          .format(num_sims, num_sims, 2*num_sims))\n",
    "    return image_triples\n",
    "\n",
    "def load_vectors(vector_file):\n",
    "    vec_dict = {}\n",
    "    fvec = open(vector_file, \"r\")\n",
    "    for line in fvec:\n",
    "        image_name, image_vec = line.strip().split(\"\\t\")\n",
    "        vec = np.array([float(v) for v in image_vec.split(\",\")])\n",
    "        vec_dict[image_name] = vec\n",
    "    fvec.close()\n",
    "    return vec_dict\n",
    "\n",
    "def preprocess_data(vector_file, train_size=0.7):\n",
    "    xdata, ydata = [], []\n",
    "    vec_dict = load_vectors(vector_file)\n",
    "    for image_triple in image_triples:\n",
    "        X1 = vec_dict[image_triple[0]]\n",
    "        X2 = vec_dict[image_triple[1]]\n",
    "#         xdata.append(np.multiply(X1, X2) / (np.linalg.norm(X1, 2) * np.linalg.norm(X2, 2)))\n",
    "        xdata.append(np.abs(np.subtract(X1, X2)))\n",
    "        ydata.append(image_triple[2])\n",
    "    X, y = np.array(xdata), np.array(ydata)\n",
    "    Xtrain, Xtest, ytrain, ytest = train_test_split(X, y, train_size=train_size)\n",
    "    return Xtrain, Xtest, ytrain, ytest\n",
    "\n",
    "def cross_validate(X, y, clf, k=10):\n",
    "    best_score, best_clf = 0.0, None\n",
    "    kfold = KFold(k)\n",
    "    for kid, (train, test) in enumerate(kfold.split(X, y)):\n",
    "        Xtrain, Xtest, ytrain, ytest = X[train], X[test], y[train], y[test]\n",
    "        clf.fit(Xtrain, ytrain)\n",
    "        ytest_ = clf.predict(Xtest)\n",
    "        score = accuracy_score(ytest_, ytest)\n",
    "        print(\"fold {:d}, score: {:.3f}\".format(kid, score))\n",
    "        if score > best_score:\n",
    "            best_score = score\n",
    "            best_clf = clf\n",
    "    return best_clf, best_score\n",
    "\n",
    "def test_report(clf, Xtest, ytest):\n",
    "    ytest_ = clf.predict(Xtest)\n",
    "    print(\"\\nAccuracy Score: {:.3f}\".format(accuracy_score(ytest_, ytest)))\n",
    "    print(\"\\nConfusion Matrix\")\n",
    "    print(confusion_matrix(ytest_, ytest))\n",
    "    print(\"\\nClassification Report\")\n",
    "    print(classification_report(ytest_, ytest))\n",
    "    \n",
    "def get_model_file(data_dir, vec_name, clf_name):\n",
    "    return os.path.join(data_dir, \"models\", \"H-{:s}-{:s}-l1.pkl\"\n",
    "                        .format(vec_name, clf_name))\n",
    "\n",
    "def save_model(model, model_file):\n",
    "    joblib.dump(model, model_file)"
   ]
  },
  {
   "cell_type": "code",
   "execution_count": 10,
   "metadata": {},
   "outputs": [
    {
     "name": "stdout",
     "output_type": "stream",
     "text": [
      "Generated 0 pos + 0 neg = 0 total image triples\n",
      "Generated 300 pos + 300 neg = 600 total image triples\n",
      "Generated 1100 pos + 1100 neg = 2200 total image triples\n",
      "Generated 1800 pos + 1800 neg = 3600 total image triples\n",
      "Generated 2072 pos + 2072 neg = 4144 total image triples\n"
     ]
    }
   ],
   "source": [
    "#In [4]:\n",
    "image_triples = get_holiday_triples(IMAGE_DIR)"
   ]
  },
  {
   "cell_type": "code",
   "execution_count": 11,
   "metadata": {},
   "outputs": [],
   "source": [
    "#In [5]:\n",
    "NUM_VECTORIZERS = 5\n",
    "NUM_CLASSIFIERS = 4\n",
    "scores = np.zeros((NUM_VECTORIZERS, NUM_CLASSIFIERS))"
   ]
  },
  {
   "cell_type": "code",
   "execution_count": 6,
   "metadata": {},
   "outputs": [
    {
     "name": "stdout",
     "output_type": "stream",
     "text": [
      "Generated 0 pos + 0 neg = 0 total image triples\n",
      "Generated 300 pos + 300 neg = 600 total image triples\n",
      "Generated 1100 pos + 1100 neg = 2200 total image triples\n",
      "Generated 1800 pos + 1800 neg = 3600 total image triples\n",
      "Generated 2072 pos + 2072 neg = 4144 total image triples\n"
     ]
    },
    {
     "name": "stderr",
     "output_type": "stream",
     "text": [
      "/home/ubuntu/anaconda3/lib/python3.6/site-packages/sklearn/model_selection/_split.py:2026: FutureWarning: From version 0.21, test_size will always complement train_size unless both are specified.\n",
      "  FutureWarning)\n"
     ]
    },
    {
     "name": "stdout",
     "output_type": "stream",
     "text": [
      "(2900, 4096) (1244, 4096) (2900,) (1244,)\n",
      "fold 0, score: 0.834\n",
      "fold 1, score: 0.817\n",
      "fold 2, score: 0.859\n",
      "fold 3, score: 0.810\n",
      "fold 4, score: 0.807\n",
      "fold 5, score: 0.841\n",
      "fold 6, score: 0.783\n",
      "fold 7, score: 0.783\n",
      "fold 8, score: 0.845\n",
      "fold 9, score: 0.834\n",
      "\n",
      "Accuracy Score: 0.841\n",
      "\n",
      "Confusion Matrix\n",
      "[[537 127]\n",
      " [ 71 509]]\n",
      "\n",
      "Classification Report\n",
      "             precision    recall  f1-score   support\n",
      "\n",
      "          0       0.88      0.81      0.84       664\n",
      "          1       0.80      0.88      0.84       580\n",
      "\n",
      "avg / total       0.84      0.84      0.84      1244\n",
      "\n",
      "fold 0, score: 0.893\n",
      "fold 1, score: 0.886\n",
      "fold 2, score: 0.900\n",
      "fold 3, score: 0.883\n",
      "fold 4, score: 0.876\n",
      "fold 5, score: 0.893\n",
      "fold 6, score: 0.852\n",
      "fold 7, score: 0.897\n",
      "fold 8, score: 0.866\n",
      "fold 9, score: 0.897\n",
      "\n",
      "Accuracy Score: 0.897\n",
      "\n",
      "Confusion Matrix\n",
      "[[531  51]\n",
      " [ 77 585]]\n",
      "\n",
      "Classification Report\n",
      "             precision    recall  f1-score   support\n",
      "\n",
      "          0       0.87      0.91      0.89       582\n",
      "          1       0.92      0.88      0.90       662\n",
      "\n",
      "avg / total       0.90      0.90      0.90      1244\n",
      "\n"
     ]
    },
    {
     "name": "stderr",
     "output_type": "stream",
     "text": [
      "/home/ubuntu/anaconda3/lib/python3.6/site-packages/sklearn/preprocessing/label.py:151: DeprecationWarning: The truth value of an empty array is ambiguous. Returning False, but in future this will result in an error. Use `array.size > 0` to check that an array is not empty.\n",
      "  if diff:\n"
     ]
    },
    {
     "name": "stdout",
     "output_type": "stream",
     "text": [
      "fold 0, score: 0.910\n"
     ]
    },
    {
     "name": "stderr",
     "output_type": "stream",
     "text": [
      "/home/ubuntu/anaconda3/lib/python3.6/site-packages/sklearn/preprocessing/label.py:151: DeprecationWarning: The truth value of an empty array is ambiguous. Returning False, but in future this will result in an error. Use `array.size > 0` to check that an array is not empty.\n",
      "  if diff:\n"
     ]
    },
    {
     "name": "stdout",
     "output_type": "stream",
     "text": [
      "fold 1, score: 0.928\n"
     ]
    },
    {
     "name": "stderr",
     "output_type": "stream",
     "text": [
      "/home/ubuntu/anaconda3/lib/python3.6/site-packages/sklearn/preprocessing/label.py:151: DeprecationWarning: The truth value of an empty array is ambiguous. Returning False, but in future this will result in an error. Use `array.size > 0` to check that an array is not empty.\n",
      "  if diff:\n"
     ]
    },
    {
     "name": "stdout",
     "output_type": "stream",
     "text": [
      "fold 2, score: 0.941\n"
     ]
    },
    {
     "name": "stderr",
     "output_type": "stream",
     "text": [
      "/home/ubuntu/anaconda3/lib/python3.6/site-packages/sklearn/preprocessing/label.py:151: DeprecationWarning: The truth value of an empty array is ambiguous. Returning False, but in future this will result in an error. Use `array.size > 0` to check that an array is not empty.\n",
      "  if diff:\n"
     ]
    },
    {
     "name": "stdout",
     "output_type": "stream",
     "text": [
      "fold 3, score: 0.903\n"
     ]
    },
    {
     "name": "stderr",
     "output_type": "stream",
     "text": [
      "/home/ubuntu/anaconda3/lib/python3.6/site-packages/sklearn/preprocessing/label.py:151: DeprecationWarning: The truth value of an empty array is ambiguous. Returning False, but in future this will result in an error. Use `array.size > 0` to check that an array is not empty.\n",
      "  if diff:\n"
     ]
    },
    {
     "name": "stdout",
     "output_type": "stream",
     "text": [
      "fold 4, score: 0.907\n"
     ]
    },
    {
     "name": "stderr",
     "output_type": "stream",
     "text": [
      "/home/ubuntu/anaconda3/lib/python3.6/site-packages/sklearn/preprocessing/label.py:151: DeprecationWarning: The truth value of an empty array is ambiguous. Returning False, but in future this will result in an error. Use `array.size > 0` to check that an array is not empty.\n",
      "  if diff:\n"
     ]
    },
    {
     "name": "stdout",
     "output_type": "stream",
     "text": [
      "fold 5, score: 0.903\n"
     ]
    },
    {
     "name": "stderr",
     "output_type": "stream",
     "text": [
      "/home/ubuntu/anaconda3/lib/python3.6/site-packages/sklearn/preprocessing/label.py:151: DeprecationWarning: The truth value of an empty array is ambiguous. Returning False, but in future this will result in an error. Use `array.size > 0` to check that an array is not empty.\n",
      "  if diff:\n"
     ]
    },
    {
     "name": "stdout",
     "output_type": "stream",
     "text": [
      "fold 6, score: 0.910\n"
     ]
    },
    {
     "name": "stderr",
     "output_type": "stream",
     "text": [
      "/home/ubuntu/anaconda3/lib/python3.6/site-packages/sklearn/preprocessing/label.py:151: DeprecationWarning: The truth value of an empty array is ambiguous. Returning False, but in future this will result in an error. Use `array.size > 0` to check that an array is not empty.\n",
      "  if diff:\n"
     ]
    },
    {
     "name": "stdout",
     "output_type": "stream",
     "text": [
      "fold 7, score: 0.900\n"
     ]
    },
    {
     "name": "stderr",
     "output_type": "stream",
     "text": [
      "/home/ubuntu/anaconda3/lib/python3.6/site-packages/sklearn/preprocessing/label.py:151: DeprecationWarning: The truth value of an empty array is ambiguous. Returning False, but in future this will result in an error. Use `array.size > 0` to check that an array is not empty.\n",
      "  if diff:\n"
     ]
    },
    {
     "name": "stdout",
     "output_type": "stream",
     "text": [
      "fold 8, score: 0.945\n"
     ]
    },
    {
     "name": "stderr",
     "output_type": "stream",
     "text": [
      "/home/ubuntu/anaconda3/lib/python3.6/site-packages/sklearn/preprocessing/label.py:151: DeprecationWarning: The truth value of an empty array is ambiguous. Returning False, but in future this will result in an error. Use `array.size > 0` to check that an array is not empty.\n",
      "  if diff:\n",
      "/home/ubuntu/anaconda3/lib/python3.6/site-packages/sklearn/preprocessing/label.py:151: DeprecationWarning: The truth value of an empty array is ambiguous. Returning False, but in future this will result in an error. Use `array.size > 0` to check that an array is not empty.\n",
      "  if diff:\n"
     ]
    },
    {
     "name": "stdout",
     "output_type": "stream",
     "text": [
      "fold 9, score: 0.948\n",
      "\n",
      "Accuracy Score: 0.933\n",
      "\n",
      "Confusion Matrix\n",
      "[[576  51]\n",
      " [ 32 585]]\n",
      "\n",
      "Classification Report\n",
      "             precision    recall  f1-score   support\n",
      "\n",
      "          0       0.95      0.92      0.93       627\n",
      "          1       0.92      0.95      0.93       617\n",
      "\n",
      "avg / total       0.93      0.93      0.93      1244\n",
      "\n",
      "fold 0, score: 0.834\n",
      "fold 1, score: 0.876\n",
      "fold 2, score: 0.890\n",
      "fold 3, score: 0.893\n",
      "fold 4, score: 0.872\n",
      "fold 5, score: 0.900\n",
      "fold 6, score: 0.869\n",
      "fold 7, score: 0.886\n",
      "fold 8, score: 0.852\n",
      "fold 9, score: 0.928\n",
      "\n",
      "Accuracy Score: 0.858\n",
      "\n",
      "Confusion Matrix\n",
      "[[560 129]\n",
      " [ 48 507]]\n",
      "\n",
      "Classification Report\n",
      "             precision    recall  f1-score   support\n",
      "\n",
      "          0       0.92      0.81      0.86       689\n",
      "          1       0.80      0.91      0.85       555\n",
      "\n",
      "avg / total       0.87      0.86      0.86      1244\n",
      "\n"
     ]
    },
    {
     "name": "stderr",
     "output_type": "stream",
     "text": [
      "/home/ubuntu/anaconda3/lib/python3.6/site-packages/sklearn/model_selection/_split.py:2026: FutureWarning: From version 0.21, test_size will always complement train_size unless both are specified.\n",
      "  FutureWarning)\n"
     ]
    },
    {
     "name": "stdout",
     "output_type": "stream",
     "text": [
      "(2900, 4096) (1244, 4096) (2900,) (1244,)\n",
      "fold 0, score: 0.824\n",
      "fold 1, score: 0.845\n",
      "fold 2, score: 0.828\n",
      "fold 3, score: 0.803\n",
      "fold 4, score: 0.814\n",
      "fold 5, score: 0.890\n",
      "fold 6, score: 0.824\n",
      "fold 7, score: 0.790\n",
      "fold 8, score: 0.772\n",
      "fold 9, score: 0.828\n",
      "\n",
      "Accuracy Score: 0.831\n",
      "\n",
      "Confusion Matrix\n",
      "[[541 128]\n",
      " [ 82 493]]\n",
      "\n",
      "Classification Report\n",
      "             precision    recall  f1-score   support\n",
      "\n",
      "          0       0.87      0.81      0.84       669\n",
      "          1       0.79      0.86      0.82       575\n",
      "\n",
      "avg / total       0.83      0.83      0.83      1244\n",
      "\n",
      "fold 0, score: 0.897\n",
      "fold 1, score: 0.852\n",
      "fold 2, score: 0.883\n",
      "fold 3, score: 0.817\n",
      "fold 4, score: 0.859\n",
      "fold 5, score: 0.876\n",
      "fold 6, score: 0.890\n",
      "fold 7, score: 0.890\n",
      "fold 8, score: 0.890\n",
      "fold 9, score: 0.900\n",
      "\n",
      "Accuracy Score: 0.887\n",
      "\n",
      "Confusion Matrix\n",
      "[[532  50]\n",
      " [ 91 571]]\n",
      "\n",
      "Classification Report\n",
      "             precision    recall  f1-score   support\n",
      "\n",
      "          0       0.85      0.91      0.88       582\n",
      "          1       0.92      0.86      0.89       662\n",
      "\n",
      "avg / total       0.89      0.89      0.89      1244\n",
      "\n"
     ]
    },
    {
     "name": "stderr",
     "output_type": "stream",
     "text": [
      "/home/ubuntu/anaconda3/lib/python3.6/site-packages/sklearn/preprocessing/label.py:151: DeprecationWarning: The truth value of an empty array is ambiguous. Returning False, but in future this will result in an error. Use `array.size > 0` to check that an array is not empty.\n",
      "  if diff:\n"
     ]
    },
    {
     "name": "stdout",
     "output_type": "stream",
     "text": [
      "fold 0, score: 0.948\n"
     ]
    },
    {
     "name": "stderr",
     "output_type": "stream",
     "text": [
      "/home/ubuntu/anaconda3/lib/python3.6/site-packages/sklearn/preprocessing/label.py:151: DeprecationWarning: The truth value of an empty array is ambiguous. Returning False, but in future this will result in an error. Use `array.size > 0` to check that an array is not empty.\n",
      "  if diff:\n"
     ]
    },
    {
     "name": "stdout",
     "output_type": "stream",
     "text": [
      "fold 1, score: 0.910\n"
     ]
    },
    {
     "name": "stderr",
     "output_type": "stream",
     "text": [
      "/home/ubuntu/anaconda3/lib/python3.6/site-packages/sklearn/preprocessing/label.py:151: DeprecationWarning: The truth value of an empty array is ambiguous. Returning False, but in future this will result in an error. Use `array.size > 0` to check that an array is not empty.\n",
      "  if diff:\n"
     ]
    },
    {
     "name": "stdout",
     "output_type": "stream",
     "text": [
      "fold 2, score: 0.948\n"
     ]
    },
    {
     "name": "stderr",
     "output_type": "stream",
     "text": [
      "/home/ubuntu/anaconda3/lib/python3.6/site-packages/sklearn/preprocessing/label.py:151: DeprecationWarning: The truth value of an empty array is ambiguous. Returning False, but in future this will result in an error. Use `array.size > 0` to check that an array is not empty.\n",
      "  if diff:\n"
     ]
    },
    {
     "name": "stdout",
     "output_type": "stream",
     "text": [
      "fold 3, score: 0.907\n"
     ]
    },
    {
     "name": "stderr",
     "output_type": "stream",
     "text": [
      "/home/ubuntu/anaconda3/lib/python3.6/site-packages/sklearn/preprocessing/label.py:151: DeprecationWarning: The truth value of an empty array is ambiguous. Returning False, but in future this will result in an error. Use `array.size > 0` to check that an array is not empty.\n",
      "  if diff:\n"
     ]
    },
    {
     "name": "stdout",
     "output_type": "stream",
     "text": [
      "fold 4, score: 0.900\n"
     ]
    },
    {
     "name": "stderr",
     "output_type": "stream",
     "text": [
      "/home/ubuntu/anaconda3/lib/python3.6/site-packages/sklearn/preprocessing/label.py:151: DeprecationWarning: The truth value of an empty array is ambiguous. Returning False, but in future this will result in an error. Use `array.size > 0` to check that an array is not empty.\n",
      "  if diff:\n"
     ]
    },
    {
     "name": "stdout",
     "output_type": "stream",
     "text": [
      "fold 5, score: 0.934\n"
     ]
    },
    {
     "name": "stderr",
     "output_type": "stream",
     "text": [
      "/home/ubuntu/anaconda3/lib/python3.6/site-packages/sklearn/preprocessing/label.py:151: DeprecationWarning: The truth value of an empty array is ambiguous. Returning False, but in future this will result in an error. Use `array.size > 0` to check that an array is not empty.\n",
      "  if diff:\n"
     ]
    },
    {
     "name": "stdout",
     "output_type": "stream",
     "text": [
      "fold 6, score: 0.952\n"
     ]
    },
    {
     "name": "stderr",
     "output_type": "stream",
     "text": [
      "/home/ubuntu/anaconda3/lib/python3.6/site-packages/sklearn/preprocessing/label.py:151: DeprecationWarning: The truth value of an empty array is ambiguous. Returning False, but in future this will result in an error. Use `array.size > 0` to check that an array is not empty.\n",
      "  if diff:\n"
     ]
    },
    {
     "name": "stdout",
     "output_type": "stream",
     "text": [
      "fold 7, score: 0.921\n"
     ]
    },
    {
     "name": "stderr",
     "output_type": "stream",
     "text": [
      "/home/ubuntu/anaconda3/lib/python3.6/site-packages/sklearn/preprocessing/label.py:151: DeprecationWarning: The truth value of an empty array is ambiguous. Returning False, but in future this will result in an error. Use `array.size > 0` to check that an array is not empty.\n",
      "  if diff:\n"
     ]
    },
    {
     "name": "stdout",
     "output_type": "stream",
     "text": [
      "fold 8, score: 0.900\n"
     ]
    },
    {
     "name": "stderr",
     "output_type": "stream",
     "text": [
      "/home/ubuntu/anaconda3/lib/python3.6/site-packages/sklearn/preprocessing/label.py:151: DeprecationWarning: The truth value of an empty array is ambiguous. Returning False, but in future this will result in an error. Use `array.size > 0` to check that an array is not empty.\n",
      "  if diff:\n",
      "/home/ubuntu/anaconda3/lib/python3.6/site-packages/sklearn/preprocessing/label.py:151: DeprecationWarning: The truth value of an empty array is ambiguous. Returning False, but in future this will result in an error. Use `array.size > 0` to check that an array is not empty.\n",
      "  if diff:\n"
     ]
    },
    {
     "name": "stdout",
     "output_type": "stream",
     "text": [
      "fold 9, score: 0.910\n",
      "\n",
      "Accuracy Score: 0.920\n",
      "\n",
      "Confusion Matrix\n",
      "[[569  45]\n",
      " [ 54 576]]\n",
      "\n",
      "Classification Report\n",
      "             precision    recall  f1-score   support\n",
      "\n",
      "          0       0.91      0.93      0.92       614\n",
      "          1       0.93      0.91      0.92       630\n",
      "\n",
      "avg / total       0.92      0.92      0.92      1244\n",
      "\n",
      "fold 0, score: 0.928\n",
      "fold 1, score: 0.897\n",
      "fold 2, score: 0.900\n",
      "fold 3, score: 0.893\n",
      "fold 4, score: 0.907\n",
      "fold 5, score: 0.862\n",
      "fold 6, score: 0.862\n",
      "fold 7, score: 0.855\n",
      "fold 8, score: 0.852\n",
      "fold 9, score: 0.876\n",
      "\n",
      "Accuracy Score: 0.860\n",
      "\n",
      "Confusion Matrix\n",
      "[[565 116]\n",
      " [ 58 505]]\n",
      "\n",
      "Classification Report\n",
      "             precision    recall  f1-score   support\n",
      "\n",
      "          0       0.91      0.83      0.87       681\n",
      "          1       0.81      0.90      0.85       563\n",
      "\n",
      "avg / total       0.86      0.86      0.86      1244\n",
      "\n"
     ]
    },
    {
     "name": "stderr",
     "output_type": "stream",
     "text": [
      "/home/ubuntu/anaconda3/lib/python3.6/site-packages/sklearn/model_selection/_split.py:2026: FutureWarning: From version 0.21, test_size will always complement train_size unless both are specified.\n",
      "  FutureWarning)\n"
     ]
    },
    {
     "name": "stdout",
     "output_type": "stream",
     "text": [
      "(2900, 2048) (1244, 2048) (2900,) (1244,)\n",
      "fold 0, score: 0.859\n",
      "fold 1, score: 0.866\n",
      "fold 2, score: 0.848\n",
      "fold 3, score: 0.859\n",
      "fold 4, score: 0.862\n",
      "fold 5, score: 0.862\n",
      "fold 6, score: 0.845\n",
      "fold 7, score: 0.841\n",
      "fold 8, score: 0.831\n",
      "fold 9, score: 0.841\n",
      "\n",
      "Accuracy Score: 0.870\n",
      "\n",
      "Confusion Matrix\n",
      "[[595 121]\n",
      " [ 41 487]]\n",
      "\n",
      "Classification Report\n",
      "             precision    recall  f1-score   support\n",
      "\n",
      "          0       0.94      0.83      0.88       716\n",
      "          1       0.80      0.92      0.86       528\n",
      "\n",
      "avg / total       0.88      0.87      0.87      1244\n",
      "\n",
      "fold 0, score: 0.897\n",
      "fold 1, score: 0.883\n",
      "fold 2, score: 0.890\n",
      "fold 3, score: 0.859\n",
      "fold 4, score: 0.866\n",
      "fold 5, score: 0.924\n",
      "fold 6, score: 0.907\n",
      "fold 7, score: 0.876\n",
      "fold 8, score: 0.924\n",
      "fold 9, score: 0.883\n",
      "\n",
      "Accuracy Score: 0.900\n",
      "\n",
      "Confusion Matrix\n",
      "[[561  49]\n",
      " [ 75 559]]\n",
      "\n",
      "Classification Report\n",
      "             precision    recall  f1-score   support\n",
      "\n",
      "          0       0.88      0.92      0.90       610\n",
      "          1       0.92      0.88      0.90       634\n",
      "\n",
      "avg / total       0.90      0.90      0.90      1244\n",
      "\n"
     ]
    },
    {
     "name": "stderr",
     "output_type": "stream",
     "text": [
      "/home/ubuntu/anaconda3/lib/python3.6/site-packages/sklearn/preprocessing/label.py:151: DeprecationWarning: The truth value of an empty array is ambiguous. Returning False, but in future this will result in an error. Use `array.size > 0` to check that an array is not empty.\n",
      "  if diff:\n"
     ]
    },
    {
     "name": "stdout",
     "output_type": "stream",
     "text": [
      "fold 0, score: 0.928\n"
     ]
    },
    {
     "name": "stderr",
     "output_type": "stream",
     "text": [
      "/home/ubuntu/anaconda3/lib/python3.6/site-packages/sklearn/preprocessing/label.py:151: DeprecationWarning: The truth value of an empty array is ambiguous. Returning False, but in future this will result in an error. Use `array.size > 0` to check that an array is not empty.\n",
      "  if diff:\n"
     ]
    },
    {
     "name": "stdout",
     "output_type": "stream",
     "text": [
      "fold 1, score: 0.914\n"
     ]
    },
    {
     "name": "stderr",
     "output_type": "stream",
     "text": [
      "/home/ubuntu/anaconda3/lib/python3.6/site-packages/sklearn/preprocessing/label.py:151: DeprecationWarning: The truth value of an empty array is ambiguous. Returning False, but in future this will result in an error. Use `array.size > 0` to check that an array is not empty.\n",
      "  if diff:\n"
     ]
    },
    {
     "name": "stdout",
     "output_type": "stream",
     "text": [
      "fold 2, score: 0.928\n"
     ]
    },
    {
     "name": "stderr",
     "output_type": "stream",
     "text": [
      "/home/ubuntu/anaconda3/lib/python3.6/site-packages/sklearn/preprocessing/label.py:151: DeprecationWarning: The truth value of an empty array is ambiguous. Returning False, but in future this will result in an error. Use `array.size > 0` to check that an array is not empty.\n",
      "  if diff:\n"
     ]
    },
    {
     "name": "stdout",
     "output_type": "stream",
     "text": [
      "fold 3, score: 0.914\n"
     ]
    },
    {
     "name": "stderr",
     "output_type": "stream",
     "text": [
      "/home/ubuntu/anaconda3/lib/python3.6/site-packages/sklearn/preprocessing/label.py:151: DeprecationWarning: The truth value of an empty array is ambiguous. Returning False, but in future this will result in an error. Use `array.size > 0` to check that an array is not empty.\n",
      "  if diff:\n"
     ]
    },
    {
     "name": "stdout",
     "output_type": "stream",
     "text": [
      "fold 4, score: 0.893\n"
     ]
    },
    {
     "name": "stderr",
     "output_type": "stream",
     "text": [
      "/home/ubuntu/anaconda3/lib/python3.6/site-packages/sklearn/preprocessing/label.py:151: DeprecationWarning: The truth value of an empty array is ambiguous. Returning False, but in future this will result in an error. Use `array.size > 0` to check that an array is not empty.\n",
      "  if diff:\n"
     ]
    },
    {
     "name": "stdout",
     "output_type": "stream",
     "text": [
      "fold 5, score: 0.938\n"
     ]
    },
    {
     "name": "stderr",
     "output_type": "stream",
     "text": [
      "/home/ubuntu/anaconda3/lib/python3.6/site-packages/sklearn/preprocessing/label.py:151: DeprecationWarning: The truth value of an empty array is ambiguous. Returning False, but in future this will result in an error. Use `array.size > 0` to check that an array is not empty.\n",
      "  if diff:\n"
     ]
    },
    {
     "name": "stdout",
     "output_type": "stream",
     "text": [
      "fold 6, score: 0.931\n"
     ]
    },
    {
     "name": "stderr",
     "output_type": "stream",
     "text": [
      "/home/ubuntu/anaconda3/lib/python3.6/site-packages/sklearn/preprocessing/label.py:151: DeprecationWarning: The truth value of an empty array is ambiguous. Returning False, but in future this will result in an error. Use `array.size > 0` to check that an array is not empty.\n",
      "  if diff:\n"
     ]
    },
    {
     "name": "stdout",
     "output_type": "stream",
     "text": [
      "fold 7, score: 0.938\n"
     ]
    },
    {
     "name": "stderr",
     "output_type": "stream",
     "text": [
      "/home/ubuntu/anaconda3/lib/python3.6/site-packages/sklearn/preprocessing/label.py:151: DeprecationWarning: The truth value of an empty array is ambiguous. Returning False, but in future this will result in an error. Use `array.size > 0` to check that an array is not empty.\n",
      "  if diff:\n"
     ]
    },
    {
     "name": "stdout",
     "output_type": "stream",
     "text": [
      "fold 8, score: 0.917\n"
     ]
    },
    {
     "name": "stderr",
     "output_type": "stream",
     "text": [
      "/home/ubuntu/anaconda3/lib/python3.6/site-packages/sklearn/preprocessing/label.py:151: DeprecationWarning: The truth value of an empty array is ambiguous. Returning False, but in future this will result in an error. Use `array.size > 0` to check that an array is not empty.\n",
      "  if diff:\n",
      "/home/ubuntu/anaconda3/lib/python3.6/site-packages/sklearn/preprocessing/label.py:151: DeprecationWarning: The truth value of an empty array is ambiguous. Returning False, but in future this will result in an error. Use `array.size > 0` to check that an array is not empty.\n",
      "  if diff:\n"
     ]
    },
    {
     "name": "stdout",
     "output_type": "stream",
     "text": [
      "fold 9, score: 0.903\n",
      "\n",
      "Accuracy Score: 0.928\n",
      "\n",
      "Confusion Matrix\n",
      "[[597  51]\n",
      " [ 39 557]]\n",
      "\n",
      "Classification Report\n",
      "             precision    recall  f1-score   support\n",
      "\n",
      "          0       0.94      0.92      0.93       648\n",
      "          1       0.92      0.93      0.93       596\n",
      "\n",
      "avg / total       0.93      0.93      0.93      1244\n",
      "\n",
      "fold 0, score: 0.817\n",
      "fold 1, score: 0.841\n",
      "fold 2, score: 0.852\n",
      "fold 3, score: 0.821\n",
      "fold 4, score: 0.821\n",
      "fold 5, score: 0.814\n",
      "fold 6, score: 0.872\n",
      "fold 7, score: 0.848\n",
      "fold 8, score: 0.793\n",
      "fold 9, score: 0.803\n",
      "\n",
      "Accuracy Score: 0.826\n",
      "\n",
      "Confusion Matrix\n",
      "[[572 153]\n",
      " [ 64 455]]\n",
      "\n",
      "Classification Report\n",
      "             precision    recall  f1-score   support\n",
      "\n",
      "          0       0.90      0.79      0.84       725\n",
      "          1       0.75      0.88      0.81       519\n",
      "\n",
      "avg / total       0.84      0.83      0.83      1244\n",
      "\n"
     ]
    },
    {
     "name": "stderr",
     "output_type": "stream",
     "text": [
      "/home/ubuntu/anaconda3/lib/python3.6/site-packages/sklearn/model_selection/_split.py:2026: FutureWarning: From version 0.21, test_size will always complement train_size unless both are specified.\n",
      "  FutureWarning)\n"
     ]
    },
    {
     "name": "stdout",
     "output_type": "stream",
     "text": [
      "(2900, 2048) (1244, 2048) (2900,) (1244,)\n",
      "fold 0, score: 0.803\n",
      "fold 1, score: 0.848\n",
      "fold 2, score: 0.824\n",
      "fold 3, score: 0.793\n",
      "fold 4, score: 0.838\n",
      "fold 5, score: 0.803\n",
      "fold 6, score: 0.872\n",
      "fold 7, score: 0.834\n",
      "fold 8, score: 0.852\n",
      "fold 9, score: 0.838\n",
      "\n",
      "Accuracy Score: 0.832\n",
      "\n",
      "Confusion Matrix\n",
      "[[559 140]\n",
      " [ 69 476]]\n",
      "\n",
      "Classification Report\n",
      "             precision    recall  f1-score   support\n",
      "\n",
      "          0       0.89      0.80      0.84       699\n",
      "          1       0.77      0.87      0.82       545\n",
      "\n",
      "avg / total       0.84      0.83      0.83      1244\n",
      "\n",
      "fold 0, score: 0.928\n",
      "fold 1, score: 0.938\n",
      "fold 2, score: 0.945\n",
      "fold 3, score: 0.924\n",
      "fold 4, score: 0.910\n",
      "fold 5, score: 0.910\n",
      "fold 6, score: 0.900\n",
      "fold 7, score: 0.914\n",
      "fold 8, score: 0.893\n",
      "fold 9, score: 0.934\n",
      "\n",
      "Accuracy Score: 0.899\n",
      "\n",
      "Confusion Matrix\n",
      "[[544  42]\n",
      " [ 84 574]]\n",
      "\n",
      "Classification Report\n",
      "             precision    recall  f1-score   support\n",
      "\n",
      "          0       0.87      0.93      0.90       586\n",
      "          1       0.93      0.87      0.90       658\n",
      "\n",
      "avg / total       0.90      0.90      0.90      1244\n",
      "\n"
     ]
    },
    {
     "name": "stderr",
     "output_type": "stream",
     "text": [
      "/home/ubuntu/anaconda3/lib/python3.6/site-packages/sklearn/preprocessing/label.py:151: DeprecationWarning: The truth value of an empty array is ambiguous. Returning False, but in future this will result in an error. Use `array.size > 0` to check that an array is not empty.\n",
      "  if diff:\n"
     ]
    },
    {
     "name": "stdout",
     "output_type": "stream",
     "text": [
      "fold 0, score: 0.959\n"
     ]
    },
    {
     "name": "stderr",
     "output_type": "stream",
     "text": [
      "/home/ubuntu/anaconda3/lib/python3.6/site-packages/sklearn/preprocessing/label.py:151: DeprecationWarning: The truth value of an empty array is ambiguous. Returning False, but in future this will result in an error. Use `array.size > 0` to check that an array is not empty.\n",
      "  if diff:\n"
     ]
    },
    {
     "name": "stdout",
     "output_type": "stream",
     "text": [
      "fold 1, score: 0.928\n"
     ]
    },
    {
     "name": "stderr",
     "output_type": "stream",
     "text": [
      "/home/ubuntu/anaconda3/lib/python3.6/site-packages/sklearn/preprocessing/label.py:151: DeprecationWarning: The truth value of an empty array is ambiguous. Returning False, but in future this will result in an error. Use `array.size > 0` to check that an array is not empty.\n",
      "  if diff:\n"
     ]
    },
    {
     "name": "stdout",
     "output_type": "stream",
     "text": [
      "fold 2, score: 0.931\n"
     ]
    },
    {
     "name": "stderr",
     "output_type": "stream",
     "text": [
      "/home/ubuntu/anaconda3/lib/python3.6/site-packages/sklearn/preprocessing/label.py:151: DeprecationWarning: The truth value of an empty array is ambiguous. Returning False, but in future this will result in an error. Use `array.size > 0` to check that an array is not empty.\n",
      "  if diff:\n"
     ]
    },
    {
     "name": "stdout",
     "output_type": "stream",
     "text": [
      "fold 3, score: 0.921\n"
     ]
    },
    {
     "name": "stderr",
     "output_type": "stream",
     "text": [
      "/home/ubuntu/anaconda3/lib/python3.6/site-packages/sklearn/preprocessing/label.py:151: DeprecationWarning: The truth value of an empty array is ambiguous. Returning False, but in future this will result in an error. Use `array.size > 0` to check that an array is not empty.\n",
      "  if diff:\n"
     ]
    },
    {
     "name": "stdout",
     "output_type": "stream",
     "text": [
      "fold 4, score: 0.948\n"
     ]
    },
    {
     "name": "stderr",
     "output_type": "stream",
     "text": [
      "/home/ubuntu/anaconda3/lib/python3.6/site-packages/sklearn/preprocessing/label.py:151: DeprecationWarning: The truth value of an empty array is ambiguous. Returning False, but in future this will result in an error. Use `array.size > 0` to check that an array is not empty.\n",
      "  if diff:\n"
     ]
    },
    {
     "name": "stdout",
     "output_type": "stream",
     "text": [
      "fold 5, score: 0.928\n"
     ]
    },
    {
     "name": "stderr",
     "output_type": "stream",
     "text": [
      "/home/ubuntu/anaconda3/lib/python3.6/site-packages/sklearn/preprocessing/label.py:151: DeprecationWarning: The truth value of an empty array is ambiguous. Returning False, but in future this will result in an error. Use `array.size > 0` to check that an array is not empty.\n",
      "  if diff:\n"
     ]
    },
    {
     "name": "stdout",
     "output_type": "stream",
     "text": [
      "fold 6, score: 0.914\n"
     ]
    },
    {
     "name": "stderr",
     "output_type": "stream",
     "text": [
      "/home/ubuntu/anaconda3/lib/python3.6/site-packages/sklearn/preprocessing/label.py:151: DeprecationWarning: The truth value of an empty array is ambiguous. Returning False, but in future this will result in an error. Use `array.size > 0` to check that an array is not empty.\n",
      "  if diff:\n"
     ]
    },
    {
     "name": "stdout",
     "output_type": "stream",
     "text": [
      "fold 7, score: 0.962\n"
     ]
    },
    {
     "name": "stderr",
     "output_type": "stream",
     "text": [
      "/home/ubuntu/anaconda3/lib/python3.6/site-packages/sklearn/preprocessing/label.py:151: DeprecationWarning: The truth value of an empty array is ambiguous. Returning False, but in future this will result in an error. Use `array.size > 0` to check that an array is not empty.\n",
      "  if diff:\n"
     ]
    },
    {
     "name": "stdout",
     "output_type": "stream",
     "text": [
      "fold 8, score: 0.934\n"
     ]
    },
    {
     "name": "stderr",
     "output_type": "stream",
     "text": [
      "/home/ubuntu/anaconda3/lib/python3.6/site-packages/sklearn/preprocessing/label.py:151: DeprecationWarning: The truth value of an empty array is ambiguous. Returning False, but in future this will result in an error. Use `array.size > 0` to check that an array is not empty.\n",
      "  if diff:\n",
      "/home/ubuntu/anaconda3/lib/python3.6/site-packages/sklearn/preprocessing/label.py:151: DeprecationWarning: The truth value of an empty array is ambiguous. Returning False, but in future this will result in an error. Use `array.size > 0` to check that an array is not empty.\n",
      "  if diff:\n"
     ]
    },
    {
     "name": "stdout",
     "output_type": "stream",
     "text": [
      "fold 9, score: 0.955\n",
      "\n",
      "Accuracy Score: 0.946\n",
      "\n",
      "Confusion Matrix\n",
      "[[597  36]\n",
      " [ 31 580]]\n",
      "\n",
      "Classification Report\n",
      "             precision    recall  f1-score   support\n",
      "\n",
      "          0       0.95      0.94      0.95       633\n",
      "          1       0.94      0.95      0.95       611\n",
      "\n",
      "avg / total       0.95      0.95      0.95      1244\n",
      "\n",
      "fold 0, score: 0.838\n",
      "fold 1, score: 0.883\n",
      "fold 2, score: 0.866\n",
      "fold 3, score: 0.879\n",
      "fold 4, score: 0.848\n",
      "fold 5, score: 0.855\n",
      "fold 6, score: 0.862\n",
      "fold 7, score: 0.845\n",
      "fold 8, score: 0.866\n",
      "fold 9, score: 0.859\n",
      "\n",
      "Accuracy Score: 0.887\n",
      "\n",
      "Confusion Matrix\n",
      "[[590 102]\n",
      " [ 38 514]]\n",
      "\n",
      "Classification Report\n",
      "             precision    recall  f1-score   support\n",
      "\n",
      "          0       0.94      0.85      0.89       692\n",
      "          1       0.83      0.93      0.88       552\n",
      "\n",
      "avg / total       0.89      0.89      0.89      1244\n",
      "\n"
     ]
    },
    {
     "name": "stderr",
     "output_type": "stream",
     "text": [
      "/home/ubuntu/anaconda3/lib/python3.6/site-packages/sklearn/model_selection/_split.py:2026: FutureWarning: From version 0.21, test_size will always complement train_size unless both are specified.\n",
      "  FutureWarning)\n"
     ]
    },
    {
     "name": "stdout",
     "output_type": "stream",
     "text": [
      "(2900, 2048) (1244, 2048) (2900,) (1244,)\n",
      "fold 0, score: 0.838\n",
      "fold 1, score: 0.848\n",
      "fold 2, score: 0.879\n",
      "fold 3, score: 0.831\n",
      "fold 4, score: 0.879\n",
      "fold 5, score: 0.834\n",
      "fold 6, score: 0.845\n",
      "fold 7, score: 0.845\n",
      "fold 8, score: 0.862\n",
      "fold 9, score: 0.872\n",
      "\n",
      "Accuracy Score: 0.860\n",
      "\n",
      "Confusion Matrix\n",
      "[[585 137]\n",
      " [ 37 485]]\n",
      "\n",
      "Classification Report\n",
      "             precision    recall  f1-score   support\n",
      "\n",
      "          0       0.94      0.81      0.87       722\n",
      "          1       0.78      0.93      0.85       522\n",
      "\n",
      "avg / total       0.87      0.86      0.86      1244\n",
      "\n",
      "fold 0, score: 0.883\n",
      "fold 1, score: 0.928\n",
      "fold 2, score: 0.931\n",
      "fold 3, score: 0.886\n",
      "fold 4, score: 0.897\n",
      "fold 5, score: 0.910\n",
      "fold 6, score: 0.917\n",
      "fold 7, score: 0.910\n",
      "fold 8, score: 0.938\n",
      "fold 9, score: 0.931\n",
      "\n",
      "Accuracy Score: 0.918\n",
      "\n",
      "Confusion Matrix\n",
      "[[566  46]\n",
      " [ 56 576]]\n",
      "\n",
      "Classification Report\n",
      "             precision    recall  f1-score   support\n",
      "\n",
      "          0       0.91      0.92      0.92       612\n",
      "          1       0.93      0.91      0.92       632\n",
      "\n",
      "avg / total       0.92      0.92      0.92      1244\n",
      "\n"
     ]
    },
    {
     "name": "stderr",
     "output_type": "stream",
     "text": [
      "/home/ubuntu/anaconda3/lib/python3.6/site-packages/sklearn/preprocessing/label.py:151: DeprecationWarning: The truth value of an empty array is ambiguous. Returning False, but in future this will result in an error. Use `array.size > 0` to check that an array is not empty.\n",
      "  if diff:\n"
     ]
    },
    {
     "name": "stdout",
     "output_type": "stream",
     "text": [
      "fold 0, score: 0.931\n"
     ]
    },
    {
     "name": "stderr",
     "output_type": "stream",
     "text": [
      "/home/ubuntu/anaconda3/lib/python3.6/site-packages/sklearn/preprocessing/label.py:151: DeprecationWarning: The truth value of an empty array is ambiguous. Returning False, but in future this will result in an error. Use `array.size > 0` to check that an array is not empty.\n",
      "  if diff:\n"
     ]
    },
    {
     "name": "stdout",
     "output_type": "stream",
     "text": [
      "fold 1, score: 0.924\n"
     ]
    },
    {
     "name": "stderr",
     "output_type": "stream",
     "text": [
      "/home/ubuntu/anaconda3/lib/python3.6/site-packages/sklearn/preprocessing/label.py:151: DeprecationWarning: The truth value of an empty array is ambiguous. Returning False, but in future this will result in an error. Use `array.size > 0` to check that an array is not empty.\n",
      "  if diff:\n"
     ]
    },
    {
     "name": "stdout",
     "output_type": "stream",
     "text": [
      "fold 2, score: 0.938\n"
     ]
    },
    {
     "name": "stderr",
     "output_type": "stream",
     "text": [
      "/home/ubuntu/anaconda3/lib/python3.6/site-packages/sklearn/preprocessing/label.py:151: DeprecationWarning: The truth value of an empty array is ambiguous. Returning False, but in future this will result in an error. Use `array.size > 0` to check that an array is not empty.\n",
      "  if diff:\n"
     ]
    },
    {
     "name": "stdout",
     "output_type": "stream",
     "text": [
      "fold 3, score: 0.900\n"
     ]
    },
    {
     "name": "stderr",
     "output_type": "stream",
     "text": [
      "/home/ubuntu/anaconda3/lib/python3.6/site-packages/sklearn/preprocessing/label.py:151: DeprecationWarning: The truth value of an empty array is ambiguous. Returning False, but in future this will result in an error. Use `array.size > 0` to check that an array is not empty.\n",
      "  if diff:\n"
     ]
    },
    {
     "name": "stdout",
     "output_type": "stream",
     "text": [
      "fold 4, score: 0.931\n"
     ]
    },
    {
     "name": "stderr",
     "output_type": "stream",
     "text": [
      "/home/ubuntu/anaconda3/lib/python3.6/site-packages/sklearn/preprocessing/label.py:151: DeprecationWarning: The truth value of an empty array is ambiguous. Returning False, but in future this will result in an error. Use `array.size > 0` to check that an array is not empty.\n",
      "  if diff:\n"
     ]
    },
    {
     "name": "stdout",
     "output_type": "stream",
     "text": [
      "fold 5, score: 0.938\n"
     ]
    },
    {
     "name": "stderr",
     "output_type": "stream",
     "text": [
      "/home/ubuntu/anaconda3/lib/python3.6/site-packages/sklearn/preprocessing/label.py:151: DeprecationWarning: The truth value of an empty array is ambiguous. Returning False, but in future this will result in an error. Use `array.size > 0` to check that an array is not empty.\n",
      "  if diff:\n"
     ]
    },
    {
     "name": "stdout",
     "output_type": "stream",
     "text": [
      "fold 6, score: 0.910\n"
     ]
    },
    {
     "name": "stderr",
     "output_type": "stream",
     "text": [
      "/home/ubuntu/anaconda3/lib/python3.6/site-packages/sklearn/preprocessing/label.py:151: DeprecationWarning: The truth value of an empty array is ambiguous. Returning False, but in future this will result in an error. Use `array.size > 0` to check that an array is not empty.\n",
      "  if diff:\n"
     ]
    },
    {
     "name": "stdout",
     "output_type": "stream",
     "text": [
      "fold 7, score: 0.907\n"
     ]
    },
    {
     "name": "stderr",
     "output_type": "stream",
     "text": [
      "/home/ubuntu/anaconda3/lib/python3.6/site-packages/sklearn/preprocessing/label.py:151: DeprecationWarning: The truth value of an empty array is ambiguous. Returning False, but in future this will result in an error. Use `array.size > 0` to check that an array is not empty.\n",
      "  if diff:\n"
     ]
    },
    {
     "name": "stdout",
     "output_type": "stream",
     "text": [
      "fold 8, score: 0.931\n"
     ]
    },
    {
     "name": "stderr",
     "output_type": "stream",
     "text": [
      "/home/ubuntu/anaconda3/lib/python3.6/site-packages/sklearn/preprocessing/label.py:151: DeprecationWarning: The truth value of an empty array is ambiguous. Returning False, but in future this will result in an error. Use `array.size > 0` to check that an array is not empty.\n",
      "  if diff:\n",
      "/home/ubuntu/anaconda3/lib/python3.6/site-packages/sklearn/preprocessing/label.py:151: DeprecationWarning: The truth value of an empty array is ambiguous. Returning False, but in future this will result in an error. Use `array.size > 0` to check that an array is not empty.\n",
      "  if diff:\n"
     ]
    },
    {
     "name": "stdout",
     "output_type": "stream",
     "text": [
      "fold 9, score: 0.945\n",
      "\n",
      "Accuracy Score: 0.932\n",
      "\n",
      "Confusion Matrix\n",
      "[[590  53]\n",
      " [ 32 569]]\n",
      "\n",
      "Classification Report\n",
      "             precision    recall  f1-score   support\n",
      "\n",
      "          0       0.95      0.92      0.93       643\n",
      "          1       0.91      0.95      0.93       601\n",
      "\n",
      "avg / total       0.93      0.93      0.93      1244\n",
      "\n",
      "fold 0, score: 0.852\n",
      "fold 1, score: 0.831\n",
      "fold 2, score: 0.859\n",
      "fold 3, score: 0.828\n",
      "fold 4, score: 0.862\n",
      "fold 5, score: 0.841\n",
      "fold 6, score: 0.824\n",
      "fold 7, score: 0.821\n",
      "fold 8, score: 0.862\n",
      "fold 9, score: 0.866\n",
      "\n",
      "Accuracy Score: 0.843\n",
      "\n",
      "Confusion Matrix\n",
      "[[576 149]\n",
      " [ 46 473]]\n",
      "\n",
      "Classification Report\n",
      "             precision    recall  f1-score   support\n",
      "\n",
      "          0       0.93      0.79      0.86       725\n",
      "          1       0.76      0.91      0.83       519\n",
      "\n",
      "avg / total       0.86      0.84      0.84      1244\n",
      "\n"
     ]
    },
    {
     "data": {
      "text/plain": [
       "Text(0.5,1,'absolute difference of vectors')"
      ]
     },
     "execution_count": 6,
     "metadata": {},
     "output_type": "execute_result"
    },
    {
     "data": {
      "image/png": "[encoded data removed]",
      "text/plain": [
       "<Figure size 432x288 with 1 Axes>"
      ]
     },
     "metadata": {},
     "output_type": "display_data"
    }
   ],
   "source": [
    "#VGG-16 Vectors\n",
    "#In [6]:\n",
    "VECTOR_FILE = os.path.join(DATA_DIR, \"vgg16-vectors.tsv\")\n",
    "Xtrain, Xtest, ytrain, ytest = preprocess_data(VECTOR_FILE)\n",
    "print(Xtrain.shape, Xtest.shape, ytrain.shape, ytest.shape)\n",
    "# (2900, 4096) (1244, 4096) (2900,) (1244,)\n",
    "# Naive Bayes\n",
    "# In [7]:\n",
    "clf = GaussianNB()\n",
    "best_clf, best_score = cross_validate(Xtrain, ytrain, clf)\n",
    "scores[0, 0] = best_score\n",
    "test_report(best_clf, Xtest, ytest)\n",
    "save_model(best_clf, get_model_file(DATA_DIR, \"vgg16\", \"nb\"))\n",
    "\n",
    "# SVM\n",
    "# In [8]:\n",
    "clf = LinearSVC()\n",
    "best_clf, best_score = cross_validate(Xtrain, ytrain, clf)\n",
    "scores[0, 1] = best_score\n",
    "test_report(best_clf, Xtest, ytest)\n",
    "save_model(best_clf, get_model_file(DATA_DIR, \"vgg16\", \"svm\"))\n",
    "\n",
    "# XGBoost\n",
    "# In [9]:\n",
    "clf = XGBClassifier()\n",
    "best_clf, best_score = cross_validate(Xtrain, ytrain, clf)\n",
    "scores[0, 2] = best_score\n",
    "test_report(best_clf, Xtest, ytest)\n",
    "save_model(best_clf, get_model_file(DATA_DIR, \"vgg16\", \"xgb\"))\n",
    "\n",
    "# Random Forest\n",
    "# In [10]:\n",
    "clf = RandomForestClassifier()\n",
    "best_clf, best_score = cross_validate(Xtrain, ytrain, clf)\n",
    "scores[0, 3] = best_score\n",
    "test_report(best_clf, Xtest, ytest)\n",
    "save_model(best_clf, get_model_file(DATA_DIR, \"vgg16\", \"rf\"))"
   ]
  },
  {
   "cell_type": "code",
   "execution_count": null,
   "metadata": {},
   "outputs": [],
   "source": [
    "# VGG-19\n",
    "# In [11]:\n",
    "VECTOR_FILE = os.path.join(DATA_DIR, \"vgg19-vectors.tsv\")\n",
    "Xtrain, Xtest, ytrain, ytest = preprocess_data(VECTOR_FILE)\n",
    "print(Xtrain.shape, Xtest.shape, ytrain.shape, ytest.shape)\n",
    "\n",
    "# In [12]:\n",
    "clf = GaussianNB()\n",
    "best_clf, best_score = cross_validate(Xtrain, ytrain, clf)\n",
    "scores[1, 0] = best_score\n",
    "test_report(best_clf, Xtest, ytest)\n",
    "save_model(best_clf, get_model_file(DATA_DIR, \"vgg19\", \"nb\"))\n",
    "\n",
    "# SVM\n",
    "# In [13]:\n",
    "clf = LinearSVC()\n",
    "best_clf, best_score = cross_validate(Xtrain, ytrain, clf)\n",
    "scores[1, 1] = best_score\n",
    "test_report(best_clf, Xtest, ytest)\n",
    "save_model(best_clf, get_model_file(DATA_DIR, \"vgg19\", \"svm\"))\n",
    "\n",
    "# XGBoost\n",
    "# In [14]:\n",
    "clf = XGBClassifier()\n",
    "best_clf, best_score = cross_validate(Xtrain, ytrain, clf)\n",
    "scores[1, 2] = best_score\n",
    "test_report(best_clf, Xtest, ytest)\n",
    "save_model(best_clf, get_model_file(DATA_DIR, \"vgg19\", \"xgb\"))\n",
    "\n",
    "# Random Forest\n",
    "# In [15]:\n",
    "clf = RandomForestClassifier()\n",
    "best_clf, best_score = cross_validate(Xtrain, ytrain, clf)\n",
    "scores[1, 3] = best_score\n",
    "test_report(best_clf, Xtest, ytest)\n",
    "save_model(best_clf, get_model_file(DATA_DIR, \"vgg19\", \"rf\"))"
   ]
  },
  {
   "cell_type": "code",
   "execution_count": 12,
   "metadata": {},
   "outputs": [
    {
     "name": "stderr",
     "output_type": "stream",
     "text": [
      "/home/ubuntu/anaconda3/lib/python3.6/site-packages/sklearn/model_selection/_split.py:2026: FutureWarning: From version 0.21, test_size will always complement train_size unless both are specified.\n",
      "  FutureWarning)\n"
     ]
    },
    {
     "name": "stdout",
     "output_type": "stream",
     "text": [
      "(2900, 2048) (1244, 2048) (2900,) (1244,)\n",
      "fold 0, score: 0.876\n",
      "fold 1, score: 0.869\n",
      "fold 2, score: 0.869\n",
      "fold 3, score: 0.855\n",
      "fold 4, score: 0.869\n",
      "fold 5, score: 0.845\n",
      "fold 6, score: 0.848\n",
      "fold 7, score: 0.852\n",
      "fold 8, score: 0.838\n",
      "fold 9, score: 0.876\n",
      "\n",
      "Accuracy Score: 0.848\n",
      "\n",
      "Confusion Matrix\n",
      "[[556 147]\n",
      " [ 42 499]]\n",
      "\n",
      "Classification Report\n",
      "             precision    recall  f1-score   support\n",
      "\n",
      "          0       0.93      0.79      0.85       703\n",
      "          1       0.77      0.92      0.84       541\n",
      "\n",
      "avg / total       0.86      0.85      0.85      1244\n",
      "\n",
      "fold 0, score: 0.897\n",
      "fold 1, score: 0.893\n",
      "fold 2, score: 0.869\n",
      "fold 3, score: 0.879\n",
      "fold 4, score: 0.924\n",
      "fold 5, score: 0.928\n",
      "fold 6, score: 0.855\n",
      "fold 7, score: 0.903\n",
      "fold 8, score: 0.890\n",
      "fold 9, score: 0.890\n",
      "\n",
      "Accuracy Score: 0.888\n",
      "\n",
      "Confusion Matrix\n",
      "[[515  56]\n",
      " [ 83 590]]\n",
      "\n",
      "Classification Report\n",
      "             precision    recall  f1-score   support\n",
      "\n",
      "          0       0.86      0.90      0.88       571\n",
      "          1       0.91      0.88      0.89       673\n",
      "\n",
      "avg / total       0.89      0.89      0.89      1244\n",
      "\n"
     ]
    },
    {
     "name": "stderr",
     "output_type": "stream",
     "text": [
      "/home/ubuntu/anaconda3/lib/python3.6/site-packages/sklearn/preprocessing/label.py:151: DeprecationWarning: The truth value of an empty array is ambiguous. Returning False, but in future this will result in an error. Use `array.size > 0` to check that an array is not empty.\n",
      "  if diff:\n"
     ]
    },
    {
     "name": "stdout",
     "output_type": "stream",
     "text": [
      "fold 0, score: 0.921\n"
     ]
    },
    {
     "name": "stderr",
     "output_type": "stream",
     "text": [
      "/home/ubuntu/anaconda3/lib/python3.6/site-packages/sklearn/preprocessing/label.py:151: DeprecationWarning: The truth value of an empty array is ambiguous. Returning False, but in future this will result in an error. Use `array.size > 0` to check that an array is not empty.\n",
      "  if diff:\n"
     ]
    },
    {
     "name": "stdout",
     "output_type": "stream",
     "text": [
      "fold 1, score: 0.934\n"
     ]
    },
    {
     "name": "stderr",
     "output_type": "stream",
     "text": [
      "/home/ubuntu/anaconda3/lib/python3.6/site-packages/sklearn/preprocessing/label.py:151: DeprecationWarning: The truth value of an empty array is ambiguous. Returning False, but in future this will result in an error. Use `array.size > 0` to check that an array is not empty.\n",
      "  if diff:\n"
     ]
    },
    {
     "name": "stdout",
     "output_type": "stream",
     "text": [
      "fold 2, score: 0.910\n"
     ]
    },
    {
     "name": "stderr",
     "output_type": "stream",
     "text": [
      "/home/ubuntu/anaconda3/lib/python3.6/site-packages/sklearn/preprocessing/label.py:151: DeprecationWarning: The truth value of an empty array is ambiguous. Returning False, but in future this will result in an error. Use `array.size > 0` to check that an array is not empty.\n",
      "  if diff:\n"
     ]
    },
    {
     "name": "stdout",
     "output_type": "stream",
     "text": [
      "fold 3, score: 0.914\n"
     ]
    },
    {
     "name": "stderr",
     "output_type": "stream",
     "text": [
      "/home/ubuntu/anaconda3/lib/python3.6/site-packages/sklearn/preprocessing/label.py:151: DeprecationWarning: The truth value of an empty array is ambiguous. Returning False, but in future this will result in an error. Use `array.size > 0` to check that an array is not empty.\n",
      "  if diff:\n"
     ]
    },
    {
     "name": "stdout",
     "output_type": "stream",
     "text": [
      "fold 4, score: 0.924\n"
     ]
    },
    {
     "name": "stderr",
     "output_type": "stream",
     "text": [
      "/home/ubuntu/anaconda3/lib/python3.6/site-packages/sklearn/preprocessing/label.py:151: DeprecationWarning: The truth value of an empty array is ambiguous. Returning False, but in future this will result in an error. Use `array.size > 0` to check that an array is not empty.\n",
      "  if diff:\n"
     ]
    },
    {
     "name": "stdout",
     "output_type": "stream",
     "text": [
      "fold 5, score: 0.914\n"
     ]
    },
    {
     "name": "stderr",
     "output_type": "stream",
     "text": [
      "/home/ubuntu/anaconda3/lib/python3.6/site-packages/sklearn/preprocessing/label.py:151: DeprecationWarning: The truth value of an empty array is ambiguous. Returning False, but in future this will result in an error. Use `array.size > 0` to check that an array is not empty.\n",
      "  if diff:\n"
     ]
    },
    {
     "name": "stdout",
     "output_type": "stream",
     "text": [
      "fold 6, score: 0.914\n"
     ]
    },
    {
     "name": "stderr",
     "output_type": "stream",
     "text": [
      "/home/ubuntu/anaconda3/lib/python3.6/site-packages/sklearn/preprocessing/label.py:151: DeprecationWarning: The truth value of an empty array is ambiguous. Returning False, but in future this will result in an error. Use `array.size > 0` to check that an array is not empty.\n",
      "  if diff:\n"
     ]
    },
    {
     "name": "stdout",
     "output_type": "stream",
     "text": [
      "fold 7, score: 0.907\n"
     ]
    },
    {
     "name": "stderr",
     "output_type": "stream",
     "text": [
      "/home/ubuntu/anaconda3/lib/python3.6/site-packages/sklearn/preprocessing/label.py:151: DeprecationWarning: The truth value of an empty array is ambiguous. Returning False, but in future this will result in an error. Use `array.size > 0` to check that an array is not empty.\n",
      "  if diff:\n"
     ]
    },
    {
     "name": "stdout",
     "output_type": "stream",
     "text": [
      "fold 8, score: 0.921\n"
     ]
    },
    {
     "name": "stderr",
     "output_type": "stream",
     "text": [
      "/home/ubuntu/anaconda3/lib/python3.6/site-packages/sklearn/preprocessing/label.py:151: DeprecationWarning: The truth value of an empty array is ambiguous. Returning False, but in future this will result in an error. Use `array.size > 0` to check that an array is not empty.\n",
      "  if diff:\n",
      "/home/ubuntu/anaconda3/lib/python3.6/site-packages/sklearn/preprocessing/label.py:151: DeprecationWarning: The truth value of an empty array is ambiguous. Returning False, but in future this will result in an error. Use `array.size > 0` to check that an array is not empty.\n",
      "  if diff:\n"
     ]
    },
    {
     "name": "stdout",
     "output_type": "stream",
     "text": [
      "fold 9, score: 0.931\n",
      "\n",
      "Accuracy Score: 0.905\n",
      "\n",
      "Confusion Matrix\n",
      "[[561  81]\n",
      " [ 37 565]]\n",
      "\n",
      "Classification Report\n",
      "             precision    recall  f1-score   support\n",
      "\n",
      "          0       0.94      0.87      0.90       642\n",
      "          1       0.87      0.94      0.91       602\n",
      "\n",
      "avg / total       0.91      0.91      0.91      1244\n",
      "\n",
      "fold 0, score: 0.817\n",
      "fold 1, score: 0.810\n",
      "fold 2, score: 0.841\n",
      "fold 3, score: 0.862\n",
      "fold 4, score: 0.803\n",
      "fold 5, score: 0.807\n",
      "fold 6, score: 0.810\n",
      "fold 7, score: 0.845\n",
      "fold 8, score: 0.852\n",
      "fold 9, score: 0.862\n",
      "\n",
      "Accuracy Score: 0.823\n",
      "\n",
      "Confusion Matrix\n",
      "[[562 184]\n",
      " [ 36 462]]\n",
      "\n",
      "Classification Report\n",
      "             precision    recall  f1-score   support\n",
      "\n",
      "          0       0.94      0.75      0.84       746\n",
      "          1       0.72      0.93      0.81       498\n",
      "\n",
      "avg / total       0.85      0.82      0.82      1244\n",
      "\n"
     ]
    }
   ],
   "source": [
    "# Inception V3\n",
    "# In [16]:\n",
    "VECTOR_FILE = os.path.join(DATA_DIR, \"inception-vectors.tsv\")\n",
    "Xtrain, Xtest, ytrain, ytest = preprocess_data(VECTOR_FILE)\n",
    "print(Xtrain.shape, Xtest.shape, ytrain.shape, ytest.shape)\n",
    "# (2900, 2048) (1244, 2048) (2900,) (1244,)\n",
    "# Naive Bayes\n",
    "# In [17]:\n",
    "clf = GaussianNB()\n",
    "best_clf, best_score = cross_validate(Xtrain, ytrain, clf)\n",
    "scores[2, 0] = best_score\n",
    "test_report(best_clf, Xtest, ytest)\n",
    "save_model(best_clf, get_model_file(DATA_DIR, \"inceptionv3\", \"nb\"))\n",
    "\n",
    "# SVM\n",
    "# In [18]:\n",
    "clf = LinearSVC()\n",
    "best_clf, best_score = cross_validate(Xtrain, ytrain, clf)\n",
    "scores[2, 1] = best_score\n",
    "test_report(best_clf, Xtest, ytest)\n",
    "save_model(best_clf, get_model_file(DATA_DIR, \"inceptionv3\", \"svm\"))\n",
    "\n",
    "# XGBoost\n",
    "# In [19]:\n",
    "clf = XGBClassifier()\n",
    "best_clf, best_score = cross_validate(Xtrain, ytrain, clf)\n",
    "scores[2, 2] = best_score\n",
    "test_report(best_clf, Xtest, ytest)\n",
    "save_model(best_clf, get_model_file(DATA_DIR, \"inceptionv3\", \"xgb\"))\n",
    "\n",
    "# Random Forest\n",
    "# In [20]:\n",
    "clf = RandomForestClassifier()\n",
    "best_clf, best_score = cross_validate(Xtrain, ytrain, clf)\n",
    "scores[2, 3] = best_score\n",
    "test_report(best_clf, Xtest, ytest)\n",
    "save_model(best_clf, get_model_file(DATA_DIR, \"inceptionv3\", \"rf\"))"
   ]
  },
  {
   "cell_type": "code",
   "execution_count": null,
   "metadata": {},
   "outputs": [],
   "source": [
    "# ResNet 50\n",
    "# In [21]:\n",
    "VECTOR_FILE = os.path.join(DATA_DIR, \"resnet-vectors.tsv\")\n",
    "Xtrain, Xtest, ytrain, ytest = preprocess_data(VECTOR_FILE)\n",
    "print(Xtrain.shape, Xtest.shape, ytrain.shape, ytest.shape)\n",
    "# (2900, 2048) (1244, 2048) (2900,) (1244,)\n",
    "# Naive Bayes\n",
    "# In [22]:\n",
    "clf = GaussianNB()\n",
    "best_clf, best_score = cross_validate(Xtrain, ytrain, clf)\n",
    "scores[3, 0] = best_score\n",
    "test_report(best_clf, Xtest, ytest)\n",
    "save_model(best_clf, get_model_file(DATA_DIR, \"resnet50\", \"nb\"))\n",
    "\n",
    "# SVM\n",
    "# In [23]:\n",
    "clf = LinearSVC()\n",
    "best_clf, best_score = cross_validate(Xtrain, ytrain, clf)\n",
    "scores[3, 1] = best_score\n",
    "test_report(best_clf, Xtest, ytest)\n",
    "save_model(best_clf, get_model_file(DATA_DIR, \"resnet50\", \"svm\"))\n",
    "\n",
    "# XGBoost\n",
    "# In [24]:\n",
    "clf = XGBClassifier()\n",
    "best_clf, best_score = cross_validate(Xtrain, ytrain, clf)\n",
    "scores[3, 2] = best_score\n",
    "test_report(best_clf, Xtest, ytest)\n",
    "save_model(best_clf, get_model_file(DATA_DIR, \"resnet50\", \"xgb\"))\n",
    "\n",
    "# Random Forest\n",
    "# In [25]:\n",
    "clf = RandomForestClassifier()\n",
    "best_clf, best_score = cross_validate(Xtrain, ytrain, clf)\n",
    "scores[3, 3] = best_score\n",
    "test_report(best_clf, Xtest, ytest)\n",
    "save_model(best_clf, get_model_file(DATA_DIR, \"resnet50\", \"rf\"))"
   ]
  },
  {
   "cell_type": "code",
   "execution_count": null,
   "metadata": {},
   "outputs": [],
   "source": [
    "# Xception\n",
    "# In [26]:\n",
    "VECTOR_FILE = os.path.join(DATA_DIR, \"xception-vectors.tsv\")\n",
    "Xtrain, Xtest, ytrain, ytest = preprocess_data(VECTOR_FILE)\n",
    "print(Xtrain.shape, Xtest.shape, ytrain.shape, ytest.shape)\n",
    "# (2900, 2048) (1244, 2048) (2900,) (1244,)\n",
    "# Naive Bayes\n",
    "# In [27]:\n",
    "clf = GaussianNB()\n",
    "best_clf, best_score = cross_validate(Xtrain, ytrain, clf)\n",
    "scores[4, 0] = best_score\n",
    "test_report(best_clf, Xtest, ytest)\n",
    "save_model(best_clf, get_model_file(DATA_DIR, \"xception\", \"nb\"))\n",
    "\n",
    "# SVM\n",
    "# In [28]:\n",
    "clf = LinearSVC()\n",
    "best_clf, best_score = cross_validate(Xtrain, ytrain, clf)\n",
    "scores[4, 1] = best_score\n",
    "test_report(best_clf, Xtest, ytest)\n",
    "save_model(best_clf, get_model_file(DATA_DIR, \"xception\", \"svm\"))\n",
    "\n",
    "# XGBoost\n",
    "# In [29]:\n",
    "clf = XGBClassifier()\n",
    "best_clf, best_score = cross_validate(Xtrain, ytrain, clf)\n",
    "scores[4, 2] = best_score\n",
    "test_report(best_clf, Xtest, ytest)\n",
    "save_model(best_clf, get_model_file(DATA_DIR, \"xception\", \"xgb\"))\n",
    "\n",
    "# Random Forest\n",
    "# In [30]:\n",
    "clf = RandomForestClassifier()\n",
    "best_clf, best_score = cross_validate(Xtrain, ytrain, clf)\n",
    "scores[4, 3] = best_score\n",
    "test_report(best_clf, Xtest, ytest)\n",
    "save_model(best_clf, get_model_file(DATA_DIR, \"xception\", \"rf\"))"
   ]
  },
  {
   "cell_type": "code",
   "execution_count": null,
   "metadata": {},
   "outputs": [],
   "source": [
    "# In [31]:\n",
    "scores\n",
    "\n",
    "# In [33]:\n",
    "width=0.15\n",
    "plt.bar(np.arange(NUM_CLASSIFIERS), scores[0], width, color=\"r\", label=\"VGG-16\")\n",
    "plt.bar(np.arange(NUM_CLASSIFIERS)+width, scores[1], width, color=\"b\", label=\"VGG-19\")\n",
    "plt.bar(np.arange(NUM_CLASSIFIERS)+2*width, scores[2], width, color=\"g\", label=\"Inception-V3\")\n",
    "plt.bar(np.arange(NUM_CLASSIFIERS)+3*width, scores[3], width, color=\"y\", label=\"ResNet-50\")\n",
    "plt.bar(np.arange(NUM_CLASSIFIERS)+4*width, scores[4], width, color=\"cyan\", label=\"XCeption\")\n",
    "plt.legend(loc=4)\n",
    "plt.ylabel(\"accuracy\")\n",
    "plt.xticks(np.arange(NUM_CLASSIFIERS)+2*width, [\"NaiveBayes\", \"SvM\", \"XGBoost\", \"RandomForest\"],\n",
    "          rotation=30)\n",
    "plt.title(\"absolute difference of vectors\")"
   ]
  },
  {
   "cell_type": "code",
   "execution_count": null,
   "metadata": {},
   "outputs": [],
   "source": []
  }
 ],
 "metadata": {
  "kernelspec": {
   "display_name": "Python 3",
   "language": "python",
   "name": "python3"
  },
  "language_info": {
   "codemirror_mode": {
    "name": "ipython",
    "version": 3
   },
   "file_extension": ".py",
   "mimetype": "text/x-python",
   "name": "python",
   "nbconvert_exporter": "python",
   "pygments_lexer": "ipython3",
   "version": "3.6.4"
  }
 },
 "nbformat": 4,
 "nbformat_minor": 2
}
