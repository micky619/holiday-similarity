{
 "cells": [
  {
   "cell_type": "markdown",
   "metadata": {},
   "source": [
    "# Pretrained Vectors - Dot Product\n",
    "\n",
    "We train traditional (non neural network) classifiers from Scikit-Learn by looking up the vectors for each given image pair. These image vectors were [generated using pre-trained networks from Keras Model Zoo](http://localhost:8888/notebooks/pretrained-nets-vectorizers.ipynb). In this notebook, we merge the vectors for the image pair by calculating their element-wise dot product normalized by the L2 norms of the two vectors."
   ]
  },
  {
   "cell_type": "code",
   "execution_count": 1,
   "metadata": {
    "collapsed": false
   },
   "outputs": [],
   "source": [
    "from __future__ import division, print_function\n",
    "from sklearn.ensemble import RandomForestClassifier\n",
    "from sklearn.externals import joblib\n",
    "from sklearn.model_selection import train_test_split, KFold\n",
    "from sklearn.naive_bayes import GaussianNB\n",
    "from sklearn.metrics import accuracy_score, confusion_matrix, classification_report\n",
    "from sklearn.svm import LinearSVC\n",
    "from xgboost import XGBClassifier\n",
    "import itertools\n",
    "import matplotlib.pyplot as plt\n",
    "import numpy as np\n",
    "import os\n",
    "%matplotlib inline"
   ]
  },
  {
   "cell_type": "code",
   "execution_count": 2,
   "metadata": {
    "collapsed": true
   },
   "outputs": [],
   "source": [
    "DATA_DIR = \"../data\"\n",
    "IMAGE_DIR = os.path.join(DATA_DIR, \"holiday-photos\")"
   ]
  },
  {
   "cell_type": "code",
   "execution_count": 3,
   "metadata": {
    "collapsed": true
   },
   "outputs": [],
   "source": [
    "def get_holiday_triples(image_dir):\n",
    "    image_groups = {}\n",
    "    for image_name in os.listdir(image_dir):\n",
    "        base_name = image_name[0:-4]\n",
    "        group_name = base_name[0:4]\n",
    "        if image_groups.has_key(group_name):\n",
    "            image_groups[group_name].append(image_name)\n",
    "        else:\n",
    "            image_groups[group_name] = [image_name]\n",
    "    num_sims = 0\n",
    "    image_triples = []\n",
    "    group_list = sorted(list(image_groups.keys()))\n",
    "    for i, g in enumerate(group_list):\n",
    "        if num_sims % 100 == 0:\n",
    "            print(\"Generated {:d} pos + {:d} neg = {:d} total image triples\"\n",
    "                  .format(num_sims, num_sims, 2*num_sims))\n",
    "        images_in_group = image_groups[g]\n",
    "        sim_pairs_it = itertools.combinations(images_in_group, 2)\n",
    "        # for each similar pair, generate a corresponding different pair\n",
    "        for ref_image, sim_image in sim_pairs_it:\n",
    "            image_triples.append((ref_image, sim_image, 1))\n",
    "            num_sims += 1\n",
    "            while True:\n",
    "                j = np.random.randint(low=0, high=len(group_list), size=1)[0]\n",
    "                if j != i:\n",
    "                    break\n",
    "            dif_image_candidates = image_groups[group_list[j]]\n",
    "            k = np.random.randint(low=0, high=len(dif_image_candidates), size=1)[0]\n",
    "            dif_image = dif_image_candidates[k]\n",
    "            image_triples.append((ref_image, dif_image, 0))\n",
    "    print(\"Generated {:d} pos + {:d} neg = {:d} total image triples\"\n",
    "          .format(num_sims, num_sims, 2*num_sims))\n",
    "    return image_triples\n",
    "\n",
    "def load_vectors(vector_file):\n",
    "    vec_dict = {}\n",
    "    fvec = open(vector_file, \"rb\")\n",
    "    for line in fvec:\n",
    "        image_name, image_vec = line.strip().split(\"\\t\")\n",
    "        vec = np.array([float(v) for v in image_vec.split(\",\")])\n",
    "        vec_dict[image_name] = vec\n",
    "    fvec.close()\n",
    "    return vec_dict\n",
    "\n",
    "def preprocess_data(vector_file, train_size=0.7):\n",
    "    xdata, ydata = [], []\n",
    "    vec_dict = load_vectors(vector_file)\n",
    "    for image_triple in image_triples:\n",
    "        X1 = vec_dict[image_triple[0]]\n",
    "        X2 = vec_dict[image_triple[1]]\n",
    "        xdata.append(np.multiply(X1, X2) / (np.linalg.norm(X1, 2) * np.linalg.norm(X2, 2)))\n",
    "        ydata.append(image_triple[2])\n",
    "    X, y = np.array(xdata), np.array(ydata)\n",
    "    Xtrain, Xtest, ytrain, ytest = train_test_split(X, y, train_size=train_size)\n",
    "    return Xtrain, Xtest, ytrain, ytest\n",
    "\n",
    "def cross_validate(X, y, clf, k=10):\n",
    "    best_score, best_clf = 0.0, None\n",
    "    kfold = KFold(k)\n",
    "    for kid, (train, test) in enumerate(kfold.split(X, y)):\n",
    "        Xtrain, Xtest, ytrain, ytest = X[train], X[test], y[train], y[test]\n",
    "        clf.fit(Xtrain, ytrain)\n",
    "        ytest_ = clf.predict(Xtest)\n",
    "        score = accuracy_score(ytest_, ytest)\n",
    "        print(\"fold {:d}, score: {:.3f}\".format(kid, score))\n",
    "        if score > best_score:\n",
    "            best_score = score\n",
    "            best_clf = clf\n",
    "    return best_clf, best_score\n",
    "\n",
    "def test_report(clf, Xtest, ytest):\n",
    "    ytest_ = clf.predict(Xtest)\n",
    "    print(\"\\nAccuracy Score: {:.3f}\".format(accuracy_score(ytest_, ytest)))\n",
    "    print(\"\\nConfusion Matrix\")\n",
    "    print(confusion_matrix(ytest_, ytest))\n",
    "    print(\"\\nClassification Report\")\n",
    "    print(classification_report(ytest_, ytest))\n",
    "    \n",
    "def get_model_file(data_dir, vec_name, clf_name):\n",
    "    return os.path.join(data_dir, \"models\", \"{:s}-{:s}-dot.pkl\"\n",
    "                        .format(vec_name, clf_name))\n",
    "\n",
    "def save_model(model, model_file):\n",
    "    joblib.dump(model, model_file)"
   ]
  },
  {
   "cell_type": "code",
   "execution_count": 4,
   "metadata": {
    "collapsed": false
   },
   "outputs": [
    {
     "name": "stdout",
     "output_type": "stream",
     "text": [
      "Generated 0 pos + 0 neg = 0 total image triples\n",
      "Generated 300 pos + 300 neg = 600 total image triples\n",
      "Generated 1100 pos + 1100 neg = 2200 total image triples\n",
      "Generated 1800 pos + 1800 neg = 3600 total image triples\n",
      "Generated 2072 pos + 2072 neg = 4144 total image triples\n"
     ]
    }
   ],
   "source": [
    "image_triples = get_holiday_triples(IMAGE_DIR)"
   ]
  },
  {
   "cell_type": "code",
   "execution_count": 5,
   "metadata": {
    "collapsed": true
   },
   "outputs": [],
   "source": [
    "NUM_VECTORIZERS = 5\n",
    "NUM_CLASSIFIERS = 4\n",
    "scores = np.zeros((NUM_VECTORIZERS, NUM_CLASSIFIERS))"
   ]
  },
  {
   "cell_type": "markdown",
   "metadata": {},
   "source": [
    "# VGG-16 Vectors"
   ]
  },
  {
   "cell_type": "code",
   "execution_count": 6,
   "metadata": {
    "collapsed": false
   },
   "outputs": [
    {
     "name": "stdout",
     "output_type": "stream",
     "text": [
      "(2900, 4096) (1244, 4096) (2900,) (1244,)\n"
     ]
    }
   ],
   "source": [
    "VECTOR_FILE = os.path.join(DATA_DIR, \"vgg16-vectors.tsv\")\n",
    "Xtrain, Xtest, ytrain, ytest = preprocess_data(VECTOR_FILE)\n",
    "print(Xtrain.shape, Xtest.shape, ytrain.shape, ytest.shape)"
   ]
  },
  {
   "cell_type": "markdown",
   "metadata": {},
   "source": [
    "## Naive Bayes"
   ]
  },
  {
   "cell_type": "code",
   "execution_count": 7,
   "metadata": {
    "collapsed": false
   },
   "outputs": [
    {
     "name": "stdout",
     "output_type": "stream",
     "text": [
      "fold 0, score: 0.890\n",
      "fold 1, score: 0.859\n",
      "fold 2, score: 0.859\n",
      "fold 3, score: 0.852\n",
      "fold 4, score: 0.876\n",
      "fold 5, score: 0.834\n",
      "fold 6, score: 0.828\n",
      "fold 7, score: 0.848\n",
      "fold 8, score: 0.848\n",
      "fold 9, score: 0.859\n",
      "\n",
      "Accuracy Score: 0.847\n",
      "\n",
      "Confusion Matrix\n",
      "[[542 117]\n",
      " [ 73 512]]\n",
      "\n",
      "Classification Report\n",
      "             precision    recall  f1-score   support\n",
      "\n",
      "          0       0.88      0.82      0.85       659\n",
      "          1       0.81      0.88      0.84       585\n",
      "\n",
      "avg / total       0.85      0.85      0.85      1244\n",
      "\n"
     ]
    }
   ],
   "source": [
    "clf = GaussianNB()\n",
    "best_clf, best_score = cross_validate(Xtrain, ytrain, clf)\n",
    "scores[0, 0] = best_score\n",
    "test_report(best_clf, Xtest, ytest)\n",
    "save_model(best_clf, get_model_file(DATA_DIR, \"vgg16\", \"nb\"))"
   ]
  },
  {
   "cell_type": "markdown",
   "metadata": {},
   "source": [
    "## SVM"
   ]
  },
  {
   "cell_type": "code",
   "execution_count": 8,
   "metadata": {
    "collapsed": false
   },
   "outputs": [
    {
     "name": "stdout",
     "output_type": "stream",
     "text": [
      "fold 0, score: 0.852\n",
      "fold 1, score: 0.817\n",
      "fold 2, score: 0.797\n",
      "fold 3, score: 0.797\n",
      "fold 4, score: 0.772\n",
      "fold 5, score: 0.807\n",
      "fold 6, score: 0.814\n",
      "fold 7, score: 0.831\n",
      "fold 8, score: 0.786\n",
      "fold 9, score: 0.728\n",
      "\n",
      "Accuracy Score: 0.805\n",
      "\n",
      "Confusion Matrix\n",
      "[[544 172]\n",
      " [ 71 457]]\n",
      "\n",
      "Classification Report\n",
      "             precision    recall  f1-score   support\n",
      "\n",
      "          0       0.88      0.76      0.82       716\n",
      "          1       0.73      0.87      0.79       528\n",
      "\n",
      "avg / total       0.82      0.80      0.81      1244\n",
      "\n"
     ]
    }
   ],
   "source": [
    "clf = LinearSVC()\n",
    "best_clf, best_score = cross_validate(Xtrain, ytrain, clf)\n",
    "scores[0, 1] = best_score\n",
    "test_report(best_clf, Xtest, ytest)\n",
    "save_model(best_clf, get_model_file(DATA_DIR, \"vgg16\", \"svm\"))"
   ]
  },
  {
   "cell_type": "markdown",
   "metadata": {},
   "source": [
    "## XGBoost"
   ]
  },
  {
   "cell_type": "code",
   "execution_count": 9,
   "metadata": {
    "collapsed": false
   },
   "outputs": [
    {
     "name": "stdout",
     "output_type": "stream",
     "text": [
      "fold 0, score: 0.934\n",
      "fold 1, score: 0.893\n",
      "fold 2, score: 0.948\n",
      "fold 3, score: 0.931\n",
      "fold 4, score: 0.903\n",
      "fold 5, score: 0.897\n",
      "fold 6, score: 0.903\n",
      "fold 7, score: 0.934\n",
      "fold 8, score: 0.886\n",
      "fold 9, score: 0.931\n",
      "\n",
      "Accuracy Score: 0.917\n",
      "\n",
      "Confusion Matrix\n",
      "[[572  60]\n",
      " [ 43 569]]\n",
      "\n",
      "Classification Report\n",
      "             precision    recall  f1-score   support\n",
      "\n",
      "          0       0.93      0.91      0.92       632\n",
      "          1       0.90      0.93      0.92       612\n",
      "\n",
      "avg / total       0.92      0.92      0.92      1244\n",
      "\n"
     ]
    }
   ],
   "source": [
    "clf = XGBClassifier()\n",
    "best_clf, best_score = cross_validate(Xtrain, ytrain, clf)\n",
    "scores[0, 2] = best_score\n",
    "test_report(best_clf, Xtest, ytest)\n",
    "save_model(best_clf, get_model_file(DATA_DIR, \"vgg16\", \"xgb\"))"
   ]
  },
  {
   "cell_type": "markdown",
   "metadata": {},
   "source": [
    "## Random Forest"
   ]
  },
  {
   "cell_type": "code",
   "execution_count": 10,
   "metadata": {
    "collapsed": false
   },
   "outputs": [
    {
     "name": "stdout",
     "output_type": "stream",
     "text": [
      "fold 0, score: 0.893\n",
      "fold 1, score: 0.862\n",
      "fold 2, score: 0.886\n",
      "fold 3, score: 0.872\n",
      "fold 4, score: 0.879\n",
      "fold 5, score: 0.866\n",
      "fold 6, score: 0.879\n",
      "fold 7, score: 0.876\n",
      "fold 8, score: 0.817\n",
      "fold 9, score: 0.845\n",
      "\n",
      "Accuracy Score: 0.861\n",
      "\n",
      "Confusion Matrix\n",
      "[[568 126]\n",
      " [ 47 503]]\n",
      "\n",
      "Classification Report\n",
      "             precision    recall  f1-score   support\n",
      "\n",
      "          0       0.92      0.82      0.87       694\n",
      "          1       0.80      0.91      0.85       550\n",
      "\n",
      "avg / total       0.87      0.86      0.86      1244\n",
      "\n"
     ]
    }
   ],
   "source": [
    "clf = RandomForestClassifier()\n",
    "best_clf, best_score = cross_validate(Xtrain, ytrain, clf)\n",
    "scores[0, 3] = best_score\n",
    "test_report(best_clf, Xtest, ytest)\n",
    "save_model(best_clf, get_model_file(DATA_DIR, \"vgg16\", \"rf\"))"
   ]
  },
  {
   "cell_type": "markdown",
   "metadata": {
    "collapsed": true
   },
   "source": [
    "# VGG-19"
   ]
  },
  {
   "cell_type": "code",
   "execution_count": 11,
   "metadata": {
    "collapsed": false
   },
   "outputs": [
    {
     "name": "stdout",
     "output_type": "stream",
     "text": [
      "(2900, 4096) (1244, 4096) (2900,) (1244,)\n"
     ]
    }
   ],
   "source": [
    "VECTOR_FILE = os.path.join(DATA_DIR, \"vgg19-vectors.tsv\")\n",
    "Xtrain, Xtest, ytrain, ytest = preprocess_data(VECTOR_FILE)\n",
    "print(Xtrain.shape, Xtest.shape, ytrain.shape, ytest.shape)"
   ]
  },
  {
   "cell_type": "markdown",
   "metadata": {},
   "source": [
    "## Naive Bayes"
   ]
  },
  {
   "cell_type": "code",
   "execution_count": 12,
   "metadata": {
    "collapsed": false
   },
   "outputs": [
    {
     "name": "stdout",
     "output_type": "stream",
     "text": [
      "fold 0, score: 0.838\n",
      "fold 1, score: 0.862\n",
      "fold 2, score: 0.855\n",
      "fold 3, score: 0.859\n",
      "fold 4, score: 0.866\n",
      "fold 5, score: 0.876\n",
      "fold 6, score: 0.824\n",
      "fold 7, score: 0.848\n",
      "fold 8, score: 0.869\n",
      "fold 9, score: 0.866\n",
      "\n",
      "Accuracy Score: 0.841\n",
      "\n",
      "Confusion Matrix\n",
      "[[527 128]\n",
      " [ 70 519]]\n",
      "\n",
      "Classification Report\n",
      "             precision    recall  f1-score   support\n",
      "\n",
      "          0       0.88      0.80      0.84       655\n",
      "          1       0.80      0.88      0.84       589\n",
      "\n",
      "avg / total       0.84      0.84      0.84      1244\n",
      "\n"
     ]
    }
   ],
   "source": [
    "clf = GaussianNB()\n",
    "best_clf, best_score = cross_validate(Xtrain, ytrain, clf)\n",
    "scores[1, 0] = best_score\n",
    "test_report(best_clf, Xtest, ytest)\n",
    "save_model(best_clf, get_model_file(DATA_DIR, \"vgg19\", \"nb\"))"
   ]
  },
  {
   "cell_type": "markdown",
   "metadata": {},
   "source": [
    "## SVM"
   ]
  },
  {
   "cell_type": "code",
   "execution_count": 13,
   "metadata": {
    "collapsed": false
   },
   "outputs": [
    {
     "name": "stdout",
     "output_type": "stream",
     "text": [
      "fold 0, score: 0.741\n",
      "fold 1, score: 0.831\n",
      "fold 2, score: 0.786\n",
      "fold 3, score: 0.783\n",
      "fold 4, score: 0.766\n",
      "fold 5, score: 0.755\n",
      "fold 6, score: 0.810\n",
      "fold 7, score: 0.766\n",
      "fold 8, score: 0.834\n",
      "fold 9, score: 0.800\n",
      "\n",
      "Accuracy Score: 0.781\n",
      "\n",
      "Confusion Matrix\n",
      "[[545 220]\n",
      " [ 52 427]]\n",
      "\n",
      "Classification Report\n",
      "             precision    recall  f1-score   support\n",
      "\n",
      "          0       0.91      0.71      0.80       765\n",
      "          1       0.66      0.89      0.76       479\n",
      "\n",
      "avg / total       0.82      0.78      0.78      1244\n",
      "\n"
     ]
    }
   ],
   "source": [
    "clf = LinearSVC()\n",
    "best_clf, best_score = cross_validate(Xtrain, ytrain, clf)\n",
    "scores[1, 1] = best_score\n",
    "test_report(best_clf, Xtest, ytest)\n",
    "save_model(best_clf, get_model_file(DATA_DIR, \"vgg19\", \"svm\"))"
   ]
  },
  {
   "cell_type": "markdown",
   "metadata": {},
   "source": [
    "## XGBoost"
   ]
  },
  {
   "cell_type": "code",
   "execution_count": 14,
   "metadata": {
    "collapsed": false
   },
   "outputs": [
    {
     "name": "stdout",
     "output_type": "stream",
     "text": [
      "fold 0, score: 0.903\n",
      "fold 1, score: 0.934\n",
      "fold 2, score: 0.910\n",
      "fold 3, score: 0.924\n",
      "fold 4, score: 0.931\n",
      "fold 5, score: 0.893\n",
      "fold 6, score: 0.893\n",
      "fold 7, score: 0.910\n",
      "fold 8, score: 0.941\n",
      "fold 9, score: 0.931\n",
      "\n",
      "Accuracy Score: 0.913\n",
      "\n",
      "Confusion Matrix\n",
      "[[563  74]\n",
      " [ 34 573]]\n",
      "\n",
      "Classification Report\n",
      "             precision    recall  f1-score   support\n",
      "\n",
      "          0       0.94      0.88      0.91       637\n",
      "          1       0.89      0.94      0.91       607\n",
      "\n",
      "avg / total       0.92      0.91      0.91      1244\n",
      "\n"
     ]
    }
   ],
   "source": [
    "clf = XGBClassifier()\n",
    "best_clf, best_score = cross_validate(Xtrain, ytrain, clf)\n",
    "scores[1, 2] = best_score\n",
    "test_report(best_clf, Xtest, ytest)\n",
    "save_model(best_clf, get_model_file(DATA_DIR, \"vgg19\", \"xgb\"))"
   ]
  },
  {
   "cell_type": "markdown",
   "metadata": {},
   "source": [
    "## Random Forest"
   ]
  },
  {
   "cell_type": "code",
   "execution_count": 15,
   "metadata": {
    "collapsed": false
   },
   "outputs": [
    {
     "name": "stdout",
     "output_type": "stream",
     "text": [
      "fold 0, score: 0.841\n",
      "fold 1, score: 0.907\n",
      "fold 2, score: 0.890\n",
      "fold 3, score: 0.855\n",
      "fold 4, score: 0.879\n",
      "fold 5, score: 0.845\n",
      "fold 6, score: 0.848\n",
      "fold 7, score: 0.900\n",
      "fold 8, score: 0.897\n",
      "fold 9, score: 0.900\n",
      "\n",
      "Accuracy Score: 0.853\n",
      "\n",
      "Confusion Matrix\n",
      "[[552 138]\n",
      " [ 45 509]]\n",
      "\n",
      "Classification Report\n",
      "             precision    recall  f1-score   support\n",
      "\n",
      "          0       0.92      0.80      0.86       690\n",
      "          1       0.79      0.92      0.85       554\n",
      "\n",
      "avg / total       0.86      0.85      0.85      1244\n",
      "\n"
     ]
    }
   ],
   "source": [
    "clf = RandomForestClassifier()\n",
    "best_clf, best_score = cross_validate(Xtrain, ytrain, clf)\n",
    "scores[1, 3] = best_score\n",
    "test_report(best_clf, Xtest, ytest)\n",
    "save_model(best_clf, get_model_file(DATA_DIR, \"vgg19\", \"rf\"))"
   ]
  },
  {
   "cell_type": "markdown",
   "metadata": {},
   "source": [
    "# Inception V3"
   ]
  },
  {
   "cell_type": "code",
   "execution_count": 16,
   "metadata": {
    "collapsed": false
   },
   "outputs": [
    {
     "name": "stdout",
     "output_type": "stream",
     "text": [
      "(2900, 2048) (1244, 2048) (2900,) (1244,)\n"
     ]
    }
   ],
   "source": [
    "VECTOR_FILE = os.path.join(DATA_DIR, \"inception-vectors.tsv\")\n",
    "Xtrain, Xtest, ytrain, ytest = preprocess_data(VECTOR_FILE)\n",
    "print(Xtrain.shape, Xtest.shape, ytrain.shape, ytest.shape)"
   ]
  },
  {
   "cell_type": "markdown",
   "metadata": {},
   "source": [
    "## Naive Bayes"
   ]
  },
  {
   "cell_type": "code",
   "execution_count": 17,
   "metadata": {
    "collapsed": false
   },
   "outputs": [
    {
     "name": "stdout",
     "output_type": "stream",
     "text": [
      "fold 0, score: 0.917\n",
      "fold 1, score: 0.883\n",
      "fold 2, score: 0.831\n",
      "fold 3, score: 0.897\n",
      "fold 4, score: 0.900\n",
      "fold 5, score: 0.859\n",
      "fold 6, score: 0.900\n",
      "fold 7, score: 0.897\n",
      "fold 8, score: 0.893\n",
      "fold 9, score: 0.872\n",
      "\n",
      "Accuracy Score: 0.883\n",
      "\n",
      "Confusion Matrix\n",
      "[[612 121]\n",
      " [ 24 487]]\n",
      "\n",
      "Classification Report\n",
      "             precision    recall  f1-score   support\n",
      "\n",
      "          0       0.96      0.83      0.89       733\n",
      "          1       0.80      0.95      0.87       511\n",
      "\n",
      "avg / total       0.90      0.88      0.88      1244\n",
      "\n"
     ]
    }
   ],
   "source": [
    "clf = GaussianNB()\n",
    "best_clf, best_score = cross_validate(Xtrain, ytrain, clf)\n",
    "scores[2, 0] = best_score\n",
    "test_report(best_clf, Xtest, ytest)\n",
    "save_model(best_clf, get_model_file(DATA_DIR, \"inceptionv3\", \"nb\"))"
   ]
  },
  {
   "cell_type": "markdown",
   "metadata": {},
   "source": [
    "## SVM"
   ]
  },
  {
   "cell_type": "code",
   "execution_count": 18,
   "metadata": {
    "collapsed": false
   },
   "outputs": [
    {
     "name": "stdout",
     "output_type": "stream",
     "text": [
      "fold 0, score: 0.817\n",
      "fold 1, score: 0.859\n",
      "fold 2, score: 0.852\n",
      "fold 3, score: 0.876\n",
      "fold 4, score: 0.845\n",
      "fold 5, score: 0.841\n",
      "fold 6, score: 0.869\n",
      "fold 7, score: 0.797\n",
      "fold 8, score: 0.828\n",
      "fold 9, score: 0.866\n",
      "\n",
      "Accuracy Score: 0.839\n",
      "\n",
      "Confusion Matrix\n",
      "[[498  62]\n",
      " [138 546]]\n",
      "\n",
      "Classification Report\n",
      "             precision    recall  f1-score   support\n",
      "\n",
      "          0       0.78      0.89      0.83       560\n",
      "          1       0.90      0.80      0.85       684\n",
      "\n",
      "avg / total       0.85      0.84      0.84      1244\n",
      "\n"
     ]
    }
   ],
   "source": [
    "clf = LinearSVC()\n",
    "best_clf, best_score = cross_validate(Xtrain, ytrain, clf)\n",
    "scores[2, 1] = best_score\n",
    "test_report(best_clf, Xtest, ytest)\n",
    "save_model(best_clf, get_model_file(DATA_DIR, \"inceptionv3\", \"svm\"))"
   ]
  },
  {
   "cell_type": "markdown",
   "metadata": {},
   "source": [
    "## XGBoost"
   ]
  },
  {
   "cell_type": "code",
   "execution_count": 19,
   "metadata": {
    "collapsed": false
   },
   "outputs": [
    {
     "name": "stdout",
     "output_type": "stream",
     "text": [
      "fold 0, score: 0.959\n",
      "fold 1, score: 0.941\n",
      "fold 2, score: 0.938\n",
      "fold 3, score: 0.962\n",
      "fold 4, score: 0.928\n",
      "fold 5, score: 0.952\n",
      "fold 6, score: 0.966\n",
      "fold 7, score: 0.959\n",
      "fold 8, score: 0.952\n",
      "fold 9, score: 0.952\n",
      "\n",
      "Accuracy Score: 0.937\n",
      "\n",
      "Confusion Matrix\n",
      "[[593  35]\n",
      " [ 43 573]]\n",
      "\n",
      "Classification Report\n",
      "             precision    recall  f1-score   support\n",
      "\n",
      "          0       0.93      0.94      0.94       628\n",
      "          1       0.94      0.93      0.94       616\n",
      "\n",
      "avg / total       0.94      0.94      0.94      1244\n",
      "\n"
     ]
    }
   ],
   "source": [
    "clf = XGBClassifier()\n",
    "best_clf, best_score = cross_validate(Xtrain, ytrain, clf)\n",
    "scores[2, 2] = best_score\n",
    "test_report(best_clf, Xtest, ytest)\n",
    "save_model(best_clf, get_model_file(DATA_DIR, \"inceptionv3\", \"xgb\"))"
   ]
  },
  {
   "cell_type": "markdown",
   "metadata": {},
   "source": [
    "## Random Forest"
   ]
  },
  {
   "cell_type": "code",
   "execution_count": 20,
   "metadata": {
    "collapsed": false
   },
   "outputs": [
    {
     "name": "stdout",
     "output_type": "stream",
     "text": [
      "fold 0, score: 0.934\n",
      "fold 1, score: 0.893\n",
      "fold 2, score: 0.914\n",
      "fold 3, score: 0.907\n",
      "fold 4, score: 0.883\n",
      "fold 5, score: 0.890\n",
      "fold 6, score: 0.931\n",
      "fold 7, score: 0.917\n",
      "fold 8, score: 0.917\n",
      "fold 9, score: 0.900\n",
      "\n",
      "Accuracy Score: 0.891\n",
      "\n",
      "Confusion Matrix\n",
      "[[605 105]\n",
      " [ 31 503]]\n",
      "\n",
      "Classification Report\n",
      "             precision    recall  f1-score   support\n",
      "\n",
      "          0       0.95      0.85      0.90       710\n",
      "          1       0.83      0.94      0.88       534\n",
      "\n",
      "avg / total       0.90      0.89      0.89      1244\n",
      "\n"
     ]
    }
   ],
   "source": [
    "clf = RandomForestClassifier()\n",
    "best_clf, best_score = cross_validate(Xtrain, ytrain, clf)\n",
    "scores[2, 3] = best_score\n",
    "test_report(best_clf, Xtest, ytest)\n",
    "save_model(best_clf, get_model_file(DATA_DIR, \"inceptionv3\", \"rf\"))"
   ]
  },
  {
   "cell_type": "markdown",
   "metadata": {},
   "source": [
    "# ResNet 50"
   ]
  },
  {
   "cell_type": "code",
   "execution_count": 21,
   "metadata": {
    "collapsed": false
   },
   "outputs": [
    {
     "name": "stdout",
     "output_type": "stream",
     "text": [
      "(2900, 2048) (1244, 2048) (2900,) (1244,)\n"
     ]
    }
   ],
   "source": [
    "VECTOR_FILE = os.path.join(DATA_DIR, \"resnet-vectors.tsv\")\n",
    "Xtrain, Xtest, ytrain, ytest = preprocess_data(VECTOR_FILE)\n",
    "print(Xtrain.shape, Xtest.shape, ytrain.shape, ytest.shape)"
   ]
  },
  {
   "cell_type": "markdown",
   "metadata": {},
   "source": [
    "## Naive Bayes"
   ]
  },
  {
   "cell_type": "code",
   "execution_count": 22,
   "metadata": {
    "collapsed": false
   },
   "outputs": [
    {
     "name": "stdout",
     "output_type": "stream",
     "text": [
      "fold 0, score: 0.824\n",
      "fold 1, score: 0.831\n",
      "fold 2, score: 0.828\n",
      "fold 3, score: 0.845\n",
      "fold 4, score: 0.852\n",
      "fold 5, score: 0.848\n",
      "fold 6, score: 0.883\n",
      "fold 7, score: 0.859\n",
      "fold 8, score: 0.872\n",
      "fold 9, score: 0.845\n",
      "\n",
      "Accuracy Score: 0.863\n",
      "\n",
      "Confusion Matrix\n",
      "[[571 116]\n",
      " [ 54 503]]\n",
      "\n",
      "Classification Report\n",
      "             precision    recall  f1-score   support\n",
      "\n",
      "          0       0.91      0.83      0.87       687\n",
      "          1       0.81      0.90      0.86       557\n",
      "\n",
      "avg / total       0.87      0.86      0.86      1244\n",
      "\n"
     ]
    }
   ],
   "source": [
    "clf = GaussianNB()\n",
    "best_clf, best_score = cross_validate(Xtrain, ytrain, clf)\n",
    "scores[3, 0] = best_score\n",
    "test_report(best_clf, Xtest, ytest)\n",
    "save_model(best_clf, get_model_file(DATA_DIR, \"resnet50\", \"nb\"))"
   ]
  },
  {
   "cell_type": "markdown",
   "metadata": {},
   "source": [
    "## SVM"
   ]
  },
  {
   "cell_type": "code",
   "execution_count": 23,
   "metadata": {
    "collapsed": false
   },
   "outputs": [
    {
     "name": "stdout",
     "output_type": "stream",
     "text": [
      "fold 0, score: 0.869\n",
      "fold 1, score: 0.824\n",
      "fold 2, score: 0.834\n",
      "fold 3, score: 0.869\n",
      "fold 4, score: 0.838\n",
      "fold 5, score: 0.852\n",
      "fold 6, score: 0.838\n",
      "fold 7, score: 0.793\n",
      "fold 8, score: 0.831\n",
      "fold 9, score: 0.824\n",
      "\n",
      "Accuracy Score: 0.853\n",
      "\n",
      "Confusion Matrix\n",
      "[[587 145]\n",
      " [ 38 474]]\n",
      "\n",
      "Classification Report\n",
      "             precision    recall  f1-score   support\n",
      "\n",
      "          0       0.94      0.80      0.87       732\n",
      "          1       0.77      0.93      0.84       512\n",
      "\n",
      "avg / total       0.87      0.85      0.85      1244\n",
      "\n"
     ]
    }
   ],
   "source": [
    "clf = LinearSVC()\n",
    "best_clf, best_score = cross_validate(Xtrain, ytrain, clf)\n",
    "scores[3, 1] = best_score\n",
    "test_report(best_clf, Xtest, ytest)\n",
    "save_model(best_clf, get_model_file(DATA_DIR, \"resnet50\", \"svm\"))"
   ]
  },
  {
   "cell_type": "markdown",
   "metadata": {},
   "source": [
    "## XGBoost"
   ]
  },
  {
   "cell_type": "code",
   "execution_count": 24,
   "metadata": {
    "collapsed": false
   },
   "outputs": [
    {
     "name": "stdout",
     "output_type": "stream",
     "text": [
      "fold 0, score: 0.883\n",
      "fold 1, score: 0.907\n",
      "fold 2, score: 0.886\n",
      "fold 3, score: 0.910\n",
      "fold 4, score: 0.890\n",
      "fold 5, score: 0.852\n",
      "fold 6, score: 0.903\n",
      "fold 7, score: 0.869\n",
      "fold 8, score: 0.848\n",
      "fold 9, score: 0.862\n",
      "\n",
      "Accuracy Score: 0.879\n",
      "\n",
      "Confusion Matrix\n",
      "[[558  83]\n",
      " [ 67 536]]\n",
      "\n",
      "Classification Report\n",
      "             precision    recall  f1-score   support\n",
      "\n",
      "          0       0.89      0.87      0.88       641\n",
      "          1       0.87      0.89      0.88       603\n",
      "\n",
      "avg / total       0.88      0.88      0.88      1244\n",
      "\n"
     ]
    }
   ],
   "source": [
    "clf = XGBClassifier()\n",
    "best_clf, best_score = cross_validate(Xtrain, ytrain, clf)\n",
    "scores[3, 2] = best_score\n",
    "test_report(best_clf, Xtest, ytest)\n",
    "save_model(best_clf, get_model_file(DATA_DIR, \"resnet50\", \"xgb\"))"
   ]
  },
  {
   "cell_type": "markdown",
   "metadata": {},
   "source": [
    "## Random Forest"
   ]
  },
  {
   "cell_type": "code",
   "execution_count": 25,
   "metadata": {
    "collapsed": false
   },
   "outputs": [
    {
     "name": "stdout",
     "output_type": "stream",
     "text": [
      "fold 0, score: 0.838\n",
      "fold 1, score: 0.879\n",
      "fold 2, score: 0.824\n",
      "fold 3, score: 0.845\n",
      "fold 4, score: 0.876\n",
      "fold 5, score: 0.841\n",
      "fold 6, score: 0.876\n",
      "fold 7, score: 0.834\n",
      "fold 8, score: 0.776\n",
      "fold 9, score: 0.848\n",
      "\n",
      "Accuracy Score: 0.830\n",
      "\n",
      "Confusion Matrix\n",
      "[[546 132]\n",
      " [ 79 487]]\n",
      "\n",
      "Classification Report\n",
      "             precision    recall  f1-score   support\n",
      "\n",
      "          0       0.87      0.81      0.84       678\n",
      "          1       0.79      0.86      0.82       566\n",
      "\n",
      "avg / total       0.83      0.83      0.83      1244\n",
      "\n"
     ]
    }
   ],
   "source": [
    "clf = RandomForestClassifier()\n",
    "best_clf, best_score = cross_validate(Xtrain, ytrain, clf)\n",
    "scores[3, 3] = best_score\n",
    "test_report(best_clf, Xtest, ytest)\n",
    "save_model(best_clf, get_model_file(DATA_DIR, \"resnet50\", \"rf\"))"
   ]
  },
  {
   "cell_type": "markdown",
   "metadata": {},
   "source": [
    "# Xception"
   ]
  },
  {
   "cell_type": "code",
   "execution_count": 26,
   "metadata": {
    "collapsed": false
   },
   "outputs": [
    {
     "name": "stdout",
     "output_type": "stream",
     "text": [
      "(2900, 2048) (1244, 2048) (2900,) (1244,)\n"
     ]
    }
   ],
   "source": [
    "VECTOR_FILE = os.path.join(DATA_DIR, \"xception-vectors.tsv\")\n",
    "Xtrain, Xtest, ytrain, ytest = preprocess_data(VECTOR_FILE)\n",
    "print(Xtrain.shape, Xtest.shape, ytrain.shape, ytest.shape)"
   ]
  },
  {
   "cell_type": "markdown",
   "metadata": {},
   "source": [
    "## Naive Bayes"
   ]
  },
  {
   "cell_type": "code",
   "execution_count": 27,
   "metadata": {
    "collapsed": false
   },
   "outputs": [
    {
     "name": "stdout",
     "output_type": "stream",
     "text": [
      "fold 0, score: 0.914\n",
      "fold 1, score: 0.917\n",
      "fold 2, score: 0.917\n",
      "fold 3, score: 0.931\n",
      "fold 4, score: 0.924\n",
      "fold 5, score: 0.910\n",
      "fold 6, score: 0.903\n",
      "fold 7, score: 0.907\n",
      "fold 8, score: 0.924\n",
      "fold 9, score: 0.907\n",
      "\n",
      "Accuracy Score: 0.911\n",
      "\n",
      "Confusion Matrix\n",
      "[[590  71]\n",
      " [ 40 543]]\n",
      "\n",
      "Classification Report\n",
      "             precision    recall  f1-score   support\n",
      "\n",
      "          0       0.94      0.89      0.91       661\n",
      "          1       0.88      0.93      0.91       583\n",
      "\n",
      "avg / total       0.91      0.91      0.91      1244\n",
      "\n"
     ]
    }
   ],
   "source": [
    "clf = GaussianNB()\n",
    "best_clf, best_score = cross_validate(Xtrain, ytrain, clf)\n",
    "scores[4, 0] = best_score\n",
    "test_report(best_clf, Xtest, ytest)\n",
    "save_model(best_clf, get_model_file(DATA_DIR, \"xception\", \"nb\"))"
   ]
  },
  {
   "cell_type": "markdown",
   "metadata": {},
   "source": [
    "## SVM"
   ]
  },
  {
   "cell_type": "code",
   "execution_count": 28,
   "metadata": {
    "collapsed": false
   },
   "outputs": [
    {
     "name": "stdout",
     "output_type": "stream",
     "text": [
      "fold 0, score: 0.876\n",
      "fold 1, score: 0.897\n",
      "fold 2, score: 0.914\n",
      "fold 3, score: 0.890\n",
      "fold 4, score: 0.886\n",
      "fold 5, score: 0.886\n",
      "fold 6, score: 0.879\n",
      "fold 7, score: 0.893\n",
      "fold 8, score: 0.897\n",
      "fold 9, score: 0.903\n",
      "\n",
      "Accuracy Score: 0.890\n",
      "\n",
      "Confusion Matrix\n",
      "[[600 107]\n",
      " [ 30 507]]\n",
      "\n",
      "Classification Report\n",
      "             precision    recall  f1-score   support\n",
      "\n",
      "          0       0.95      0.85      0.90       707\n",
      "          1       0.83      0.94      0.88       537\n",
      "\n",
      "avg / total       0.90      0.89      0.89      1244\n",
      "\n"
     ]
    }
   ],
   "source": [
    "clf = LinearSVC()\n",
    "best_clf, best_score = cross_validate(Xtrain, ytrain, clf)\n",
    "scores[4, 1] = best_score\n",
    "test_report(best_clf, Xtest, ytest)\n",
    "save_model(best_clf, get_model_file(DATA_DIR, \"xception\", \"svm\"))"
   ]
  },
  {
   "cell_type": "markdown",
   "metadata": {},
   "source": [
    "## XGBoost"
   ]
  },
  {
   "cell_type": "code",
   "execution_count": 29,
   "metadata": {
    "collapsed": false
   },
   "outputs": [
    {
     "name": "stdout",
     "output_type": "stream",
     "text": [
      "fold 0, score: 0.897\n",
      "fold 1, score: 0.883\n",
      "fold 2, score: 0.903\n",
      "fold 3, score: 0.886\n",
      "fold 4, score: 0.879\n",
      "fold 5, score: 0.859\n",
      "fold 6, score: 0.900\n",
      "fold 7, score: 0.879\n",
      "fold 8, score: 0.862\n",
      "fold 9, score: 0.866\n",
      "\n",
      "Accuracy Score: 0.883\n",
      "\n",
      "Confusion Matrix\n",
      "[[580  95]\n",
      " [ 50 519]]\n",
      "\n",
      "Classification Report\n",
      "             precision    recall  f1-score   support\n",
      "\n",
      "          0       0.92      0.86      0.89       675\n",
      "          1       0.85      0.91      0.88       569\n",
      "\n",
      "avg / total       0.89      0.88      0.88      1244\n",
      "\n"
     ]
    }
   ],
   "source": [
    "clf = XGBClassifier()\n",
    "best_clf, best_score = cross_validate(Xtrain, ytrain, clf)\n",
    "scores[4, 2] = best_score\n",
    "test_report(best_clf, Xtest, ytest)\n",
    "save_model(best_clf, get_model_file(DATA_DIR, \"xception\", \"xgb\"))"
   ]
  },
  {
   "cell_type": "markdown",
   "metadata": {},
   "source": [
    "## Random Forest"
   ]
  },
  {
   "cell_type": "code",
   "execution_count": 30,
   "metadata": {
    "collapsed": false
   },
   "outputs": [
    {
     "name": "stdout",
     "output_type": "stream",
     "text": [
      "fold 0, score: 0.831\n",
      "fold 1, score: 0.838\n",
      "fold 2, score: 0.862\n",
      "fold 3, score: 0.834\n",
      "fold 4, score: 0.807\n",
      "fold 5, score: 0.821\n",
      "fold 6, score: 0.834\n",
      "fold 7, score: 0.834\n",
      "fold 8, score: 0.831\n",
      "fold 9, score: 0.831\n",
      "\n",
      "Accuracy Score: 0.830\n",
      "\n",
      "Confusion Matrix\n",
      "[[560 142]\n",
      " [ 70 472]]\n",
      "\n",
      "Classification Report\n",
      "             precision    recall  f1-score   support\n",
      "\n",
      "          0       0.89      0.80      0.84       702\n",
      "          1       0.77      0.87      0.82       542\n",
      "\n",
      "avg / total       0.84      0.83      0.83      1244\n",
      "\n"
     ]
    }
   ],
   "source": [
    "clf = RandomForestClassifier()\n",
    "best_clf, best_score = cross_validate(Xtrain, ytrain, clf)\n",
    "scores[4, 3] = best_score\n",
    "test_report(best_clf, Xtest, ytest)\n",
    "save_model(best_clf, get_model_file(DATA_DIR, \"xception\", \"rf\"))"
   ]
  },
  {
   "cell_type": "code",
   "execution_count": 31,
   "metadata": {
    "collapsed": false
   },
   "outputs": [
    {
     "data": {
      "text/plain": [
       "array([[ 0.88965517,  0.85172414,  0.94827586,  0.89310345],\n",
       "       [ 0.87586207,  0.83448276,  0.94137931,  0.90689655],\n",
       "       [ 0.91724138,  0.87586207,  0.96551724,  0.93448276],\n",
       "       [ 0.88275862,  0.86896552,  0.91034483,  0.87931034],\n",
       "       [ 0.93103448,  0.9137931 ,  0.90344828,  0.86206897]])"
      ]
     },
     "execution_count": 31,
     "metadata": {},
     "output_type": "execute_result"
    }
   ],
   "source": [
    "scores"
   ]
  },
  {
   "cell_type": "code",
   "execution_count": 32,
   "metadata": {
    "collapsed": false
   },
   "outputs": [
    {
     "data": {
      "text/plain": [
       "<matplotlib.text.Text at 0x7ff2b6d5b6d0>"
      ]
     },
     "execution_count": 32,
     "metadata": {},
     "output_type": "execute_result"
    },
    {
     "data": {
      "image/png": "[encoded data removed]",
      "text/plain": [
       "<matplotlib.figure.Figure at 0x7ff2b9480c90>"
      ]
     },
     "metadata": {},
     "output_type": "display_data"
    }
   ],
   "source": [
    "width=0.15\n",
    "plt.bar(np.arange(NUM_CLASSIFIERS), scores[0], width, color=\"r\", label=\"VGG-16\")\n",
    "plt.bar(np.arange(NUM_CLASSIFIERS)+width, scores[1], width, color=\"b\", label=\"VGG-19\")\n",
    "plt.bar(np.arange(NUM_CLASSIFIERS)+2*width, scores[2], width, color=\"g\", label=\"Inception-V3\")\n",
    "plt.bar(np.arange(NUM_CLASSIFIERS)+3*width, scores[3], width, color=\"y\", label=\"ResNet-50\")\n",
    "plt.bar(np.arange(NUM_CLASSIFIERS)+4*width, scores[4], width, color=\"cyan\", label=\"XCeption\")\n",
    "plt.legend(loc=4)\n",
    "plt.ylabel(\"accuracy\")\n",
    "plt.xticks(np.arange(NUM_CLASSIFIERS)+2*width, [\"NaiveBayes\", \"SvM\", \"XGBoost\", \"RandomForest\"],\n",
    "          rotation=30)\n",
    "plt.title(\"element-wise dot product of vectors\")"
   ]
  },
  {
   "cell_type": "code",
   "execution_count": null,
   "metadata": {
    "collapsed": true
   },
   "outputs": [],
   "source": []
  }
 ],
 "metadata": {
  "anaconda-cloud": {},
  "kernelspec": {
   "display_name": "Python [conda root]",
   "language": "python",
   "name": "conda-root-py"
  },
  "language_info": {
   "codemirror_mode": {
    "name": "ipython",
    "version": 2
   },
   "file_extension": ".py",
   "mimetype": "text/x-python",
   "name": "python",
   "nbconvert_exporter": "python",
   "pygments_lexer": "ipython2",
   "version": "2.7.12"
  }
 },
 "nbformat": 4,
 "nbformat_minor": 2
}
