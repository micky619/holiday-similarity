{
 "cells": [
  {
   "cell_type": "code",
   "execution_count": 1,
   "metadata": {},
   "outputs": [],
   "source": [
    "import os \n",
    "import shutil \n",
    "from shutil import copyfile\n",
    "from os import listdir\n",
    "from os.path import isfile, isdir, join"
   ]
  },
  {
   "cell_type": "code",
   "execution_count": 2,
   "metadata": {},
   "outputs": [
    {
     "data": {
      "text/plain": [
       "'/home/ubuntu/siamese'"
      ]
     },
     "execution_count": 2,
     "metadata": {},
     "output_type": "execute_result"
    }
   ],
   "source": [
    "os.getcwd()"
   ]
  },
  {
   "cell_type": "code",
   "execution_count": 3,
   "metadata": {},
   "outputs": [],
   "source": [
    "path = '/home/ubuntu/siamese/Pass' \n",
    "new_path = '/home/ubuntu/siamese/new_train_folder/' "
   ]
  },
  {
   "cell_type": "code",
   "execution_count": 4,
   "metadata": {},
   "outputs": [],
   "source": [
    "j = 0\n",
    "\n",
    "for root, dirs, files in os.walk(path): \n",
    "#     if len(dirs) != 0: \n",
    "        for i in range(len(files)): \n",
    "            if files[i][-3:] == 'jpg': \n",
    "                file_path = root+'/'+files[i] \n",
    "                sourcename = file_path\n",
    "\n",
    "                j = j + 1\n",
    "\n",
    "                targetname =new_path + '18' + str(j).zfill(4) + '.jpg'\n",
    "#                 print(sourcename)\n",
    "                print(targetname)\n",
    "\n",
    "                copyfile(sourcename,targetname)"
   ]
  }
 ],
 "metadata": {
  "kernelspec": {
   "display_name": "Python 2",
   "language": "python",
   "name": "python2"
  },
  "language_info": {
   "codemirror_mode": {
    "name": "ipython",
    "version": 2
   },
   "file_extension": ".py",
   "mimetype": "text/x-python",
   "name": "python",
   "nbconvert_exporter": "python",
   "pygments_lexer": "ipython2",
   "version": "2.7.12"
  }
 },
 "nbformat": 4,
 "nbformat_minor": 2
}
